{
 "cells": [
  {
   "cell_type": "code",
   "execution_count": 4,
   "metadata": {},
   "outputs": [],
   "source": [
    "import pandas as pd"
   ]
  },
  {
   "cell_type": "code",
   "execution_count": 5,
   "metadata": {},
   "outputs": [],
   "source": [
    "df = pd.read_csv('peptide-detail.csv')"
   ]
  },
  {
   "cell_type": "code",
   "execution_count": 6,
   "metadata": {},
   "outputs": [
    {
     "data": {
      "text/html": [
       "<div>\n",
       "<style scoped>\n",
       "    .dataframe tbody tr th:only-of-type {\n",
       "        vertical-align: middle;\n",
       "    }\n",
       "\n",
       "    .dataframe tbody tr th {\n",
       "        vertical-align: top;\n",
       "    }\n",
       "\n",
       "    .dataframe thead th {\n",
       "        text-align: right;\n",
       "    }\n",
       "</style>\n",
       "<table border=\"1\" class=\"dataframe\">\n",
       "  <thead>\n",
       "    <tr style=\"text-align: right;\">\n",
       "      <th></th>\n",
       "      <th>TCR BioIdentity</th>\n",
       "      <th>TCR Nucleotide Sequence</th>\n",
       "      <th>Experiment</th>\n",
       "      <th>ORF Coverage</th>\n",
       "      <th>Amino Acids</th>\n",
       "      <th>Start Index in Genome</th>\n",
       "      <th>End Index in Genome</th>\n",
       "    </tr>\n",
       "  </thead>\n",
       "  <tbody>\n",
       "    <tr>\n",
       "      <td>0</td>\n",
       "      <td>CASSAQGTGDRGYTF+TCRBV27-01+TCRBJ01-02</td>\n",
       "      <td>GAGTCGCCCAGCCCCAACCAGACCTCTCTGTACTTCTGTGCCAGCA...</td>\n",
       "      <td>eAV93</td>\n",
       "      <td>ORF1ab,surface glycoprotein</td>\n",
       "      <td>ADAGFIKQY,AELEGIQY,LADAGFIKQY,TLADAGFIK</td>\n",
       "      <td>533</td>\n",
       "      <td>24073</td>\n",
       "    </tr>\n",
       "    <tr>\n",
       "      <td>1</td>\n",
       "      <td>CASSQGGRLNTEAFF+TCRBV04-01+TCRBJ01-01</td>\n",
       "      <td>CACGCCCTGCAGCCAGAAGACTCAGCCCTGTATCTCTGCGCCAGCA...</td>\n",
       "      <td>eEE228</td>\n",
       "      <td>ORF1ab,surface glycoprotein</td>\n",
       "      <td>ADAGFIKQY,AELEGIQY,LADAGFIKQY,TLADAGFIK</td>\n",
       "      <td>533</td>\n",
       "      <td>24073</td>\n",
       "    </tr>\n",
       "    <tr>\n",
       "      <td>2</td>\n",
       "      <td>CASSKGTVSGLSG+TCRBV21-01+TCRBJ02-07</td>\n",
       "      <td>GAGATCCAGTCCACGGAGTCAGGGGACACAGCACTGTATTTCTGTG...</td>\n",
       "      <td>eAV93</td>\n",
       "      <td>ORF1ab,surface glycoprotein</td>\n",
       "      <td>ADAGFIKQY,AELEGIQY,LADAGFIKQY,TLADAGFIK</td>\n",
       "      <td>533</td>\n",
       "      <td>24073</td>\n",
       "    </tr>\n",
       "    <tr>\n",
       "      <td>3</td>\n",
       "      <td>CASSPSQREGSEQYF+TCRBV09-01+TCRBJ02-07</td>\n",
       "      <td>AGCTCTCTGGAGCTGGGGGACTCAGCTTTGTATTTCTGTGCCAGCA...</td>\n",
       "      <td>eEE228</td>\n",
       "      <td>ORF1ab,surface glycoprotein</td>\n",
       "      <td>ADAGFIKQY,AELEGIQY,LADAGFIKQY,TLADAGFIK</td>\n",
       "      <td>533</td>\n",
       "      <td>24073</td>\n",
       "    </tr>\n",
       "    <tr>\n",
       "      <td>4</td>\n",
       "      <td>CASSLWKSGQGGVETQYF+TCRBV27-01+TCRBJ02-05</td>\n",
       "      <td>AGCCCCAACCAGACCTCTCTGTACTTCTGTGCCAGCAGTTTATGGA...</td>\n",
       "      <td>eAV93</td>\n",
       "      <td>ORF1ab,surface glycoprotein</td>\n",
       "      <td>ADAGFIKQY,AELEGIQY,LADAGFIKQY,TLADAGFIK</td>\n",
       "      <td>533</td>\n",
       "      <td>24073</td>\n",
       "    </tr>\n",
       "    <tr>\n",
       "      <td>...</td>\n",
       "      <td>...</td>\n",
       "      <td>...</td>\n",
       "      <td>...</td>\n",
       "      <td>...</td>\n",
       "      <td>...</td>\n",
       "      <td>...</td>\n",
       "      <td>...</td>\n",
       "    </tr>\n",
       "    <tr>\n",
       "      <td>133882</td>\n",
       "      <td>CASSKRDSQETQYF+TCRBV07-09+TCRBJ02-05</td>\n",
       "      <td>ATCCAGCGCACAGAGCAGGGGGACTCGGCCATGTATCTCTGTGCCA...</td>\n",
       "      <td>eDH105</td>\n",
       "      <td>ORF10</td>\n",
       "      <td>AQVDVVNFNL,NYIAQVDVV</td>\n",
       "      <td>29630</td>\n",
       "      <td>29668</td>\n",
       "    </tr>\n",
       "    <tr>\n",
       "      <td>133883</td>\n",
       "      <td>CASSEIDRAEQYF+TCRBV07-09+TCRBJ02-07</td>\n",
       "      <td>GAGATCCAGCGCACAGAGCAGGGGGACTCGGCCATGTATCTCTGTG...</td>\n",
       "      <td>ePD76</td>\n",
       "      <td>ORF10</td>\n",
       "      <td>AQVDVVNFNL,NYIAQVDVV</td>\n",
       "      <td>29630</td>\n",
       "      <td>29668</td>\n",
       "    </tr>\n",
       "    <tr>\n",
       "      <td>133884</td>\n",
       "      <td>CASSPGDNEQFF+TCRBV09-01+TCRBJ02-01</td>\n",
       "      <td>CTAAACCTGAGCTCTCTGGAGCTGGGGGACTCAGCTTTGTATTTCT...</td>\n",
       "      <td>eEE224</td>\n",
       "      <td>ORF10</td>\n",
       "      <td>AQVDVVNFNL,NYIAQVDVV</td>\n",
       "      <td>29630</td>\n",
       "      <td>29668</td>\n",
       "    </tr>\n",
       "    <tr>\n",
       "      <td>133885</td>\n",
       "      <td>CASSPRLVSYNEQFF+TCRBV09-01+TCRBJ02-01</td>\n",
       "      <td>AGCTCTCTGGAGCTGGGGGACTCAGCTTTGTATTTCTGTGCCAGCA...</td>\n",
       "      <td>eOX54</td>\n",
       "      <td>ORF10</td>\n",
       "      <td>AQVDVVNFNL,NYIAQVDVV</td>\n",
       "      <td>29630</td>\n",
       "      <td>29668</td>\n",
       "    </tr>\n",
       "    <tr>\n",
       "      <td>133886</td>\n",
       "      <td>CASSLDRGNAYEQYF+TCRBV02-01+TCRBJ02-07</td>\n",
       "      <td>CGGTCCACAAAGCTGGAGGACTCAGCCATGTACTTCTGTGCCAGCA...</td>\n",
       "      <td>eEE224</td>\n",
       "      <td>ORF10</td>\n",
       "      <td>AQVDVVNFNL,NYIAQVDVV</td>\n",
       "      <td>29630</td>\n",
       "      <td>29668</td>\n",
       "    </tr>\n",
       "  </tbody>\n",
       "</table>\n",
       "<p>133887 rows × 7 columns</p>\n",
       "</div>"
      ],
      "text/plain": [
       "                                 TCR BioIdentity  \\\n",
       "0          CASSAQGTGDRGYTF+TCRBV27-01+TCRBJ01-02   \n",
       "1          CASSQGGRLNTEAFF+TCRBV04-01+TCRBJ01-01   \n",
       "2            CASSKGTVSGLSG+TCRBV21-01+TCRBJ02-07   \n",
       "3          CASSPSQREGSEQYF+TCRBV09-01+TCRBJ02-07   \n",
       "4       CASSLWKSGQGGVETQYF+TCRBV27-01+TCRBJ02-05   \n",
       "...                                          ...   \n",
       "133882      CASSKRDSQETQYF+TCRBV07-09+TCRBJ02-05   \n",
       "133883       CASSEIDRAEQYF+TCRBV07-09+TCRBJ02-07   \n",
       "133884        CASSPGDNEQFF+TCRBV09-01+TCRBJ02-01   \n",
       "133885     CASSPRLVSYNEQFF+TCRBV09-01+TCRBJ02-01   \n",
       "133886     CASSLDRGNAYEQYF+TCRBV02-01+TCRBJ02-07   \n",
       "\n",
       "                                  TCR Nucleotide Sequence Experiment  \\\n",
       "0       GAGTCGCCCAGCCCCAACCAGACCTCTCTGTACTTCTGTGCCAGCA...      eAV93   \n",
       "1       CACGCCCTGCAGCCAGAAGACTCAGCCCTGTATCTCTGCGCCAGCA...     eEE228   \n",
       "2       GAGATCCAGTCCACGGAGTCAGGGGACACAGCACTGTATTTCTGTG...      eAV93   \n",
       "3       AGCTCTCTGGAGCTGGGGGACTCAGCTTTGTATTTCTGTGCCAGCA...     eEE228   \n",
       "4       AGCCCCAACCAGACCTCTCTGTACTTCTGTGCCAGCAGTTTATGGA...      eAV93   \n",
       "...                                                   ...        ...   \n",
       "133882  ATCCAGCGCACAGAGCAGGGGGACTCGGCCATGTATCTCTGTGCCA...     eDH105   \n",
       "133883  GAGATCCAGCGCACAGAGCAGGGGGACTCGGCCATGTATCTCTGTG...      ePD76   \n",
       "133884  CTAAACCTGAGCTCTCTGGAGCTGGGGGACTCAGCTTTGTATTTCT...     eEE224   \n",
       "133885  AGCTCTCTGGAGCTGGGGGACTCAGCTTTGTATTTCTGTGCCAGCA...      eOX54   \n",
       "133886  CGGTCCACAAAGCTGGAGGACTCAGCCATGTACTTCTGTGCCAGCA...     eEE224   \n",
       "\n",
       "                       ORF Coverage                              Amino Acids  \\\n",
       "0       ORF1ab,surface glycoprotein  ADAGFIKQY,AELEGIQY,LADAGFIKQY,TLADAGFIK   \n",
       "1       ORF1ab,surface glycoprotein  ADAGFIKQY,AELEGIQY,LADAGFIKQY,TLADAGFIK   \n",
       "2       ORF1ab,surface glycoprotein  ADAGFIKQY,AELEGIQY,LADAGFIKQY,TLADAGFIK   \n",
       "3       ORF1ab,surface glycoprotein  ADAGFIKQY,AELEGIQY,LADAGFIKQY,TLADAGFIK   \n",
       "4       ORF1ab,surface glycoprotein  ADAGFIKQY,AELEGIQY,LADAGFIKQY,TLADAGFIK   \n",
       "...                             ...                                      ...   \n",
       "133882                        ORF10                     AQVDVVNFNL,NYIAQVDVV   \n",
       "133883                        ORF10                     AQVDVVNFNL,NYIAQVDVV   \n",
       "133884                        ORF10                     AQVDVVNFNL,NYIAQVDVV   \n",
       "133885                        ORF10                     AQVDVVNFNL,NYIAQVDVV   \n",
       "133886                        ORF10                     AQVDVVNFNL,NYIAQVDVV   \n",
       "\n",
       "        Start Index in Genome  End Index in Genome  \n",
       "0                         533                24073  \n",
       "1                         533                24073  \n",
       "2                         533                24073  \n",
       "3                         533                24073  \n",
       "4                         533                24073  \n",
       "...                       ...                  ...  \n",
       "133882                  29630                29668  \n",
       "133883                  29630                29668  \n",
       "133884                  29630                29668  \n",
       "133885                  29630                29668  \n",
       "133886                  29630                29668  \n",
       "\n",
       "[133887 rows x 7 columns]"
      ]
     },
     "execution_count": 6,
     "metadata": {},
     "output_type": "execute_result"
    }
   ],
   "source": [
    "df"
   ]
  },
  {
   "cell_type": "code",
   "execution_count": 7,
   "metadata": {},
   "outputs": [
    {
     "data": {
      "text/html": [
       "<div>\n",
       "<style scoped>\n",
       "    .dataframe tbody tr th:only-of-type {\n",
       "        vertical-align: middle;\n",
       "    }\n",
       "\n",
       "    .dataframe tbody tr th {\n",
       "        vertical-align: top;\n",
       "    }\n",
       "\n",
       "    .dataframe thead th {\n",
       "        text-align: right;\n",
       "    }\n",
       "</style>\n",
       "<table border=\"1\" class=\"dataframe\">\n",
       "  <thead>\n",
       "    <tr style=\"text-align: right;\">\n",
       "      <th></th>\n",
       "      <th>TCR BioIdentity</th>\n",
       "      <th>Amino Acids</th>\n",
       "    </tr>\n",
       "  </thead>\n",
       "  <tbody>\n",
       "    <tr>\n",
       "      <td>0</td>\n",
       "      <td>CASSAQGTGDRGYTF+TCRBV27-01+TCRBJ01-02</td>\n",
       "      <td>ADAGFIKQY,AELEGIQY,LADAGFIKQY,TLADAGFIK</td>\n",
       "    </tr>\n",
       "    <tr>\n",
       "      <td>1</td>\n",
       "      <td>CASSQGGRLNTEAFF+TCRBV04-01+TCRBJ01-01</td>\n",
       "      <td>ADAGFIKQY,AELEGIQY,LADAGFIKQY,TLADAGFIK</td>\n",
       "    </tr>\n",
       "    <tr>\n",
       "      <td>2</td>\n",
       "      <td>CASSKGTVSGLSG+TCRBV21-01+TCRBJ02-07</td>\n",
       "      <td>ADAGFIKQY,AELEGIQY,LADAGFIKQY,TLADAGFIK</td>\n",
       "    </tr>\n",
       "    <tr>\n",
       "      <td>3</td>\n",
       "      <td>CASSPSQREGSEQYF+TCRBV09-01+TCRBJ02-07</td>\n",
       "      <td>ADAGFIKQY,AELEGIQY,LADAGFIKQY,TLADAGFIK</td>\n",
       "    </tr>\n",
       "    <tr>\n",
       "      <td>4</td>\n",
       "      <td>CASSLWKSGQGGVETQYF+TCRBV27-01+TCRBJ02-05</td>\n",
       "      <td>ADAGFIKQY,AELEGIQY,LADAGFIKQY,TLADAGFIK</td>\n",
       "    </tr>\n",
       "    <tr>\n",
       "      <td>...</td>\n",
       "      <td>...</td>\n",
       "      <td>...</td>\n",
       "    </tr>\n",
       "    <tr>\n",
       "      <td>133882</td>\n",
       "      <td>CASSKRDSQETQYF+TCRBV07-09+TCRBJ02-05</td>\n",
       "      <td>AQVDVVNFNL,NYIAQVDVV</td>\n",
       "    </tr>\n",
       "    <tr>\n",
       "      <td>133883</td>\n",
       "      <td>CASSEIDRAEQYF+TCRBV07-09+TCRBJ02-07</td>\n",
       "      <td>AQVDVVNFNL,NYIAQVDVV</td>\n",
       "    </tr>\n",
       "    <tr>\n",
       "      <td>133884</td>\n",
       "      <td>CASSPGDNEQFF+TCRBV09-01+TCRBJ02-01</td>\n",
       "      <td>AQVDVVNFNL,NYIAQVDVV</td>\n",
       "    </tr>\n",
       "    <tr>\n",
       "      <td>133885</td>\n",
       "      <td>CASSPRLVSYNEQFF+TCRBV09-01+TCRBJ02-01</td>\n",
       "      <td>AQVDVVNFNL,NYIAQVDVV</td>\n",
       "    </tr>\n",
       "    <tr>\n",
       "      <td>133886</td>\n",
       "      <td>CASSLDRGNAYEQYF+TCRBV02-01+TCRBJ02-07</td>\n",
       "      <td>AQVDVVNFNL,NYIAQVDVV</td>\n",
       "    </tr>\n",
       "  </tbody>\n",
       "</table>\n",
       "<p>133887 rows × 2 columns</p>\n",
       "</div>"
      ],
      "text/plain": [
       "                                 TCR BioIdentity  \\\n",
       "0          CASSAQGTGDRGYTF+TCRBV27-01+TCRBJ01-02   \n",
       "1          CASSQGGRLNTEAFF+TCRBV04-01+TCRBJ01-01   \n",
       "2            CASSKGTVSGLSG+TCRBV21-01+TCRBJ02-07   \n",
       "3          CASSPSQREGSEQYF+TCRBV09-01+TCRBJ02-07   \n",
       "4       CASSLWKSGQGGVETQYF+TCRBV27-01+TCRBJ02-05   \n",
       "...                                          ...   \n",
       "133882      CASSKRDSQETQYF+TCRBV07-09+TCRBJ02-05   \n",
       "133883       CASSEIDRAEQYF+TCRBV07-09+TCRBJ02-07   \n",
       "133884        CASSPGDNEQFF+TCRBV09-01+TCRBJ02-01   \n",
       "133885     CASSPRLVSYNEQFF+TCRBV09-01+TCRBJ02-01   \n",
       "133886     CASSLDRGNAYEQYF+TCRBV02-01+TCRBJ02-07   \n",
       "\n",
       "                                    Amino Acids  \n",
       "0       ADAGFIKQY,AELEGIQY,LADAGFIKQY,TLADAGFIK  \n",
       "1       ADAGFIKQY,AELEGIQY,LADAGFIKQY,TLADAGFIK  \n",
       "2       ADAGFIKQY,AELEGIQY,LADAGFIKQY,TLADAGFIK  \n",
       "3       ADAGFIKQY,AELEGIQY,LADAGFIKQY,TLADAGFIK  \n",
       "4       ADAGFIKQY,AELEGIQY,LADAGFIKQY,TLADAGFIK  \n",
       "...                                         ...  \n",
       "133882                     AQVDVVNFNL,NYIAQVDVV  \n",
       "133883                     AQVDVVNFNL,NYIAQVDVV  \n",
       "133884                     AQVDVVNFNL,NYIAQVDVV  \n",
       "133885                     AQVDVVNFNL,NYIAQVDVV  \n",
       "133886                     AQVDVVNFNL,NYIAQVDVV  \n",
       "\n",
       "[133887 rows x 2 columns]"
      ]
     },
     "execution_count": 7,
     "metadata": {},
     "output_type": "execute_result"
    }
   ],
   "source": [
    "df[['TCR BioIdentity','Amino Acids']]"
   ]
  },
  {
   "cell_type": "code",
   "execution_count": 8,
   "metadata": {},
   "outputs": [],
   "source": [
    "df_empty = pd.DataFrame(columns=['A', 'B', 'C']) "
   ]
  },
  {
   "cell_type": "code",
   "execution_count": 9,
   "metadata": {},
   "outputs": [
    {
     "data": {
      "text/html": [
       "<div>\n",
       "<style scoped>\n",
       "    .dataframe tbody tr th:only-of-type {\n",
       "        vertical-align: middle;\n",
       "    }\n",
       "\n",
       "    .dataframe tbody tr th {\n",
       "        vertical-align: top;\n",
       "    }\n",
       "\n",
       "    .dataframe thead th {\n",
       "        text-align: right;\n",
       "    }\n",
       "</style>\n",
       "<table border=\"1\" class=\"dataframe\">\n",
       "  <thead>\n",
       "    <tr style=\"text-align: right;\">\n",
       "      <th></th>\n",
       "      <th>A</th>\n",
       "      <th>B</th>\n",
       "      <th>C</th>\n",
       "    </tr>\n",
       "  </thead>\n",
       "  <tbody>\n",
       "  </tbody>\n",
       "</table>\n",
       "</div>"
      ],
      "text/plain": [
       "Empty DataFrame\n",
       "Columns: [A, B, C]\n",
       "Index: []"
      ]
     },
     "execution_count": 9,
     "metadata": {},
     "output_type": "execute_result"
    }
   ],
   "source": [
    "df_empty"
   ]
  },
  {
   "cell_type": "code",
   "execution_count": 10,
   "metadata": {},
   "outputs": [],
   "source": [
    "df_empty[['CDR3_beta', 'TRBV_gene', 'TRBJ_gene']] = df['TCR BioIdentity'].str.split('+', 2, expand = True)"
   ]
  },
  {
   "cell_type": "code",
   "execution_count": 11,
   "metadata": {},
   "outputs": [],
   "source": [
    "y=df_empty[['CDR3_beta', 'TRBV_gene', 'TRBJ_gene']]"
   ]
  },
  {
   "cell_type": "code",
   "execution_count": 12,
   "metadata": {},
   "outputs": [
    {
     "data": {
      "text/html": [
       "<div>\n",
       "<style scoped>\n",
       "    .dataframe tbody tr th:only-of-type {\n",
       "        vertical-align: middle;\n",
       "    }\n",
       "\n",
       "    .dataframe tbody tr th {\n",
       "        vertical-align: top;\n",
       "    }\n",
       "\n",
       "    .dataframe thead th {\n",
       "        text-align: right;\n",
       "    }\n",
       "</style>\n",
       "<table border=\"1\" class=\"dataframe\">\n",
       "  <thead>\n",
       "    <tr style=\"text-align: right;\">\n",
       "      <th></th>\n",
       "      <th>CDR3_beta</th>\n",
       "      <th>TRBV_gene</th>\n",
       "      <th>TRBJ_gene</th>\n",
       "    </tr>\n",
       "  </thead>\n",
       "  <tbody>\n",
       "    <tr>\n",
       "      <td>0</td>\n",
       "      <td>CASSAQGTGDRGYTF</td>\n",
       "      <td>TCRBV27-01</td>\n",
       "      <td>TCRBJ01-02</td>\n",
       "    </tr>\n",
       "    <tr>\n",
       "      <td>1</td>\n",
       "      <td>CASSQGGRLNTEAFF</td>\n",
       "      <td>TCRBV04-01</td>\n",
       "      <td>TCRBJ01-01</td>\n",
       "    </tr>\n",
       "    <tr>\n",
       "      <td>2</td>\n",
       "      <td>CASSKGTVSGLSG</td>\n",
       "      <td>TCRBV21-01</td>\n",
       "      <td>TCRBJ02-07</td>\n",
       "    </tr>\n",
       "    <tr>\n",
       "      <td>3</td>\n",
       "      <td>CASSPSQREGSEQYF</td>\n",
       "      <td>TCRBV09-01</td>\n",
       "      <td>TCRBJ02-07</td>\n",
       "    </tr>\n",
       "    <tr>\n",
       "      <td>4</td>\n",
       "      <td>CASSLWKSGQGGVETQYF</td>\n",
       "      <td>TCRBV27-01</td>\n",
       "      <td>TCRBJ02-05</td>\n",
       "    </tr>\n",
       "    <tr>\n",
       "      <td>...</td>\n",
       "      <td>...</td>\n",
       "      <td>...</td>\n",
       "      <td>...</td>\n",
       "    </tr>\n",
       "    <tr>\n",
       "      <td>133882</td>\n",
       "      <td>CASSKRDSQETQYF</td>\n",
       "      <td>TCRBV07-09</td>\n",
       "      <td>TCRBJ02-05</td>\n",
       "    </tr>\n",
       "    <tr>\n",
       "      <td>133883</td>\n",
       "      <td>CASSEIDRAEQYF</td>\n",
       "      <td>TCRBV07-09</td>\n",
       "      <td>TCRBJ02-07</td>\n",
       "    </tr>\n",
       "    <tr>\n",
       "      <td>133884</td>\n",
       "      <td>CASSPGDNEQFF</td>\n",
       "      <td>TCRBV09-01</td>\n",
       "      <td>TCRBJ02-01</td>\n",
       "    </tr>\n",
       "    <tr>\n",
       "      <td>133885</td>\n",
       "      <td>CASSPRLVSYNEQFF</td>\n",
       "      <td>TCRBV09-01</td>\n",
       "      <td>TCRBJ02-01</td>\n",
       "    </tr>\n",
       "    <tr>\n",
       "      <td>133886</td>\n",
       "      <td>CASSLDRGNAYEQYF</td>\n",
       "      <td>TCRBV02-01</td>\n",
       "      <td>TCRBJ02-07</td>\n",
       "    </tr>\n",
       "  </tbody>\n",
       "</table>\n",
       "<p>133887 rows × 3 columns</p>\n",
       "</div>"
      ],
      "text/plain": [
       "                 CDR3_beta   TRBV_gene   TRBJ_gene\n",
       "0          CASSAQGTGDRGYTF  TCRBV27-01  TCRBJ01-02\n",
       "1          CASSQGGRLNTEAFF  TCRBV04-01  TCRBJ01-01\n",
       "2            CASSKGTVSGLSG  TCRBV21-01  TCRBJ02-07\n",
       "3          CASSPSQREGSEQYF  TCRBV09-01  TCRBJ02-07\n",
       "4       CASSLWKSGQGGVETQYF  TCRBV27-01  TCRBJ02-05\n",
       "...                    ...         ...         ...\n",
       "133882      CASSKRDSQETQYF  TCRBV07-09  TCRBJ02-05\n",
       "133883       CASSEIDRAEQYF  TCRBV07-09  TCRBJ02-07\n",
       "133884        CASSPGDNEQFF  TCRBV09-01  TCRBJ02-01\n",
       "133885     CASSPRLVSYNEQFF  TCRBV09-01  TCRBJ02-01\n",
       "133886     CASSLDRGNAYEQYF  TCRBV02-01  TCRBJ02-07\n",
       "\n",
       "[133887 rows x 3 columns]"
      ]
     },
     "execution_count": 12,
     "metadata": {},
     "output_type": "execute_result"
    }
   ],
   "source": [
    "y"
   ]
  },
  {
   "cell_type": "code",
   "execution_count": 13,
   "metadata": {},
   "outputs": [
    {
     "name": "stderr",
     "output_type": "stream",
     "text": [
      "/Users/zhangzhiwen/opt/anaconda3/lib/python3.7/site-packages/pandas/core/indexing.py:376: SettingWithCopyWarning: \n",
      "A value is trying to be set on a copy of a slice from a DataFrame.\n",
      "Try using .loc[row_indexer,col_indexer] = value instead\n",
      "\n",
      "See the caveats in the documentation: http://pandas.pydata.org/pandas-docs/stable/user_guide/indexing.html#returning-a-view-versus-a-copy\n",
      "  self.obj[key] = _infer_fill_value(value)\n",
      "/Users/zhangzhiwen/opt/anaconda3/lib/python3.7/site-packages/pandas/core/indexing.py:494: SettingWithCopyWarning: \n",
      "A value is trying to be set on a copy of a slice from a DataFrame.\n",
      "Try using .loc[row_indexer,col_indexer] = value instead\n",
      "\n",
      "See the caveats in the documentation: http://pandas.pydata.org/pandas-docs/stable/user_guide/indexing.html#returning-a-view-versus-a-copy\n",
      "  self.obj[item] = s\n"
     ]
    }
   ],
   "source": [
    "y.loc[:,'Amino Acids'] = df['Amino Acids']"
   ]
  },
  {
   "cell_type": "code",
   "execution_count": 14,
   "metadata": {},
   "outputs": [
    {
     "data": {
      "text/html": [
       "<div>\n",
       "<style scoped>\n",
       "    .dataframe tbody tr th:only-of-type {\n",
       "        vertical-align: middle;\n",
       "    }\n",
       "\n",
       "    .dataframe tbody tr th {\n",
       "        vertical-align: top;\n",
       "    }\n",
       "\n",
       "    .dataframe thead th {\n",
       "        text-align: right;\n",
       "    }\n",
       "</style>\n",
       "<table border=\"1\" class=\"dataframe\">\n",
       "  <thead>\n",
       "    <tr style=\"text-align: right;\">\n",
       "      <th></th>\n",
       "      <th>CDR3_beta</th>\n",
       "      <th>TRBV_gene</th>\n",
       "      <th>TRBJ_gene</th>\n",
       "      <th>Amino Acids</th>\n",
       "    </tr>\n",
       "  </thead>\n",
       "  <tbody>\n",
       "    <tr>\n",
       "      <td>0</td>\n",
       "      <td>CASSAQGTGDRGYTF</td>\n",
       "      <td>TCRBV27-01</td>\n",
       "      <td>TCRBJ01-02</td>\n",
       "      <td>ADAGFIKQY,AELEGIQY,LADAGFIKQY,TLADAGFIK</td>\n",
       "    </tr>\n",
       "    <tr>\n",
       "      <td>1</td>\n",
       "      <td>CASSQGGRLNTEAFF</td>\n",
       "      <td>TCRBV04-01</td>\n",
       "      <td>TCRBJ01-01</td>\n",
       "      <td>ADAGFIKQY,AELEGIQY,LADAGFIKQY,TLADAGFIK</td>\n",
       "    </tr>\n",
       "    <tr>\n",
       "      <td>2</td>\n",
       "      <td>CASSKGTVSGLSG</td>\n",
       "      <td>TCRBV21-01</td>\n",
       "      <td>TCRBJ02-07</td>\n",
       "      <td>ADAGFIKQY,AELEGIQY,LADAGFIKQY,TLADAGFIK</td>\n",
       "    </tr>\n",
       "    <tr>\n",
       "      <td>3</td>\n",
       "      <td>CASSPSQREGSEQYF</td>\n",
       "      <td>TCRBV09-01</td>\n",
       "      <td>TCRBJ02-07</td>\n",
       "      <td>ADAGFIKQY,AELEGIQY,LADAGFIKQY,TLADAGFIK</td>\n",
       "    </tr>\n",
       "    <tr>\n",
       "      <td>4</td>\n",
       "      <td>CASSLWKSGQGGVETQYF</td>\n",
       "      <td>TCRBV27-01</td>\n",
       "      <td>TCRBJ02-05</td>\n",
       "      <td>ADAGFIKQY,AELEGIQY,LADAGFIKQY,TLADAGFIK</td>\n",
       "    </tr>\n",
       "    <tr>\n",
       "      <td>...</td>\n",
       "      <td>...</td>\n",
       "      <td>...</td>\n",
       "      <td>...</td>\n",
       "      <td>...</td>\n",
       "    </tr>\n",
       "    <tr>\n",
       "      <td>133882</td>\n",
       "      <td>CASSKRDSQETQYF</td>\n",
       "      <td>TCRBV07-09</td>\n",
       "      <td>TCRBJ02-05</td>\n",
       "      <td>AQVDVVNFNL,NYIAQVDVV</td>\n",
       "    </tr>\n",
       "    <tr>\n",
       "      <td>133883</td>\n",
       "      <td>CASSEIDRAEQYF</td>\n",
       "      <td>TCRBV07-09</td>\n",
       "      <td>TCRBJ02-07</td>\n",
       "      <td>AQVDVVNFNL,NYIAQVDVV</td>\n",
       "    </tr>\n",
       "    <tr>\n",
       "      <td>133884</td>\n",
       "      <td>CASSPGDNEQFF</td>\n",
       "      <td>TCRBV09-01</td>\n",
       "      <td>TCRBJ02-01</td>\n",
       "      <td>AQVDVVNFNL,NYIAQVDVV</td>\n",
       "    </tr>\n",
       "    <tr>\n",
       "      <td>133885</td>\n",
       "      <td>CASSPRLVSYNEQFF</td>\n",
       "      <td>TCRBV09-01</td>\n",
       "      <td>TCRBJ02-01</td>\n",
       "      <td>AQVDVVNFNL,NYIAQVDVV</td>\n",
       "    </tr>\n",
       "    <tr>\n",
       "      <td>133886</td>\n",
       "      <td>CASSLDRGNAYEQYF</td>\n",
       "      <td>TCRBV02-01</td>\n",
       "      <td>TCRBJ02-07</td>\n",
       "      <td>AQVDVVNFNL,NYIAQVDVV</td>\n",
       "    </tr>\n",
       "  </tbody>\n",
       "</table>\n",
       "<p>133887 rows × 4 columns</p>\n",
       "</div>"
      ],
      "text/plain": [
       "                 CDR3_beta   TRBV_gene   TRBJ_gene  \\\n",
       "0          CASSAQGTGDRGYTF  TCRBV27-01  TCRBJ01-02   \n",
       "1          CASSQGGRLNTEAFF  TCRBV04-01  TCRBJ01-01   \n",
       "2            CASSKGTVSGLSG  TCRBV21-01  TCRBJ02-07   \n",
       "3          CASSPSQREGSEQYF  TCRBV09-01  TCRBJ02-07   \n",
       "4       CASSLWKSGQGGVETQYF  TCRBV27-01  TCRBJ02-05   \n",
       "...                    ...         ...         ...   \n",
       "133882      CASSKRDSQETQYF  TCRBV07-09  TCRBJ02-05   \n",
       "133883       CASSEIDRAEQYF  TCRBV07-09  TCRBJ02-07   \n",
       "133884        CASSPGDNEQFF  TCRBV09-01  TCRBJ02-01   \n",
       "133885     CASSPRLVSYNEQFF  TCRBV09-01  TCRBJ02-01   \n",
       "133886     CASSLDRGNAYEQYF  TCRBV02-01  TCRBJ02-07   \n",
       "\n",
       "                                    Amino Acids  \n",
       "0       ADAGFIKQY,AELEGIQY,LADAGFIKQY,TLADAGFIK  \n",
       "1       ADAGFIKQY,AELEGIQY,LADAGFIKQY,TLADAGFIK  \n",
       "2       ADAGFIKQY,AELEGIQY,LADAGFIKQY,TLADAGFIK  \n",
       "3       ADAGFIKQY,AELEGIQY,LADAGFIKQY,TLADAGFIK  \n",
       "4       ADAGFIKQY,AELEGIQY,LADAGFIKQY,TLADAGFIK  \n",
       "...                                         ...  \n",
       "133882                     AQVDVVNFNL,NYIAQVDVV  \n",
       "133883                     AQVDVVNFNL,NYIAQVDVV  \n",
       "133884                     AQVDVVNFNL,NYIAQVDVV  \n",
       "133885                     AQVDVVNFNL,NYIAQVDVV  \n",
       "133886                     AQVDVVNFNL,NYIAQVDVV  \n",
       "\n",
       "[133887 rows x 4 columns]"
      ]
     },
     "execution_count": 14,
     "metadata": {},
     "output_type": "execute_result"
    }
   ],
   "source": [
    "y"
   ]
  },
  {
   "cell_type": "code",
   "execution_count": 17,
   "metadata": {},
   "outputs": [
    {
     "data": {
      "text/html": [
       "<div>\n",
       "<style scoped>\n",
       "    .dataframe tbody tr th:only-of-type {\n",
       "        vertical-align: middle;\n",
       "    }\n",
       "\n",
       "    .dataframe tbody tr th {\n",
       "        vertical-align: top;\n",
       "    }\n",
       "\n",
       "    .dataframe thead th {\n",
       "        text-align: right;\n",
       "    }\n",
       "</style>\n",
       "<table border=\"1\" class=\"dataframe\">\n",
       "  <thead>\n",
       "    <tr style=\"text-align: right;\">\n",
       "      <th></th>\n",
       "      <th>TCR BioIdentity</th>\n",
       "      <th>TCR Nucleotide Sequence</th>\n",
       "      <th>Experiment</th>\n",
       "      <th>ORF Coverage</th>\n",
       "      <th>Amino Acids</th>\n",
       "      <th>Start Index in Genome</th>\n",
       "      <th>End Index in Genome</th>\n",
       "    </tr>\n",
       "  </thead>\n",
       "  <tbody>\n",
       "    <tr>\n",
       "      <td>1599</td>\n",
       "      <td>CASSQGVAGGYNEQFF+TCRBV04-01+TCRBJ02-01</td>\n",
       "      <td>GCCCTGCAGCCAGAAGACTCAGCCCTGTATCTCTGCGCCAGCAGCC...</td>\n",
       "      <td>eEE226</td>\n",
       "      <td>ORF1ab</td>\n",
       "      <td>APKEIIFL,KEIIFLEGETL</td>\n",
       "      <td>2468</td>\n",
       "      <td>2506</td>\n",
       "    </tr>\n",
       "  </tbody>\n",
       "</table>\n",
       "</div>"
      ],
      "text/plain": [
       "                             TCR BioIdentity  \\\n",
       "1599  CASSQGVAGGYNEQFF+TCRBV04-01+TCRBJ02-01   \n",
       "\n",
       "                                TCR Nucleotide Sequence Experiment  \\\n",
       "1599  GCCCTGCAGCCAGAAGACTCAGCCCTGTATCTCTGCGCCAGCAGCC...     eEE226   \n",
       "\n",
       "     ORF Coverage           Amino Acids  Start Index in Genome  \\\n",
       "1599       ORF1ab  APKEIIFL,KEIIFLEGETL                   2468   \n",
       "\n",
       "      End Index in Genome  \n",
       "1599                 2506  "
      ]
     },
     "execution_count": 17,
     "metadata": {},
     "output_type": "execute_result"
    }
   ],
   "source": [
    "df.iloc[[1599]] "
   ]
  },
  {
   "cell_type": "code",
   "execution_count": 18,
   "metadata": {},
   "outputs": [
    {
     "data": {
      "text/html": [
       "<div>\n",
       "<style scoped>\n",
       "    .dataframe tbody tr th:only-of-type {\n",
       "        vertical-align: middle;\n",
       "    }\n",
       "\n",
       "    .dataframe tbody tr th {\n",
       "        vertical-align: top;\n",
       "    }\n",
       "\n",
       "    .dataframe thead th {\n",
       "        text-align: right;\n",
       "    }\n",
       "</style>\n",
       "<table border=\"1\" class=\"dataframe\">\n",
       "  <thead>\n",
       "    <tr style=\"text-align: right;\">\n",
       "      <th></th>\n",
       "      <th>CDR3_beta</th>\n",
       "      <th>TRBV_gene</th>\n",
       "      <th>TRBJ_gene</th>\n",
       "      <th>Amino Acids</th>\n",
       "    </tr>\n",
       "  </thead>\n",
       "  <tbody>\n",
       "    <tr>\n",
       "      <td>1599</td>\n",
       "      <td>CASSQGVAGGYNEQFF</td>\n",
       "      <td>TCRBV04-01</td>\n",
       "      <td>TCRBJ02-01</td>\n",
       "      <td>APKEIIFL,KEIIFLEGETL</td>\n",
       "    </tr>\n",
       "  </tbody>\n",
       "</table>\n",
       "</div>"
      ],
      "text/plain": [
       "             CDR3_beta   TRBV_gene   TRBJ_gene           Amino Acids\n",
       "1599  CASSQGVAGGYNEQFF  TCRBV04-01  TCRBJ02-01  APKEIIFL,KEIIFLEGETL"
      ]
     },
     "execution_count": 18,
     "metadata": {},
     "output_type": "execute_result"
    }
   ],
   "source": [
    "y.iloc[[1599]]"
   ]
  },
  {
   "cell_type": "code",
   "execution_count": 19,
   "metadata": {},
   "outputs": [],
   "source": [
    "testdf = y"
   ]
  },
  {
   "cell_type": "code",
   "execution_count": 20,
   "metadata": {},
   "outputs": [
    {
     "data": {
      "text/html": [
       "<div>\n",
       "<style scoped>\n",
       "    .dataframe tbody tr th:only-of-type {\n",
       "        vertical-align: middle;\n",
       "    }\n",
       "\n",
       "    .dataframe tbody tr th {\n",
       "        vertical-align: top;\n",
       "    }\n",
       "\n",
       "    .dataframe thead th {\n",
       "        text-align: right;\n",
       "    }\n",
       "</style>\n",
       "<table border=\"1\" class=\"dataframe\">\n",
       "  <thead>\n",
       "    <tr style=\"text-align: right;\">\n",
       "      <th></th>\n",
       "      <th>CDR3_beta</th>\n",
       "      <th>TRBV_gene</th>\n",
       "      <th>TRBJ_gene</th>\n",
       "      <th>Amino Acids</th>\n",
       "    </tr>\n",
       "  </thead>\n",
       "  <tbody>\n",
       "    <tr>\n",
       "      <td>0</td>\n",
       "      <td>CASSAQGTGDRGYTF</td>\n",
       "      <td>TCRBV27-01</td>\n",
       "      <td>TCRBJ01-02</td>\n",
       "      <td>ADAGFIKQY,AELEGIQY,LADAGFIKQY,TLADAGFIK</td>\n",
       "    </tr>\n",
       "    <tr>\n",
       "      <td>1</td>\n",
       "      <td>CASSQGGRLNTEAFF</td>\n",
       "      <td>TCRBV04-01</td>\n",
       "      <td>TCRBJ01-01</td>\n",
       "      <td>ADAGFIKQY,AELEGIQY,LADAGFIKQY,TLADAGFIK</td>\n",
       "    </tr>\n",
       "    <tr>\n",
       "      <td>2</td>\n",
       "      <td>CASSKGTVSGLSG</td>\n",
       "      <td>TCRBV21-01</td>\n",
       "      <td>TCRBJ02-07</td>\n",
       "      <td>ADAGFIKQY,AELEGIQY,LADAGFIKQY,TLADAGFIK</td>\n",
       "    </tr>\n",
       "    <tr>\n",
       "      <td>3</td>\n",
       "      <td>CASSPSQREGSEQYF</td>\n",
       "      <td>TCRBV09-01</td>\n",
       "      <td>TCRBJ02-07</td>\n",
       "      <td>ADAGFIKQY,AELEGIQY,LADAGFIKQY,TLADAGFIK</td>\n",
       "    </tr>\n",
       "    <tr>\n",
       "      <td>4</td>\n",
       "      <td>CASSLWKSGQGGVETQYF</td>\n",
       "      <td>TCRBV27-01</td>\n",
       "      <td>TCRBJ02-05</td>\n",
       "      <td>ADAGFIKQY,AELEGIQY,LADAGFIKQY,TLADAGFIK</td>\n",
       "    </tr>\n",
       "    <tr>\n",
       "      <td>...</td>\n",
       "      <td>...</td>\n",
       "      <td>...</td>\n",
       "      <td>...</td>\n",
       "      <td>...</td>\n",
       "    </tr>\n",
       "    <tr>\n",
       "      <td>133882</td>\n",
       "      <td>CASSKRDSQETQYF</td>\n",
       "      <td>TCRBV07-09</td>\n",
       "      <td>TCRBJ02-05</td>\n",
       "      <td>AQVDVVNFNL,NYIAQVDVV</td>\n",
       "    </tr>\n",
       "    <tr>\n",
       "      <td>133883</td>\n",
       "      <td>CASSEIDRAEQYF</td>\n",
       "      <td>TCRBV07-09</td>\n",
       "      <td>TCRBJ02-07</td>\n",
       "      <td>AQVDVVNFNL,NYIAQVDVV</td>\n",
       "    </tr>\n",
       "    <tr>\n",
       "      <td>133884</td>\n",
       "      <td>CASSPGDNEQFF</td>\n",
       "      <td>TCRBV09-01</td>\n",
       "      <td>TCRBJ02-01</td>\n",
       "      <td>AQVDVVNFNL,NYIAQVDVV</td>\n",
       "    </tr>\n",
       "    <tr>\n",
       "      <td>133885</td>\n",
       "      <td>CASSPRLVSYNEQFF</td>\n",
       "      <td>TCRBV09-01</td>\n",
       "      <td>TCRBJ02-01</td>\n",
       "      <td>AQVDVVNFNL,NYIAQVDVV</td>\n",
       "    </tr>\n",
       "    <tr>\n",
       "      <td>133886</td>\n",
       "      <td>CASSLDRGNAYEQYF</td>\n",
       "      <td>TCRBV02-01</td>\n",
       "      <td>TCRBJ02-07</td>\n",
       "      <td>AQVDVVNFNL,NYIAQVDVV</td>\n",
       "    </tr>\n",
       "  </tbody>\n",
       "</table>\n",
       "<p>133887 rows × 4 columns</p>\n",
       "</div>"
      ],
      "text/plain": [
       "                 CDR3_beta   TRBV_gene   TRBJ_gene  \\\n",
       "0          CASSAQGTGDRGYTF  TCRBV27-01  TCRBJ01-02   \n",
       "1          CASSQGGRLNTEAFF  TCRBV04-01  TCRBJ01-01   \n",
       "2            CASSKGTVSGLSG  TCRBV21-01  TCRBJ02-07   \n",
       "3          CASSPSQREGSEQYF  TCRBV09-01  TCRBJ02-07   \n",
       "4       CASSLWKSGQGGVETQYF  TCRBV27-01  TCRBJ02-05   \n",
       "...                    ...         ...         ...   \n",
       "133882      CASSKRDSQETQYF  TCRBV07-09  TCRBJ02-05   \n",
       "133883       CASSEIDRAEQYF  TCRBV07-09  TCRBJ02-07   \n",
       "133884        CASSPGDNEQFF  TCRBV09-01  TCRBJ02-01   \n",
       "133885     CASSPRLVSYNEQFF  TCRBV09-01  TCRBJ02-01   \n",
       "133886     CASSLDRGNAYEQYF  TCRBV02-01  TCRBJ02-07   \n",
       "\n",
       "                                    Amino Acids  \n",
       "0       ADAGFIKQY,AELEGIQY,LADAGFIKQY,TLADAGFIK  \n",
       "1       ADAGFIKQY,AELEGIQY,LADAGFIKQY,TLADAGFIK  \n",
       "2       ADAGFIKQY,AELEGIQY,LADAGFIKQY,TLADAGFIK  \n",
       "3       ADAGFIKQY,AELEGIQY,LADAGFIKQY,TLADAGFIK  \n",
       "4       ADAGFIKQY,AELEGIQY,LADAGFIKQY,TLADAGFIK  \n",
       "...                                         ...  \n",
       "133882                     AQVDVVNFNL,NYIAQVDVV  \n",
       "133883                     AQVDVVNFNL,NYIAQVDVV  \n",
       "133884                     AQVDVVNFNL,NYIAQVDVV  \n",
       "133885                     AQVDVVNFNL,NYIAQVDVV  \n",
       "133886                     AQVDVVNFNL,NYIAQVDVV  \n",
       "\n",
       "[133887 rows x 4 columns]"
      ]
     },
     "execution_count": 20,
     "metadata": {},
     "output_type": "execute_result"
    }
   ],
   "source": [
    "testdf"
   ]
  },
  {
   "cell_type": "code",
   "execution_count": null,
   "metadata": {},
   "outputs": [],
   "source": []
  },
  {
   "cell_type": "code",
   "execution_count": 21,
   "metadata": {},
   "outputs": [],
   "source": [
    "import numpy as np"
   ]
  },
  {
   "cell_type": "code",
   "execution_count": 22,
   "metadata": {},
   "outputs": [],
   "source": [
    "testdf = testdf.rename(columns={'Amino Acids':'AA'})"
   ]
  },
  {
   "cell_type": "code",
   "execution_count": 23,
   "metadata": {},
   "outputs": [],
   "source": [
    "testdf['AA'] = testdf.AA.apply(lambda x: x.split(','))\n",
    "vals = testdf.AA.values.tolist()"
   ]
  },
  {
   "cell_type": "code",
   "execution_count": 25,
   "metadata": {},
   "outputs": [],
   "source": [
    "rs = [len(r) for r in vals]\n",
    "\n",
    "a = np.repeat(testdf.CDR3_beta, rs)\n",
    "b = np.repeat(testdf.TRBV_gene,rs)\n",
    "c = np.repeat(testdf.TRBJ_gene,rs)"
   ]
  },
  {
   "cell_type": "code",
   "execution_count": 26,
   "metadata": {},
   "outputs": [
    {
     "data": {
      "text/plain": [
       "133887"
      ]
     },
     "execution_count": 26,
     "metadata": {},
     "output_type": "execute_result"
    }
   ],
   "source": [
    "len(rs)"
   ]
  },
  {
   "cell_type": "code",
   "execution_count": 27,
   "metadata": {},
   "outputs": [],
   "source": [
    "l=np.concatenate(vals)"
   ]
  },
  {
   "cell_type": "code",
   "execution_count": 28,
   "metadata": {},
   "outputs": [
    {
     "data": {
      "text/plain": [
       "array(['ADAGFIKQY', 'AELEGIQY', 'LADAGFIKQY', 'TLADAGFIK', 'ADAGFIKQY',\n",
       "       'AELEGIQY', 'LADAGFIKQY', 'TLADAGFIK', 'ADAGFIKQY'], dtype='<U14')"
      ]
     },
     "execution_count": 28,
     "metadata": {},
     "output_type": "execute_result"
    }
   ],
   "source": [
    "l[:9]"
   ]
  },
  {
   "cell_type": "code",
   "execution_count": 29,
   "metadata": {},
   "outputs": [
    {
     "data": {
      "text/plain": [
       "0         CASSAQGTGDRGYTF\n",
       "0         CASSAQGTGDRGYTF\n",
       "0         CASSAQGTGDRGYTF\n",
       "0         CASSAQGTGDRGYTF\n",
       "1         CASSQGGRLNTEAFF\n",
       "               ...       \n",
       "133884       CASSPGDNEQFF\n",
       "133885    CASSPRLVSYNEQFF\n",
       "133885    CASSPRLVSYNEQFF\n",
       "133886    CASSLDRGNAYEQYF\n",
       "133886    CASSLDRGNAYEQYF\n",
       "Name: CDR3_beta, Length: 531745, dtype: object"
      ]
     },
     "execution_count": 29,
     "metadata": {},
     "output_type": "execute_result"
    }
   ],
   "source": [
    "a"
   ]
  },
  {
   "cell_type": "code",
   "execution_count": 30,
   "metadata": {},
   "outputs": [],
   "source": [
    "df1 = pd.DataFrame(np.column_stack((a,b,c, np.concatenate(vals))), columns=['CDR3', 'TRBV_gene','TRBJ_gene','AA'])\n",
    "df1 = df1[['CDR3', 'TRBV_gene','TRBJ_gene','AA']]"
   ]
  },
  {
   "cell_type": "code",
   "execution_count": 31,
   "metadata": {},
   "outputs": [
    {
     "data": {
      "text/html": [
       "<div>\n",
       "<style scoped>\n",
       "    .dataframe tbody tr th:only-of-type {\n",
       "        vertical-align: middle;\n",
       "    }\n",
       "\n",
       "    .dataframe tbody tr th {\n",
       "        vertical-align: top;\n",
       "    }\n",
       "\n",
       "    .dataframe thead th {\n",
       "        text-align: right;\n",
       "    }\n",
       "</style>\n",
       "<table border=\"1\" class=\"dataframe\">\n",
       "  <thead>\n",
       "    <tr style=\"text-align: right;\">\n",
       "      <th></th>\n",
       "      <th>CDR3</th>\n",
       "      <th>TRBV_gene</th>\n",
       "      <th>TRBJ_gene</th>\n",
       "      <th>AA</th>\n",
       "    </tr>\n",
       "  </thead>\n",
       "  <tbody>\n",
       "    <tr>\n",
       "      <td>0</td>\n",
       "      <td>CASSAQGTGDRGYTF</td>\n",
       "      <td>TCRBV27-01</td>\n",
       "      <td>TCRBJ01-02</td>\n",
       "      <td>ADAGFIKQY</td>\n",
       "    </tr>\n",
       "    <tr>\n",
       "      <td>1</td>\n",
       "      <td>CASSAQGTGDRGYTF</td>\n",
       "      <td>TCRBV27-01</td>\n",
       "      <td>TCRBJ01-02</td>\n",
       "      <td>AELEGIQY</td>\n",
       "    </tr>\n",
       "    <tr>\n",
       "      <td>2</td>\n",
       "      <td>CASSAQGTGDRGYTF</td>\n",
       "      <td>TCRBV27-01</td>\n",
       "      <td>TCRBJ01-02</td>\n",
       "      <td>LADAGFIKQY</td>\n",
       "    </tr>\n",
       "    <tr>\n",
       "      <td>3</td>\n",
       "      <td>CASSAQGTGDRGYTF</td>\n",
       "      <td>TCRBV27-01</td>\n",
       "      <td>TCRBJ01-02</td>\n",
       "      <td>TLADAGFIK</td>\n",
       "    </tr>\n",
       "    <tr>\n",
       "      <td>4</td>\n",
       "      <td>CASSQGGRLNTEAFF</td>\n",
       "      <td>TCRBV04-01</td>\n",
       "      <td>TCRBJ01-01</td>\n",
       "      <td>ADAGFIKQY</td>\n",
       "    </tr>\n",
       "    <tr>\n",
       "      <td>...</td>\n",
       "      <td>...</td>\n",
       "      <td>...</td>\n",
       "      <td>...</td>\n",
       "      <td>...</td>\n",
       "    </tr>\n",
       "    <tr>\n",
       "      <td>531740</td>\n",
       "      <td>CASSPGDNEQFF</td>\n",
       "      <td>TCRBV09-01</td>\n",
       "      <td>TCRBJ02-01</td>\n",
       "      <td>NYIAQVDVV</td>\n",
       "    </tr>\n",
       "    <tr>\n",
       "      <td>531741</td>\n",
       "      <td>CASSPRLVSYNEQFF</td>\n",
       "      <td>TCRBV09-01</td>\n",
       "      <td>TCRBJ02-01</td>\n",
       "      <td>AQVDVVNFNL</td>\n",
       "    </tr>\n",
       "    <tr>\n",
       "      <td>531742</td>\n",
       "      <td>CASSPRLVSYNEQFF</td>\n",
       "      <td>TCRBV09-01</td>\n",
       "      <td>TCRBJ02-01</td>\n",
       "      <td>NYIAQVDVV</td>\n",
       "    </tr>\n",
       "    <tr>\n",
       "      <td>531743</td>\n",
       "      <td>CASSLDRGNAYEQYF</td>\n",
       "      <td>TCRBV02-01</td>\n",
       "      <td>TCRBJ02-07</td>\n",
       "      <td>AQVDVVNFNL</td>\n",
       "    </tr>\n",
       "    <tr>\n",
       "      <td>531744</td>\n",
       "      <td>CASSLDRGNAYEQYF</td>\n",
       "      <td>TCRBV02-01</td>\n",
       "      <td>TCRBJ02-07</td>\n",
       "      <td>NYIAQVDVV</td>\n",
       "    </tr>\n",
       "  </tbody>\n",
       "</table>\n",
       "<p>531745 rows × 4 columns</p>\n",
       "</div>"
      ],
      "text/plain": [
       "                   CDR3   TRBV_gene   TRBJ_gene          AA\n",
       "0       CASSAQGTGDRGYTF  TCRBV27-01  TCRBJ01-02   ADAGFIKQY\n",
       "1       CASSAQGTGDRGYTF  TCRBV27-01  TCRBJ01-02    AELEGIQY\n",
       "2       CASSAQGTGDRGYTF  TCRBV27-01  TCRBJ01-02  LADAGFIKQY\n",
       "3       CASSAQGTGDRGYTF  TCRBV27-01  TCRBJ01-02   TLADAGFIK\n",
       "4       CASSQGGRLNTEAFF  TCRBV04-01  TCRBJ01-01   ADAGFIKQY\n",
       "...                 ...         ...         ...         ...\n",
       "531740     CASSPGDNEQFF  TCRBV09-01  TCRBJ02-01   NYIAQVDVV\n",
       "531741  CASSPRLVSYNEQFF  TCRBV09-01  TCRBJ02-01  AQVDVVNFNL\n",
       "531742  CASSPRLVSYNEQFF  TCRBV09-01  TCRBJ02-01   NYIAQVDVV\n",
       "531743  CASSLDRGNAYEQYF  TCRBV02-01  TCRBJ02-07  AQVDVVNFNL\n",
       "531744  CASSLDRGNAYEQYF  TCRBV02-01  TCRBJ02-07   NYIAQVDVV\n",
       "\n",
       "[531745 rows x 4 columns]"
      ]
     },
     "execution_count": 31,
     "metadata": {},
     "output_type": "execute_result"
    }
   ],
   "source": [
    "df1"
   ]
  },
  {
   "cell_type": "code",
   "execution_count": 32,
   "metadata": {},
   "outputs": [],
   "source": [
    "df1 = df1.sample(frac=1).reset_index(drop=True)"
   ]
  },
  {
   "cell_type": "code",
   "execution_count": 33,
   "metadata": {},
   "outputs": [],
   "source": [
    "df1.to_csv('splitAA_full.csv',index = False)"
   ]
  },
  {
   "cell_type": "code",
   "execution_count": 34,
   "metadata": {},
   "outputs": [],
   "source": [
    "df2 = df1.drop_duplicates()"
   ]
  },
  {
   "cell_type": "code",
   "execution_count": 35,
   "metadata": {},
   "outputs": [
    {
     "data": {
      "text/html": [
       "<div>\n",
       "<style scoped>\n",
       "    .dataframe tbody tr th:only-of-type {\n",
       "        vertical-align: middle;\n",
       "    }\n",
       "\n",
       "    .dataframe tbody tr th {\n",
       "        vertical-align: top;\n",
       "    }\n",
       "\n",
       "    .dataframe thead th {\n",
       "        text-align: right;\n",
       "    }\n",
       "</style>\n",
       "<table border=\"1\" class=\"dataframe\">\n",
       "  <thead>\n",
       "    <tr style=\"text-align: right;\">\n",
       "      <th></th>\n",
       "      <th>CDR3</th>\n",
       "      <th>TRBV_gene</th>\n",
       "      <th>TRBJ_gene</th>\n",
       "      <th>AA</th>\n",
       "    </tr>\n",
       "  </thead>\n",
       "  <tbody>\n",
       "    <tr>\n",
       "      <td>0</td>\n",
       "      <td>CASSLLAVQLNTGELFF</td>\n",
       "      <td>TCRBV05-05</td>\n",
       "      <td>TCRBJ02-02</td>\n",
       "      <td>LIDFYLCFL</td>\n",
       "    </tr>\n",
       "    <tr>\n",
       "      <td>1</td>\n",
       "      <td>CASERGEGTEAFF</td>\n",
       "      <td>TCRBV07-09</td>\n",
       "      <td>TCRBJ01-01</td>\n",
       "      <td>AFPFTIYSL</td>\n",
       "    </tr>\n",
       "    <tr>\n",
       "      <td>2</td>\n",
       "      <td>CASSSSGANVLTF</td>\n",
       "      <td>TCRBV06-05</td>\n",
       "      <td>TCRBJ02-06</td>\n",
       "      <td>LEYHDVRVVL</td>\n",
       "    </tr>\n",
       "    <tr>\n",
       "      <td>3</td>\n",
       "      <td>CASSIYLAGGHNEQFF</td>\n",
       "      <td>TCRBV19-01</td>\n",
       "      <td>TCRBJ02-01</td>\n",
       "      <td>FLAFLLFLV</td>\n",
       "    </tr>\n",
       "    <tr>\n",
       "      <td>4</td>\n",
       "      <td>CASSIVGGSTDTQYF</td>\n",
       "      <td>TCRBV19-01</td>\n",
       "      <td>TCRBJ02-03</td>\n",
       "      <td>KLPDDFTGCV</td>\n",
       "    </tr>\n",
       "    <tr>\n",
       "      <td>...</td>\n",
       "      <td>...</td>\n",
       "      <td>...</td>\n",
       "      <td>...</td>\n",
       "      <td>...</td>\n",
       "    </tr>\n",
       "    <tr>\n",
       "      <td>531740</td>\n",
       "      <td>CASSQDETGTFEAFF</td>\n",
       "      <td>TCRBV04-01</td>\n",
       "      <td>TCRBJ01-01</td>\n",
       "      <td>YLCFLAFLL</td>\n",
       "    </tr>\n",
       "    <tr>\n",
       "      <td>531741</td>\n",
       "      <td>CASSVSWNTEAFF</td>\n",
       "      <td>TCRBV27-01</td>\n",
       "      <td>TCRBJ01-01</td>\n",
       "      <td>SLIDFYLCFL</td>\n",
       "    </tr>\n",
       "    <tr>\n",
       "      <td>531742</td>\n",
       "      <td>CASSYSGSGNEQFF</td>\n",
       "      <td>TCRBV06-02/06-03</td>\n",
       "      <td>TCRBJ02-01</td>\n",
       "      <td>FLNGSCGSV</td>\n",
       "    </tr>\n",
       "    <tr>\n",
       "      <td>531743</td>\n",
       "      <td>CASSVLDGNYGYTF</td>\n",
       "      <td>TCRBV09-01</td>\n",
       "      <td>TCRBJ01-02</td>\n",
       "      <td>MIELSLIDFY</td>\n",
       "    </tr>\n",
       "    <tr>\n",
       "      <td>531744</td>\n",
       "      <td>CASSLPRAGRTGELFF</td>\n",
       "      <td>TCRBV07-03</td>\n",
       "      <td>TCRBJ02-02</td>\n",
       "      <td>VQELYSPIFL</td>\n",
       "    </tr>\n",
       "  </tbody>\n",
       "</table>\n",
       "<p>505329 rows × 4 columns</p>\n",
       "</div>"
      ],
      "text/plain": [
       "                     CDR3         TRBV_gene   TRBJ_gene          AA\n",
       "0       CASSLLAVQLNTGELFF        TCRBV05-05  TCRBJ02-02   LIDFYLCFL\n",
       "1           CASERGEGTEAFF        TCRBV07-09  TCRBJ01-01   AFPFTIYSL\n",
       "2           CASSSSGANVLTF        TCRBV06-05  TCRBJ02-06  LEYHDVRVVL\n",
       "3        CASSIYLAGGHNEQFF        TCRBV19-01  TCRBJ02-01   FLAFLLFLV\n",
       "4         CASSIVGGSTDTQYF        TCRBV19-01  TCRBJ02-03  KLPDDFTGCV\n",
       "...                   ...               ...         ...         ...\n",
       "531740    CASSQDETGTFEAFF        TCRBV04-01  TCRBJ01-01   YLCFLAFLL\n",
       "531741      CASSVSWNTEAFF        TCRBV27-01  TCRBJ01-01  SLIDFYLCFL\n",
       "531742     CASSYSGSGNEQFF  TCRBV06-02/06-03  TCRBJ02-01   FLNGSCGSV\n",
       "531743     CASSVLDGNYGYTF        TCRBV09-01  TCRBJ01-02  MIELSLIDFY\n",
       "531744   CASSLPRAGRTGELFF        TCRBV07-03  TCRBJ02-02  VQELYSPIFL\n",
       "\n",
       "[505329 rows x 4 columns]"
      ]
     },
     "execution_count": 35,
     "metadata": {},
     "output_type": "execute_result"
    }
   ],
   "source": [
    "df2"
   ]
  },
  {
   "cell_type": "code",
   "execution_count": null,
   "metadata": {},
   "outputs": [],
   "source": [
    "df2[['CDR3','AA']].to_csv('ERGO_test_full.csv', index=False)"
   ]
  },
  {
   "cell_type": "code",
   "execution_count": 36,
   "metadata": {},
   "outputs": [],
   "source": [
    "pep = list(df2['AA'])\n",
    "  "
   ]
  },
  {
   "cell_type": "code",
   "execution_count": 37,
   "metadata": {},
   "outputs": [],
   "source": [
    "d = {t:pep.count(t) for t in set(pep)}"
   ]
  },
  {
   "cell_type": "code",
   "execution_count": 38,
   "metadata": {},
   "outputs": [],
   "source": [
    "sorted_d = sorted(d.items(), key=lambda k: k[1],reverse=True)"
   ]
  },
  {
   "cell_type": "code",
   "execution_count": 39,
   "metadata": {},
   "outputs": [
    {
     "data": {
      "text/plain": [
       "545"
      ]
     },
     "execution_count": 39,
     "metadata": {},
     "output_type": "execute_result"
    }
   ],
   "source": [
    "len(sorted_d)"
   ]
  },
  {
   "cell_type": "code",
   "execution_count": 40,
   "metadata": {},
   "outputs": [],
   "source": [
    "num=[]\n",
    "for n in sorted_d:\n",
    "    num.append(n[1])"
   ]
  },
  {
   "cell_type": "code",
   "execution_count": 42,
   "metadata": {},
   "outputs": [],
   "source": [
    "import matplotlib.pyplot as plt"
   ]
  },
  {
   "cell_type": "code",
   "execution_count": 43,
   "metadata": {},
   "outputs": [
    {
     "data": {
      "image/png": "[encoded data removed]",
      "text/plain": [
       "<Figure size 432x288 with 1 Axes>"
      ]
     },
     "metadata": {
      "needs_background": "light"
     },
     "output_type": "display_data"
    }
   ],
   "source": [
    "plt.hist(num,bins=30)\n",
    "plt.title('number of TCRs binding to a specific epitope')\n",
    "plt.show()"
   ]
  },
  {
   "cell_type": "code",
   "execution_count": 44,
   "metadata": {},
   "outputs": [],
   "source": [
    "smallnum=[]\n",
    "for small in sorted_d:\n",
    "    if small[1]<2000:\n",
    "        smallnum.append(small[1])\n",
    "        "
   ]
  },
  {
   "cell_type": "code",
   "execution_count": 45,
   "metadata": {},
   "outputs": [
    {
     "data": {
      "image/png": "[encoded data removed]",
      "text/plain": [
       "<Figure size 432x288 with 1 Axes>"
      ]
     },
     "metadata": {
      "needs_background": "light"
     },
     "output_type": "display_data"
    }
   ],
   "source": [
    "plt.hist(smallnum,bins=30)\n",
    "plt.title('number of TCRs binding to a specific epitope')\n",
    "plt.show()"
   ]
  },
  {
   "cell_type": "code",
   "execution_count": 46,
   "metadata": {},
   "outputs": [],
   "source": [
    "lpep=[]\n",
    "for p in sorted_d:\n",
    "    lpep.append(len(p[0]))\n"
   ]
  },
  {
   "cell_type": "code",
   "execution_count": 47,
   "metadata": {},
   "outputs": [
    {
     "data": {
      "image/png": "[encoded data removed]",
      "text/plain": [
       "<Figure size 432x288 with 1 Axes>"
      ]
     },
     "metadata": {
      "needs_background": "light"
     },
     "output_type": "display_data"
    }
   ],
   "source": [
    "plt.hist(lpep)\n",
    "plt.title('length of peptide')\n",
    "plt.show()"
   ]
  },
  {
   "cell_type": "code",
   "execution_count": 48,
   "metadata": {},
   "outputs": [],
   "source": [
    "tcr = list(df2['CDR3'])"
   ]
  },
  {
   "cell_type": "code",
   "execution_count": 49,
   "metadata": {},
   "outputs": [],
   "source": [
    "newtcr=list(set(tcr))"
   ]
  },
  {
   "cell_type": "code",
   "execution_count": 50,
   "metadata": {},
   "outputs": [
    {
     "data": {
      "text/plain": [
       "120703"
      ]
     },
     "execution_count": 50,
     "metadata": {},
     "output_type": "execute_result"
    }
   ],
   "source": [
    "len(newtcr)"
   ]
  },
  {
   "cell_type": "code",
   "execution_count": 51,
   "metadata": {},
   "outputs": [],
   "source": [
    "ltcr=[]\n",
    "for t in newtcr:\n",
    "    ltcr.append(len(t))\n"
   ]
  },
  {
   "cell_type": "code",
   "execution_count": 52,
   "metadata": {},
   "outputs": [
    {
     "data": {
      "image/png": "[encoded data removed]",
      "text/plain": [
       "<Figure size 432x288 with 1 Axes>"
      ]
     },
     "metadata": {
      "needs_background": "light"
     },
     "output_type": "display_data"
    }
   ],
   "source": [
    "plt.hist(ltcr,bins=50)\n",
    "plt.title('length of TCR sequences')\n",
    "plt.show()"
   ]
  },
  {
   "cell_type": "code",
   "execution_count": null,
   "metadata": {},
   "outputs": [],
   "source": []
  },
  {
   "cell_type": "code",
   "execution_count": null,
   "metadata": {},
   "outputs": [],
   "source": []
  }
 ],
 "metadata": {
  "kernelspec": {
   "display_name": "Python 3",
   "language": "python",
   "name": "python3"
  },
  "language_info": {
   "codemirror_mode": {
    "name": "ipython",
    "version": 3
   },
   "file_extension": ".py",
   "mimetype": "text/x-python",
   "name": "python",
   "nbconvert_exporter": "python",
   "pygments_lexer": "ipython3",
   "version": "3.7.4"
  }
 },
 "nbformat": 4,
 "nbformat_minor": 2
}
