{
 "cells": [
  {
   "cell_type": "code",
   "execution_count": 1,
   "metadata": {},
   "outputs": [],
   "source": [
    "import pickle\n",
    "with open('/Users/zhangzhiwen/Documents/ERGO-master-test20/train_data_lstm.pickle', 'rb') as handle:\n",
    "    train_lstm = pickle.load(handle)"
   ]
  },
  {
   "cell_type": "code",
   "execution_count": 2,
   "metadata": {},
   "outputs": [],
   "source": [
    "with open('/Users/zhangzhiwen/Documents/ERGO-master-test20/test_data_lstm.pickle', 'rb') as handle2:\n",
    "    test_lstm = pickle.load(handle2)"
   ]
  },
  {
   "cell_type": "code",
   "execution_count": 4,
   "metadata": {},
   "outputs": [
    {
     "data": {
      "text/plain": [
       "225194"
      ]
     },
     "execution_count": 4,
     "metadata": {},
     "output_type": "execute_result"
    }
   ],
   "source": [
    "len(test_lstm)"
   ]
  },
  {
   "cell_type": "code",
   "execution_count": 5,
   "metadata": {},
   "outputs": [
    {
     "data": {
      "text/plain": [
       "904765"
      ]
     },
     "execution_count": 5,
     "metadata": {},
     "output_type": "execute_result"
    }
   ],
   "source": [
    "len(train_lstm)"
   ]
  },
  {
   "cell_type": "code",
   "execution_count": 6,
   "metadata": {},
   "outputs": [],
   "source": [
    "def count(ls):\n",
    "    p=0\n",
    "    n=0\n",
    "    for i in ls:\n",
    "        if i[2] == 'p':\n",
    "            p = p+1\n",
    "        else:\n",
    "            n=n+1\n",
    "    print('p:', p, 'n:', n )"
   ]
  },
  {
   "cell_type": "code",
   "execution_count": 7,
   "metadata": {},
   "outputs": [
    {
     "name": "stdout",
     "output_type": "stream",
     "text": [
      "p: 150794 n: 753971\n"
     ]
    }
   ],
   "source": [
    "count(train_lstm)"
   ]
  },
  {
   "cell_type": "code",
   "execution_count": 8,
   "metadata": {},
   "outputs": [
    {
     "name": "stdout",
     "output_type": "stream",
     "text": [
      "p: 37532 n: 187662\n"
     ]
    }
   ],
   "source": [
    "count(test_lstm)"
   ]
  },
  {
   "cell_type": "code",
   "execution_count": 9,
   "metadata": {},
   "outputs": [],
   "source": [
    "def extra_same_elem(list1, list2):\n",
    "    set1 = set(list1)\n",
    "    set2 = set(list2)\n",
    "    iset = set1.intersection(set2)\n",
    "    return list(iset)\n"
   ]
  },
  {
   "cell_type": "code",
   "execution_count": null,
   "metadata": {},
   "outputs": [],
   "source": []
  },
  {
   "cell_type": "code",
   "execution_count": 10,
   "metadata": {},
   "outputs": [],
   "source": [
    "common = extra_same_elem(train_lstm, test_lstm)"
   ]
  },
  {
   "cell_type": "code",
   "execution_count": 12,
   "metadata": {},
   "outputs": [
    {
     "data": {
      "text/plain": [
       "22458"
      ]
     },
     "execution_count": 12,
     "metadata": {},
     "output_type": "execute_result"
    }
   ],
   "source": [
    "len(common)"
   ]
  },
  {
   "cell_type": "code",
   "execution_count": 13,
   "metadata": {},
   "outputs": [
    {
     "name": "stdout",
     "output_type": "stream",
     "text": [
      "p: 1405 n: 21053\n"
     ]
    }
   ],
   "source": [
    "count(common)"
   ]
  },
  {
   "cell_type": "code",
   "execution_count": 14,
   "metadata": {},
   "outputs": [],
   "source": [
    "val_nodup = [ x for x in test_lstm if not x in common ] "
   ]
  },
  {
   "cell_type": "code",
   "execution_count": 15,
   "metadata": {},
   "outputs": [
    {
     "data": {
      "text/plain": [
       "202453"
      ]
     },
     "execution_count": 15,
     "metadata": {},
     "output_type": "execute_result"
    }
   ],
   "source": [
    "len(val_nodup)"
   ]
  },
  {
   "cell_type": "code",
   "execution_count": 16,
   "metadata": {},
   "outputs": [
    {
     "data": {
      "text/plain": [
       "225194"
      ]
     },
     "execution_count": 16,
     "metadata": {},
     "output_type": "execute_result"
    }
   ],
   "source": [
    "len(test_lstm)"
   ]
  },
  {
   "cell_type": "code",
   "execution_count": 17,
   "metadata": {},
   "outputs": [],
   "source": [
    "with open('test_data_norepet_lstm20' + '.pickle', 'wb') as file:\n",
    "    pickle.dump(val_nodup, file)"
   ]
  },
  {
   "cell_type": "code",
   "execution_count": 19,
   "metadata": {},
   "outputs": [],
   "source": [
    "with open('/Users/zhangzhiwen/Documents/ERGO-master-test20/real_testforERGO20.pickle', 'rb') as handle3:\n",
    "    realtest_lstm = pickle.load(handle3)"
   ]
  },
  {
   "cell_type": "code",
   "execution_count": 20,
   "metadata": {},
   "outputs": [
    {
     "data": {
      "text/plain": [
       "[('CASSEALSQIFEKLFF', ['AFLLFLVLI'], 'p'),\n",
       " ('CASSQAAYQETQYF', ['APKEIIFL'], 'n'),\n",
       " ('CASSGGGGPNTEAFF', ['VLWAHGFEL'], 'p'),\n",
       " ('CASSPRQGNNSPLHF', ['SLIDFYLCFL'], 'n'),\n",
       " ('CASSGTGVNIQYF', ['WPVTLACFVL'], 'n'),\n",
       " ('CASSLVTGELFF', ['FLNGSCGSV'], 'n'),\n",
       " ('CSAPGGTYYEQYF', ['YINVFAFPF'], 'n'),\n",
       " ('CASSPHGLAGEDEQYF', ['IELSLIDFYL'], 'n'),\n",
       " ('CSASGETDTQYF', ['YVVDDPCPI'], 'n'),\n",
       " ('CAISGSGGDAGELFF', ['IELSLIDFYL'], 'n'),\n",
       " ('CASSPDGPNWEQFF', ['PYRVVVLSF'], 'n'),\n",
       " ('CASSQDRAVVGETQYF', ['IDFYLCFLAF'], 'n'),\n",
       " ('CSVEEEGTGKYEQYF', ['FYLCFLAFLL'], 'n'),\n",
       " ('CASTFSSERAIQETQYF', ['FEYVSQPFL'], 'n'),\n",
       " ('CASSLSPDSGQGGGYTF', ['VVYRGTTTY'], 'n'),\n",
       " ('CASSLLDQFTEAFF', ['FLNGSCGSV'], 'n'),\n",
       " ('CASSLDGRSPSYEQYF', ['FLNGSCGSV'], 'n'),\n",
       " ('CASSVYRAVNTEAFF', ['FLAFLLFLV'], 'p'),\n",
       " ('CASSSHRAPDTQYF', ['NVFAFPFTI'], 'n'),\n",
       " ('CASTNSDNEQFF', ['VLPFNDGVY'], 'n'),\n",
       " ('CSAIIPGRTNIYEQYF', ['GYINVFAFPF'], 'p'),\n",
       " ('CAWSVGQYTGELFF', ['MVMCGGSLYV'], 'n'),\n",
       " ('CASSFLGLSYEQYF', ['LIDFYLCFL'], 'n'),\n",
       " ('CASSLRGREPYEQYF', ['IELSLIDFYL'], 'n'),\n",
       " ('CASSVVGSSYEQYF', ['YINVFAFPF'], 'n'),\n",
       " ('CALQGLAGVKEQYF', ['FYLCFLAFLL'], 'n'),\n",
       " ('CASTSGTGIYEQYF', ['AIPTNFTISV'], 'n'),\n",
       " ('CASSFVDEQFF', ['TVYSHLLLV'], 'n'),\n",
       " ('CASSVEGGTDTQYF', ['LEYHDVRVVL'], 'n'),\n",
       " ('CASTLGGGYNEQFF', ['LLFLVLIML'], 'n'),\n",
       " ('CASVSSGSYEQYF', ['HTTDPSFLGRY'], 'p'),\n",
       " ('CASSLAGYEQFF', ['FFSNVTWFH'], 'n'),\n",
       " ('CAWSVNPSSYNSPLHF', ['KAYNVTQAF'], 'n'),\n",
       " ('CASSYVPGDSQETQYF', ['FLWLLWPVT'], 'p'),\n",
       " ('CASSFGSGDTQYF', ['FPPTSFGPL'], 'n'),\n",
       " ('CASSQDYWEGGTDTQYF', ['DGVYFASTEK'], 'n'),\n",
       " ('CASSFSLPGTNSPLHF', ['LIDFYLCFL'], 'n'),\n",
       " ('CATSDFGSTDTQYF', ['SEHDYQIGGYTEKW'], 'n'),\n",
       " ('CASSLAEFYQPQHF', ['LLFLVLIML'], 'n'),\n",
       " ('CASSVRDRSPPLHF', ['FLQSINFVR'], 'n'),\n",
       " ('CASTQTPGQSNNEQFF', ['IPTNFTISV'], 'n'),\n",
       " ('CSASDVTSGSRNGELFF', ['LLFLVLIML'], 'p'),\n",
       " ('CASSEGDRVEQYF', ['FYLCFLAFL'], 'n'),\n",
       " ('CSVDGQGVENYEQYF', ['FYLCFLAFL'], 'n'),\n",
       " ('CASTRDSSSYNEQFF', ['SPRWYFYYL'], 'n'),\n",
       " ('CASSSLEYNEQFF', ['IDFYLCFLAF'], 'n'),\n",
       " ('CASSVERGTGTGELFF', ['LIDFYLCFL'], 'n'),\n",
       " ('CASSPLTTANYGYTF', ['FYLCFLAFL'], 'n'),\n",
       " ('CASSPQEWGNQPQHF', ['FYLCFLAFLL'], 'n'),\n",
       " ('CASSPDGYEQYF', ['LQSINFVRI'], 'n'),\n",
       " ('CASGAGADATQYF', ['NVFAFPFTI'], 'p'),\n",
       " ('CASSLLQGETQYF', ['MGYINVFAF'], 'n'),\n",
       " ('CATAGANEQFF', ['FLWLLWPVT'], 'n'),\n",
       " ('CASSIEPGALYEQYF', ['YEQYIKWPW'], 'p'),\n",
       " ('CASSLYGGGTYEQYF', ['YYVGYLQPRTF'], 'n'),\n",
       " ('CSARGGTSGITDTQYF', ['APKEIIFL'], 'n'),\n",
       " ('CASSGTRDSTYEQYF', ['IELSLIDFYL'], 'n'),\n",
       " ('CASSEELFVGTSYGYTF', ['FPNITNLCPF'], 'n'),\n",
       " ('CASSLPGTGSGYTF', ['YQIGGYTEK'], 'n'),\n",
       " ('CASSPLGDNEQFF', ['NVFAFPFTI'], 'n'),\n",
       " ('CASSYFLAGGYNEQFF', ['VSIWNLDYII'], 'n'),\n",
       " ('CASSVGAEAGSGNTIYF', ['APKEIIFL'], 'n'),\n",
       " ('CASSQEGYGRGYTF', ['FYLCFLAFLL'], 'n'),\n",
       " ('CASSSYRATDTQYF', ['ASQSIIAYTM'], 'p'),\n",
       " ('CSARSGGAGYEQYF', ['FYLCFLAFLL'], 'n'),\n",
       " ('CASSSTANTEAFF', ['YINVFAFPF'], 'n'),\n",
       " ('CASSYSGGYYGYTF', ['FYLCFLAFLL'], 'n'),\n",
       " ('CAIASGTSGDTQYF', ['VYFLQSINFV'], 'p'),\n",
       " ('CSATGVDPQETQYF', ['MGYINVFAF'], 'n'),\n",
       " ('CASPHSIAGVNEQFF', ['KPFERDISTEI'], 'p'),\n",
       " ('CSASLEGQEYEETQYF', ['MEVTPSGTWL'], 'n'),\n",
       " ('CASMRAPFEYEQYF', ['VQELYSPIF'], 'p'),\n",
       " ('CASSQGAISAF', ['APKEIIFL'], 'n'),\n",
       " ('CASSQTGLAGSYEQYF', ['ELYSPIFLI'], 'p'),\n",
       " ('CSASLTDTQYF', ['RFPNITNLCPF'], 'n'),\n",
       " ('CASIPEPGHYDFTGELFF', ['IDFYLCFLAF'], 'p'),\n",
       " ('CASSFAGPPTGTDTQYF', ['IELSLIDFYL'], 'n'),\n",
       " ('CASSQETGSSYEQYF', ['AYKTFPPTEPK'], 'n'),\n",
       " ('CASSTGQGRIYEQYF', ['QYIKWPWYI'], 'n'),\n",
       " ('CAPRGNYGYTF', ['MGYINVFAF'], 'n'),\n",
       " ('CSASAVGFDYEQYF', ['LLFLVLIML'], 'n'),\n",
       " ('CASSGTGELFF', ['LWPVTLACF'], 'n'),\n",
       " ('CATSTDGSNYGYTF', ['FLWLLWPVT'], 'n'),\n",
       " ('CASTLFTNEQFF', ['AFLLFLVLI'], 'n'),\n",
       " ('CASSLDRTGTTEAFF', ['FLAFLLFLV'], 'n'),\n",
       " ('CASSQRTGGEAFF', ['INVFAFPFTI'], 'p'),\n",
       " ('CASSPGAQGFNEQYF', ['TESIVRFPNI'], 'p'),\n",
       " ('CSAPSVGGPKDTEAFF', ['INVFAFPFTI'], 'n'),\n",
       " ('CASSQDILAGVSTDTQYF', ['MIELSLIDFY'], 'n'),\n",
       " ('CASSPGQGTEKLFF', ['LIVNSVLLFL'], 'n'),\n",
       " ('CSARDAQTGGTEAFF', ['LEYHDVRVVL'], 'n'),\n",
       " ('CATGPGGGYEQFF', ['PYRVVVLSF'], 'p'),\n",
       " ('CASSPADTEAFF', ['MIELSLIDFY'], 'p'),\n",
       " ('CASSQVSGSEQYF', ['LIDFYLCFL'], 'n'),\n",
       " ('CSAEGDSGGPGELFF', ['LPFNDGVYF'], 'n'),\n",
       " ('CASSEGRMESYGYTF', ['FLWLLWPVTL'], 'n'),\n",
       " ('CASSQERQSNYGYTF', ['NYLYRLFRK'], 'n'),\n",
       " ('CASSWDGMNTEAFF', ['TPINLVRDL'], 'n'),\n",
       " ('CASSLSTGADTQYF', ['AELAKNVSLDNVL'], 'n'),\n",
       " ('CATSRGTGEASPLHF', ['KAYNVTQAF'], 'p'),\n",
       " ('CASSPGPVYTF', ['FYLCFLAFLL'], 'n'),\n",
       " ('CASGRQGDFETQYF', ['LLFLVLIML'], 'n'),\n",
       " ('CASSEGSGTEAFF', ['TEILPVSMTK'], 'n'),\n",
       " ('CASSPVWKSFESTDTQYF', ['DFLEYHDVR'], 'p'),\n",
       " ('CASSLAGVGYGYTF', ['KLPDDFTGCV'], 'n'),\n",
       " ('CASSQWEDTSYGYTF', ['AFPFTIYSL'], 'n'),\n",
       " ('CASSPPGGSYEQYF', ['FPPTSFGPL'], 'n'),\n",
       " ('CASSFSGQGGQPQHF', ['MIELSLIDFY'], 'n'),\n",
       " ('CASSAPGTGSTDTQYF', ['VYFLQSINF'], 'n'),\n",
       " ('CASSLRLGEGELFF', ['MIELSLIDFY'], 'n'),\n",
       " ('CASSLVPDEQFF', ['FLNGSCGSV'], 'n'),\n",
       " ('CASSQEGALSTEAFF', ['VLSFCAFAV'], 'n'),\n",
       " ('CASSVAGLENEQFF', ['AFLLFLVLI'], 'n'),\n",
       " ('CASTSPGGFVDEQYF', ['QSINFVRII'], 'n'),\n",
       " ('CASSYLTSGESFGQQETQYF', ['FLQSINFVR'], 'n'),\n",
       " ('CASSLVGEDYEQYF', ['GYINVFAFPF'], 'p'),\n",
       " ('CASSFGTDGGEQYF', ['IDFYLCFLAF'], 'n'),\n",
       " ('CSASPGQGSETQYF', ['HTTDPSFLGRY'], 'n'),\n",
       " ('CASSISGALQHF', ['MIELSLIDFY'], 'n'),\n",
       " ('CASYLAASGNNEQFF', ['AFLLFLVLI'], 'p'),\n",
       " ('CASSFSMAGRETQYF', ['MIELSLIDFY'], 'n'),\n",
       " ('CASSPPPAGAYEQYF', ['VRFPNITNL'], 'n'),\n",
       " ('CSARAGLEQYF', ['LLFLVLIML'], 'n'),\n",
       " ('CASTAGDGEQFF', ['LLFLVLIML'], 'p'),\n",
       " ('CASPADSYTEAFF', ['LWLLWPVTL'], 'n'),\n",
       " ('CASSQSETGELFF', ['VQELYSPIFL'], 'n'),\n",
       " ('CASSFARNYGYTF', ['NVFAFPFTI'], 'n'),\n",
       " ('CASSLGVSAEAFF', ['AEAELAKNVSL'], 'n'),\n",
       " ('CASRARLAGPGDTQYF', ['FLAFLLFLV'], 'n'),\n",
       " ('CASSLRLANSYEQYF', ['LLFLVLIML'], 'n'),\n",
       " ('CARAGGLMNTEAFF', ['YLCFLAFLL'], 'n'),\n",
       " ('CASSLGPREMNTEAFF', ['LQSINFVRII'], 'p'),\n",
       " ('CASSFGGGSQETQYF', ['QYIKWPWYI'], 'n'),\n",
       " ('CASSLEGYQETQYF', ['TPSGTWLTY'], 'n'),\n",
       " ('CASSMGQGSSYEQYF', ['YQIGGYTEK'], 'p'),\n",
       " ('CASSPHNTGGNSPLHF', ['QELYSPIFL'], 'n'),\n",
       " ('CASSLAVGRNTEAFF', ['KLSYGIATV'], 'n'),\n",
       " ('CSVEDQGAVNTEAFF', ['YLNTLTLAV'], 'n'),\n",
       " ('CASSLVELGAGGSGNEQFF', ['YLCFLAFLL'], 'n'),\n",
       " ('CASSPGTGFRNEQFF', ['LPFFSNVTW'], 'n'),\n",
       " ('CASSMVFGYEQYF', ['KAYNVTQAF'], 'n'),\n",
       " ('CASSPGPYLNTEAFF', ['INVFAFPFTI'], 'n'),\n",
       " ('CASINPRNTEAFF', ['AFPFTIYSL'], 'n'),\n",
       " ('CASSASVTYNEQFF', ['LWLLWPVTL'], 'n'),\n",
       " ('CASSPYEGQAREAFF', ['IDFYLCFLAF'], 'n'),\n",
       " ('CASSITGAYEQYF', ['VTPSGTWLTY'], 'n'),\n",
       " ('CASSIMGLGNTEAFF', ['YQIGGYTEK'], 'n'),\n",
       " ('CASSSQDTVNQPQHF', ['IDFYLCFLAF'], 'n'),\n",
       " ('CASTLYPEQYF', ['PLLYDANYFL'], 'n'),\n",
       " ('CASRLFGTGGEKLFF', ['IELSLIDFYL'], 'n'),\n",
       " ('CASSQDSGNQPQHF', ['LYSPIFLIV'], 'n'),\n",
       " ('CSARGTGAIYEQYF', ['GYINVFAFPF'], 'n'),\n",
       " ('CASSVGDRDQPQHF', ['LTDEMIAQYT'], 'n'),\n",
       " ('CASSEAPVGYEQYF', ['TPSGTWLTY'], 'n'),\n",
       " ('CASSLGQGSNIQYF', ['IDFYLCFLAF'], 'n'),\n",
       " ('CSADAGTGGGETQYF', ['AIPTNFTISV'], 'n'),\n",
       " ('CASSRTSGGVDEQFF', ['AFLLFLVLI'], 'n'),\n",
       " ('CAWSVQGSEQFF', ['FEYVSQPFL'], 'n'),\n",
       " ('CSVEEALVHEQYF', ['FYLCFLAFL'], 'p'),\n",
       " ('CASSQDSGFQPQHF', ['FYLCFLAFL'], 'n'),\n",
       " ('CASSQEGVGTEAFF', ['KEIIFLEGETL'], 'n'),\n",
       " ('CASSQERGIGGNEQFF', ['FLAFLLFLV'], 'n'),\n",
       " ('CASSLLGAGISNQPQHF', ['LLFLVLIML'], 'n'),\n",
       " ('CASSIGQGVVYEQYF', ['YQIGGYTEKW'], 'p'),\n",
       " ('CSSPTGPTTDTQYF', ['YLCFLAFLL'], 'n'),\n",
       " ('CSVTTEATYNEQFF', ['VLPPLLTDEMIAQY'], 'n'),\n",
       " ('CASSYGSYEQYF', ['YLCFLAFLL'], 'n'),\n",
       " ('CASSPLGSGRAHTGELFF', ['GYINVFAFPF'], 'n'),\n",
       " ('CASSLSRDLPTNEKLFF', ['APKEIIFL'], 'n'),\n",
       " ('CASSPGGSGNTIYF', ['TLACFVLAAV'], 'n'),\n",
       " ('CASSIYRNTEAFF', ['VLPFNDGVY'], 'p'),\n",
       " ('CASSQYPGLEKLFF', ['APAHISTI'], 'n'),\n",
       " ('CASSQGSFPLHF', ['IMRTFKVSI'], 'p'),\n",
       " ('CSATGQGETQYF', ['FLAFLLFLV'], 'n'),\n",
       " ('CSARGAGMNTGELFF', ['SELVIGAVIL'], 'p'),\n",
       " ('CASSIGIGPANQPQHF', ['YQIGGYTEK'], 'p'),\n",
       " ('CASSYSQGDTQFF', ['VYADSFVIR'], 'n'),\n",
       " ('CATSEGTGGTDTQYF', ['FYLCFLAFLL'], 'n'),\n",
       " ('CASSLEPYNEQFF', ['FYLCFLAFLL'], 'n'),\n",
       " ('CASSAYVNNQPQHF', ['VTPSGTWLTY'], 'n'),\n",
       " ('CASSYRSSRGNTEAFF', ['FVDGVPFVV'], 'n'),\n",
       " ('CASSWGENTEAFF', ['NPANNAAIVL'], 'p'),\n",
       " ('CASSLGLAGTYEQYF', ['SSNVANYQK'], 'n'),\n",
       " ('CASSLAGISNQPQHF', ['SIWNLDYII'], 'n'),\n",
       " ('CASSWGGKQDEQYF', ['GYINVFAFPF'], 'n'),\n",
       " ('CASSTPQANPDEQYF', ['VTPSGTWLTY'], 'n'),\n",
       " ('CASSLSPPLHF', ['IDFYLCFLAF'], 'p'),\n",
       " ('CASSLFSGTGPGELFF', ['ELYSPIFLI'], 'p'),\n",
       " ('CASSPLAGGPNEQFF', ['GLEAPFLYLY'], 'n'),\n",
       " ('CSAQSLSSGGAGNEQFF', ['EEHVQIHTI'], 'p'),\n",
       " ('CASSLSGIYYEQYF', ['FLPRVFSAV'], 'n'),\n",
       " ('CSARGREDSYEQYF', ['FLWLLWPVT'], 'n'),\n",
       " ('CASSFTGAYEQFF', ['YQIGGYTEKW'], 'n'),\n",
       " ('CASSLGATEAFF', ['FLNGSCGSV'], 'n'),\n",
       " ('CASRGLGTEAFF', ['SINFVRIIMR'], 'n'),\n",
       " ('CSARGTESSYEQYF', ['AEAELAKNVSL'], 'n'),\n",
       " ('CASSFSANYGYTF', ['IMLIIFWFSL'], 'n'),\n",
       " ('CASSLELPNTGELFF', ['SLIDFYLCFL'], 'n'),\n",
       " ('CASSIGQGTAYEQYF', ['YQIGGYTEKW'], 'p'),\n",
       " ('CASSEFGGGYTF', ['FLWLLWPVTL'], 'n'),\n",
       " ('CASSSGGGVVDGYTF', ['IELSLIDFYL'], 'n'),\n",
       " ('CSAREEGQGPEAFF', ['VYSSANNCTF'], 'n'),\n",
       " ('CASSFSVAGYNEQFF', ['YFLQSINFVR'], 'n'),\n",
       " ('CASGSGIPAGVGETQYF', ['ASQSIIAYTM'], 'n'),\n",
       " ('CASIGGTEHSF', ['FYLCFLAFL'], 'n'),\n",
       " ('CSARDELAGDNEQFF', ['NVFAFPFTIY'], 'n'),\n",
       " ('CSASSESSYNEQFF', ['YDANYFLCW'], 'n'),\n",
       " ('CASSLQGGDYEQYF', ['FYLCFLAFLL'], 'p'),\n",
       " ('CASIGQGAPLHF', ['LLTDEMIAQY'], 'n'),\n",
       " ('CASSFGQGTDTQYF', ['SIIAYTMSL'], 'n'),\n",
       " ('CASSPGSSGSVQYF', ['LSPRWYFYY'], 'n'),\n",
       " ('CASVPLTGVGELFF', ['MIELSLIDFY'], 'p'),\n",
       " ('CSASTRDSLYNEQFF', ['IDFYLCFLAF'], 'n'),\n",
       " ('CSAMGGNQPQHF', ['FLAFLLFLV'], 'n'),\n",
       " ('CASSAGGPWNEQFF', ['KLSYGIATV'], 'n'),\n",
       " ('CSVVVGAEAFF', ['YIIKLIFLWL'], 'n'),\n",
       " ('CASSRGTSTDTQYF', ['FLYLYALVYF'], 'n'),\n",
       " ('CASSLGQINQPQHF', ['NVFAFPFTI'], 'n'),\n",
       " ('CASSFRGYNQPQHF', ['AQFAPSASA'], 'n'),\n",
       " ('CASSDSALAGGPETQYF', ['LIDFYLCFL'], 'n'),\n",
       " ('CASSLISRPPRESYEQYF', ['APKEIIFL'], 'p'),\n",
       " ('CSAAQGELFF', ['INVFAFPFTI'], 'n'),\n",
       " ('CSAGGVFVSYNEQFF', ['FYLCFLAFL'], 'n'),\n",
       " ('CASSLFAGTGETQYF', ['FLAFLLFLV'], 'n'),\n",
       " ('CASSQDVGSGANVLTF', ['SYFTSDYYQL'], 'p'),\n",
       " ('CASARTGRNEQYF', ['LEYHDVRVV'], 'n'),\n",
       " ('CASSPGLAGTDTQYF', ['MGYINVFAF'], 'n'),\n",
       " ('CSATLTGNNEQFF', ['FYLCFLAFL'], 'n'),\n",
       " ('CASSPQILWGPRGPLVSSSYNEQFF', ['FLNGSCGSV'], 'n'),\n",
       " ('CASSEGRGYEQYF', ['GEVFNATRF'], 'n'),\n",
       " ('CASSLDGEYNEQFF', ['DGVYFASTEK'], 'n'),\n",
       " ('CSAIGPGASSYNEQFF', ['MIELSLIDFY'], 'n'),\n",
       " ('CASSLDSYNEQFF', ['WLLWPVTLA'], 'n'),\n",
       " ('CASSAPGANYGYTF', ['GEIPVAYRKVLL'], 'n'),\n",
       " ('CASSPTGGGDGYTF', ['YQIGGYTEK'], 'n'),\n",
       " ('CASSFGPEQYF', ['TLACFVLAAV'], 'n'),\n",
       " ('CASSRAGLAGLISYNEQFF', ['FLWLLWPVT'], 'n'),\n",
       " ('CASSLGTGSSYEQYF', ['GVYFASTEK'], 'n'),\n",
       " ('CASKGPRQEQYF', ['YIIKLIFLW'], 'n'),\n",
       " ('CASSLGTDVPYGYTF', ['FLWLLWPVT'], 'n'),\n",
       " ('CASSHLAGGGNEQFF', ['TPSGTWLTY'], 'n'),\n",
       " ('CATSSTSGLAGGTDTQYF', ['QLMCQPILL'], 'n'),\n",
       " ('CASSETLMNTEAFF', ['FYLCFLAFL'], 'n'),\n",
       " ('CASSTGPEQYF', ['HLMSFPQSA'], 'p'),\n",
       " ('CASSYEAGVTDTQYF', ['INVFAFPFTI'], 'n'),\n",
       " ('CASSLDSLNTEAFF', ['LLFLVLIML'], 'n'),\n",
       " ('CASSLDAGEETQYF', ['FVDGVPFVV'], 'p'),\n",
       " ('CASSPGGDTQYF', ['FPNITNLCPF'], 'n'),\n",
       " ('CASSFRSNQETQYF', ['KLSYGIATV'], 'n'),\n",
       " ('CATSDLVEAGTDTQYF', ['YEDFLEYHDVRVVL'], 'p'),\n",
       " ('CASSLELHSPYEQYF', ['LYDANYFLCW'], 'p'),\n",
       " ('CASSPDILAFF', ['SNEKQEILGTVSW'], 'n'),\n",
       " ('CSARGLESSYEQYF', ['KLSYGIATV'], 'n'),\n",
       " ('CASSPLEGGGEQYF', ['TVYSHLLLV'], 'n'),\n",
       " ('CASSLAGTATIQETQYF', ['MGYINVFAF'], 'n'),\n",
       " ('CSVVILAGGYNEQFF', ['TLACFVLAAV'], 'p'),\n",
       " ('CASSLSGGTEAFF', ['VYSSANNCTF'], 'n'),\n",
       " ('CASSAHPRSGSGNEQFF', ['LLFLVLIML'], 'n'),\n",
       " ('CASSILGQALTYNEQFF', ['IDFYLCFLAF'], 'n'),\n",
       " ('CASSLAYEQYF', ['IDFYLCFLAF'], 'n'),\n",
       " ('CASSLQETQYF', ['ALALLLLDR'], 'n'),\n",
       " ('CASSPLAAGFDEQFF', ['SINFVRIIMR'], 'n'),\n",
       " ('CASSIGTGLAYEQYF', ['VTPSGTWLTY'], 'n'),\n",
       " ('CASSSTGYSNQPQHF', ['SLIDFYLCFL'], 'n'),\n",
       " ('CSAFFGGATTDTQYF', ['MIELSLIDFY'], 'n'),\n",
       " ('CSAEGLAGEDYNEQFF', ['LIDFYLCFL'], 'n'),\n",
       " ('CASSGGCCGGADFNEQFF', ['FLWLLWPVTL'], 'n'),\n",
       " ('CASSYSTSGGGVYEQYF', ['LLFLVLIML'], 'p'),\n",
       " ('CASSPTGLLQETQYF', ['FYLCFLAFL'], 'p'),\n",
       " ('CASSDRDNYEQYF', ['YLCFLAFLL'], 'n'),\n",
       " ('CASGGTGYSYEQYF', ['YLCFLAFLL'], 'n'),\n",
       " ('CASSPSSYNEQFF', ['LWPVTLACF'], 'n'),\n",
       " ('CASSRDSDSYGYTF', ['TLACFVLAAV'], 'p'),\n",
       " ('CASSSLGQEPYNEQFF', ['SLIDFYLCFL'], 'p'),\n",
       " ('CATSRQGGYEQYF', ['LIDFYLCFL'], 'n'),\n",
       " ('CASTEGRVGIQETQYF', ['IVDTVSALV'], 'n'),\n",
       " ('CASSAGTHNEQFF', ['FYLCFLAFL'], 'n'),\n",
       " ('CASSPSTGSPYEQYF', ['LLLDDFVEI'], 'n'),\n",
       " ('CASSATQGFRNIQYF', ['AFLLFLVLI'], 'p'),\n",
       " ('CASSLAEFYQPQHF', ['LWPVTLACF'], 'n'),\n",
       " ('CASSLGGNTEAFF', ['FVDGVPFVV'], 'p'),\n",
       " ('CSVPIGTGGGEDGYTF', ['LLFLVLIML'], 'n'),\n",
       " ('CASSLAGLPDTQYF', ['PYRVVVLSF'], 'p'),\n",
       " ('CASSLSGQGYTDTQYF', ['LWPVTLACF'], 'n'),\n",
       " ('CSARQLGQMNTEAFF', ['AFLLFLVLI'], 'n'),\n",
       " ('CASSPGLAGGPEQYF', ['APKEIIFL'], 'n'),\n",
       " ('CSARDLTGGLWDTQYF', ['YLCFLAFLL'], 'n'),\n",
       " ('CASSTGLGTSYEQYF', ['FYLCFLAFL'], 'n'),\n",
       " ('CSARGWDGKSSYEQYF', ['IMLIIFWFSL'], 'n'),\n",
       " ('CASSLGRGSYNEQFF', ['VQELYSPIF'], 'n'),\n",
       " ('CASSLGASSLISNSYEQYF', ['GLEAPFLYLY'], 'n'),\n",
       " ('CSAQDGDSQETQYF', ['VASQSIIAY'], 'n'),\n",
       " ('CSAIGTRNTEAFF', ['LWPVTLACF'], 'n'),\n",
       " ('CASSFEGALYEQYF', ['CTFEYVSQPF'], 'n'),\n",
       " ('CASSFKLAGLLYEQYF', ['MIELSLIDFY'], 'n'),\n",
       " ('CASSQDRVSGGLSYEQYF', ['YEDFLEYHDVRVVL'], 'n'),\n",
       " ('CASSQEPRSVFYSNQPQHF', ['LIDFYLCFL'], 'p'),\n",
       " ('CASSLSSQQYF', ['YINVFAFPF'], 'p'),\n",
       " ('CASSQDPRGGGASYEQYF', ['LYIIKLIFL'], 'n'),\n",
       " ('CASSQGAGIPLGYGYTF', ['FYLCFLAFLL'], 'n'),\n",
       " ('CASSLAVGTGIYEQYF', ['LLFLVLIML'], 'n'),\n",
       " ('CASSSGTGISYEQYF', ['SLIDFYLCFL'], 'n'),\n",
       " ('CSVEDGARATSGYEQYF', ['SLIDFYLCFL'], 'p'),\n",
       " ('CSHSRAKPEETQYF', ['IDFYLCFLAF'], 'n'),\n",
       " ('CASSLPDRGQPQHF', ['IDFYLCFLAF'], 'n'),\n",
       " ('CASSYFPTSPGANVLTF', ['LWPVTLACF'], 'n'),\n",
       " ('CASSDATPRGVGGEQFF', ['LIDFYLCFL'], 'n'),\n",
       " ('CASSYRSSRGNTEAFF', ['YEQYIKWPWY'], 'n'),\n",
       " ('CASSEDGVSGNEQFF', ['FLAFLLFLV'], 'n'),\n",
       " ('CASTKSSGAYNEQFF', ['FYLCFLAFLL'], 'n'),\n",
       " ('CASSRLAELFGPTEAFF', ['IDFYLCFLAF'], 'p'),\n",
       " ('CASSQKDRPGGGYTF', ['AFPFTIYSL'], 'p'),\n",
       " ('CASSFAGETQYF', ['YEGNSPFHPL'], 'n'),\n",
       " ('CASSFSANYGYTF', ['QSINFVRII'], 'p'),\n",
       " ('CASSYFGGTGNTQYF', ['SIIAYTMSL'], 'n'),\n",
       " ('CASSVNRREGQDGELFF', ['SQSIIAYTM'], 'p'),\n",
       " ('CASSYYTGELFF', ['GLEAPFLYLY'], 'n'),\n",
       " ('CASTLRDTSYEQYF', ['AEIRASANL'], 'n'),\n",
       " ('CASSLTSGGSYNEQFF', ['YEDFLEYHDVRVVL'], 'n'),\n",
       " ('CASVGSLGAGELFF', ['KAYNVTQAF'], 'n'),\n",
       " ('CSVEDSGLAGLTGANVLTF', ['YEQYIKWPWY'], 'n'),\n",
       " ('CASSLTAGLNEQFF', ['VYFLQSINFV'], 'p'),\n",
       " ('CASSFKGTHSYEQYF', ['FVDGVPFVV'], 'p'),\n",
       " ('CASSFGQVGYEQYF', ['AFPFTIYSL'], 'n'),\n",
       " ('CASSYLDSLYEQYV', ['YFLQSINFVR'], 'p'),\n",
       " ('CASSQVARNEKLFF', ['ALALLLLDR'], 'n'),\n",
       " ('CATSAYITDTQYF', ['YFLQSINFVR'], 'n'),\n",
       " ('CSAIGASELAGGYNEQFF', ['FLQSINFVRI'], 'n'),\n",
       " ('CSAKREASGANVLTF', ['LLFLVLIML'], 'p'),\n",
       " ('CASSAQGSLAPYNEQFF', ['INVFAFPFTI'], 'n'),\n",
       " ('CATIDRNQYNEQFF', ['LLFLVLIML'], 'n'),\n",
       " ('CASSDLWQGGTGELFF', ['LYIIKLIFLW'], 'n'),\n",
       " ('CASSQETANTGELFF', ['QSINFVRII'], 'n'),\n",
       " ('CSAHGQGIYEQYF', ['YLCFLAFLL'], 'p'),\n",
       " ('CASSWASYNEQFF', ['FYLCFLAFLL'], 'n'),\n",
       " ('CASSQALNTEAFF', ['ELYSPIFLI'], 'n'),\n",
       " ('CASSLSGKAYEQYF', ['IDFYLCFLAF'], 'n'),\n",
       " ('CASSLGVMYNEQFF', ['FYLCFLAFLL'], 'n'),\n",
       " ('CASFRAEEQFF', ['LWPVTLACF'], 'n'),\n",
       " ('CASSGQGGEYEQYF', ['QSINFVRII'], 'n'),\n",
       " ('CASSLQAPHEQYF', ['TPSGTWLTY'], 'n'),\n",
       " ('CSVFKGNTIYF', ['YLCFLAFLL'], 'n'),\n",
       " ('CASSLMTGGETQYF', ['QELYSPIFL'], 'n'),\n",
       " ('CASSLGPGGYQPQHF', ['FLAFLLFLV'], 'n'),\n",
       " ('CASSLGGSGTQYF', ['SLIDFYLCFL'], 'n'),\n",
       " ('CASSFATGVVTEAFF', ['VLPFNDGVY'], 'n'),\n",
       " ('CASSSTDMGAWNTEAFF', ['TVYSHLLLV'], 'n'),\n",
       " ('CSAIGTYEQYF', ['LGAENSVAY'], 'n'),\n",
       " ('CASSLGVGSRGEQYF', ['LLFLVLIML'], 'n'),\n",
       " ('CASSLDTSKAFF', ['IELSLIDFYL'], 'n'),\n",
       " ('CSVQLTEYTEAFF', ['SLIDFYLCFL'], 'n'),\n",
       " ('CSADTRLRDIYEQFF', ['MIELSLIDFY'], 'n'),\n",
       " ('CASSLGNQPQHF', ['YQIGGYTEK'], 'n'),\n",
       " ('CASSVTSGGSYEQYF', ['TGSNVFQTR'], 'n'),\n",
       " ('CASSVVGGSSYNEQFF', ['DGVYFASTEK'], 'n'),\n",
       " ('CASSVGATPYGYTF', ['FLQSINFVRI'], 'p'),\n",
       " ('CASRGGTTYEQYF', ['FLAFLLFLV'], 'n'),\n",
       " ('CASISRVDEQFF', ['AYKTFPPTEPK'], 'n'),\n",
       " ('CSATGQTGQETQYF', ['YLCFLAFLL'], 'p'),\n",
       " ('CSARDSAGGDEQYF', ['KLSYGIATV'], 'n'),\n",
       " ('CSGGQGNEAFF', ['INVFAFPFTI'], 'n'),\n",
       " ('CSATYGYTF', ['RQLLFVVEV'], 'n'),\n",
       " ('CASSPPGQGGYEQYF', ['FVDGVPFVV'], 'n'),\n",
       " ('CASSSTPLGQPQHF', ['FLWLLWPVT'], 'n'),\n",
       " ('CASSLAGQGVNTEAFF', ['LLFLAFVVFL'], 'n'),\n",
       " ('CASSPNSADTQYF', ['FLWLLWPVTL'], 'n'),\n",
       " ('CASSQDRADNSPLHF', ['INVFAFPFTI'], 'n'),\n",
       " ('CSVEYQGHEQYF', ['ASQSIIAYTM'], 'n'),\n",
       " ('CASSISGTGLNEQFF', ['DFLEYHDVR'], 'n'),\n",
       " ('CASSTYTNGHYNEQFF', ['YFLQSINFVR'], 'n'),\n",
       " ('CASSYDRTTNEKLFF', ['LLTDEMIAQY'], 'n'),\n",
       " ('CASSEDIGTSGTFSYNEQFF', ['YINVFAFPF'], 'n'),\n",
       " ('CSVQTGFAEAFF', ['LIDFYLCFL'], 'n'),\n",
       " ('CASSSYAGGGSYTDTQYF', ['NYSGVVTTVMF'], 'n'),\n",
       " ('CATSDPVGYNEQFF', ['YQIGGYTEK'], 'n'),\n",
       " ('CASSQKDLGGDEQYF', ['AEIRASANLA'], 'n'),\n",
       " ('CASSFEGGKYEQYF', ['QELIRQGTDY'], 'n'),\n",
       " ('CASSYPSTSGILSNQPQHF', ['RYRIGNYKL'], 'n'),\n",
       " ('CASSEAGATDTQYF', ['WLLWPVTLA'], 'n'),\n",
       " ('CSARDGTVGYEQYF', ['FLWLLWPVTL'], 'n'),\n",
       " ('CASSVAGDIILNEQFF', ['YLYALVYFL'], 'n'),\n",
       " ('CASSASWGWERKLGSPLHF', ['VVDDPCPIHFY'], 'n'),\n",
       " ('CASAFEADRALTGELFF', ['NLDSKVGGNY'], 'p'),\n",
       " ('CSVGGSLTYEQYF', ['QSINFVRII'], 'n'),\n",
       " ('CASSLVGGGVEQYF', ['YLCFLAFLL'], 'n'),\n",
       " ('CASSQGPEQYF', ['YLCFLAFLL'], 'n'),\n",
       " ('CSAAGQGLAGDTQYF', ['TPSGTWLTY'], 'n'),\n",
       " ('CASSLALASATDTQYF', ['MGYINVFAF'], 'n'),\n",
       " ('CASSLGTDSYEQYF', ['IDFYLCFLAF'], 'n'),\n",
       " ('CSAEDERGTLREQYF', ['SEHDYQIGGYTEKW'], 'n'),\n",
       " ('CASSMRSTDTQYF', ['LPFFSNVTWF'], 'p'),\n",
       " ('CASSIAVRTGTNTEAFF', ['GYINVFAFPF'], 'n'),\n",
       " ('CASSLLGEAEYGKLFF', ['VQELYSPIFL'], 'n'),\n",
       " ('CASSHASGLQVEDTQYF', ['FLWLLWPVT'], 'n'),\n",
       " ('CASSPGTSGEDTQYF', ['SLIDFYLCFL'], 'p'),\n",
       " ('CASSQTRGGIGANVLTF', ['YLCFLAFLL'], 'p'),\n",
       " ('CASSPRTGGYEQYF', ['AFPFTIYSL'], 'n'),\n",
       " ('CSADLPGDYGYTF', ['STQDLFLPFF'], 'n'),\n",
       " ('CASSLLPVAGKNEKLFF', ['LPFNDGVYFA'], 'n'),\n",
       " ('CASSYSNTGELFF', ['FLAFLLFLV'], 'n'),\n",
       " ('CASSPRSTDTQYF', ['LLYDANYFL'], 'n'),\n",
       " ('CASSPVNTGELFF', ['VQELYSPIFL'], 'n'),\n",
       " ('CASSLAGELWYGYTF', ['FYLCFLAFL'], 'n'),\n",
       " ('CASSLMAGPGFDEQFF', ['MEVTPSGTWL'], 'p'),\n",
       " ('CASSSEQGESADTQYF', ['YQIGGYTEK'], 'n'),\n",
       " ('CASSLFGPEAFF', ['IDFYLCFLAF'], 'n'),\n",
       " ('CAIKGAGGNTEAFF', ['YQIGGYTEKW'], 'n'),\n",
       " ('CASSIRSSYEQYF', ['LEPLVDLPI'], 'n'),\n",
       " ('CASSFLSSQGTTEAFF', ['FLWLLWPVT'], 'n'),\n",
       " ('CASSYSTSGGGVYEQYF', ['KAYNVTQAF'], 'n'),\n",
       " ('CASILGRDLGIYGYTF', ['YLNTLTLAV'], 'n'),\n",
       " ('CASISVGTDYYGYTF', ['AFLLFLVLI'], 'n'),\n",
       " ('CASTTGPSADGYTF', ['NVFAFPFTI'], 'n'),\n",
       " ('CAGGTSGYEQYF', ['FVDGVPFVV'], 'p'),\n",
       " ('CASSYDRGPVGANVLTF', ['VEAEVQIDRL'], 'n'),\n",
       " ('CASSFGSGDTQYF', ['INFVRIIMR'], 'n'),\n",
       " ('CASSLPGSEAFF', ['VQPTESIVRF'], 'n'),\n",
       " ('CASSWGGIWETQYF', ['YQIGGYTEKW'], 'n'),\n",
       " ('CASSLLLPDRTDTQYF', ['HTTDPSFLGRY'], 'n'),\n",
       " ('CASSFYGLAYEQYF', ['VLSFCAFAV'], 'n'),\n",
       " ('CSARGRSAIYEQYF', ['YQIGGYTEK'], 'n'),\n",
       " ('CSVFLEKVGNEQFF', ['KPLEFGATSAAL'], 'n'),\n",
       " ('CASREGQGLYNEQFF', ['GYINVFAFPF'], 'n'),\n",
       " ('CASSLENYNEQFF', ['TLACFVLAAV'], 'n'),\n",
       " ('CATSDLGTGDNEQFF', ['VYFLQSINFV'], 'n'),\n",
       " ('CASSPPGAGRETQYF', ['LIDFYLCFL'], 'n'),\n",
       " ('CAISESDQSSYNEQFF', ['ALRKVPTDNYITTY'], 'n'),\n",
       " ('CSASILAEETQYF', ['GYINVFAFPF'], 'n'),\n",
       " ('CASSQEVYGLNQPQHF', ['LLFLVLIML'], 'n'),\n",
       " ('CASSFLTSGIYNEQFF', ['LQSINFVRII'], 'n'),\n",
       " ('CASSGWTSGVSSYNEQFF', ['LLYDANYFLC'], 'n'),\n",
       " ('CASSQGLAAPTDTQYF', ['FYLCFLAFL'], 'n'),\n",
       " ('CASSRDGFQETQYF', ['SLIDFYLCFL'], 'n'),\n",
       " ('CASSNPGHRAYNEQFF', ['YYRRATRRIR'], 'n'),\n",
       " ('CASSRLTASGGQDTQYF', ['WPVTLACFVL'], 'n'),\n",
       " ('CASSRTSGSPGNEQFF', ['FLQSINFVR'], 'n'),\n",
       " ('CSVEQARPHNEQFF', ['LLYDANYFL'], 'n'),\n",
       " ('CSVFKGNTIYF', ['SLIDFYLCFL'], 'n'),\n",
       " ('CASSSGRSSYNEQFF', ['KTFPPTEPK'], 'n'),\n",
       " ('CASSLERGEVMAETQYF', ['KLWAQCVQL'], 'n'),\n",
       " ('CASSATGNTEAFF', ['VQELYSPIFL'], 'n'),\n",
       " ('CASSHQQETNTEAFF', ['MIELSLIDFY'], 'p'),\n",
       " ('CASSTRQGAGGYTF', ['RFPNITNLCPF'], 'n'),\n",
       " ('CATRGTSGYNEQFF', ['GVYFASTEK'], 'n'),\n",
       " ('CASSLDPGLGIYEQYF', ['VVYRGTTTY'], 'n'),\n",
       " ('CASSFSGRGSYEQYF', ['VQELYSPIF'], 'n'),\n",
       " ('CSASWTDNEQFF', ['YEDFLEYHDVRVVL'], 'n'),\n",
       " ('CATITGSRGIYEQFF', ['FGEVFNATRF'], 'n'),\n",
       " ('CASSQPLAGDTGELFF', ['WLLWPVTLA'], 'n'),\n",
       " ('CASSYTTGSRETQYF', ['KLSYGIATV'], 'n'),\n",
       " ('CASSQEGGGNEQFF', ['YLCFLAFLL'], 'n'),\n",
       " ('CASSPTDLNTEAFF', ['LIVNSVLLFL'], 'n'),\n",
       " ('CASSVRSTDTQYF', ['YLQPRTFL'], 'n'),\n",
       " ('CSAQIPGKVLSGNTIYF', ['TLACFVLAAV'], 'n'),\n",
       " ('CSSVGRGPEQYF', ['FYLCFLAFLL'], 'p'),\n",
       " ('CASSLIKGGSDTEAFF', ['FLQSINFVR'], 'n'),\n",
       " ('CASSFPTSEATDTQYF', ['SLIDFYLCFL'], 'n'),\n",
       " ('CASSATGPNQPQHF', ['TFKVSIWNL'], 'n'),\n",
       " ('CATSDPRGEMGTGELFF', ['IDFYLCFLAF'], 'p'),\n",
       " ('CASSVGTGHSYEQYF', ['YQIGGYTEKW'], 'p'),\n",
       " ('CASSQDLLAGELFF', ['IDFYLCFLAF'], 'n'),\n",
       " ('CASSAAQPGQNRFF', ['MIELSLIDFY'], 'p'),\n",
       " ('CASSLVHTDTQYF', ['LLFLVLIML'], 'n'),\n",
       " ('CASSSAISGTGETQYF', ['HTTDPSFLGRY'], 'n'),\n",
       " ('CASSRGPGTSGYEQYF', ['VYSSANNCTF'], 'n'),\n",
       " ('CSEIGVSTDTQYF', ['LWPVTLACF'], 'n'),\n",
       " ('CASSLSGANTGELFF', ['IELSLIDFYL'], 'n'),\n",
       " ('CASSLASGVTGELFF', ['FYLCFLAFLL'], 'n'),\n",
       " ('CASSPSPQGTYFF', ['RIAGHHLGR'], 'p'),\n",
       " ('CASSQVRGSSGNTIYF', ['IDFYLCFLAF'], 'n'),\n",
       " ('CASSEAPRLAGHYEQYF', ['LLFLVLIML'], 'n'),\n",
       " ('CASSLVGAQETQYF', ['AFLLFLVLI'], 'n'),\n",
       " ('CASRGIRDREPKNAYEQYF', ['RFPNITNLCPF'], 'n'),\n",
       " ('CASSVAYWGGPDNEQFF', ['LYSPIFLIV'], 'p'),\n",
       " ('CASSRDSAGWNEQYF', ['VMCGGSLYV'], 'n'),\n",
       " ('CSATRQGTYEQYF', ['FYLCFLAFLL'], 'p'),\n",
       " ('CASSSTANTEAFF', ['QPTESIVRF'], 'n'),\n",
       " ('CSATTSGSTYEQYF', ['VLHSYFTSDY'], 'n'),\n",
       " ('CASSLATGVLETQYF', ['FYLCFLAFLL'], 'p'),\n",
       " ('CASSLGAGGDYNEQFF', ['GDAALALLLL'], 'p'),\n",
       " ('CASGSGVSSYNEQFF', ['LYSPIFLIV'], 'n'),\n",
       " ('CASGSAGAYEQYF', ['IELSLIDFYL'], 'n'),\n",
       " ('CASSLTGVVYEQYF', ['LPFFSNVTW'], 'p'),\n",
       " ('CATSTDTGGSTDTQYF', ['FYLCFLAFLL'], 'n'),\n",
       " ('CASSAGLAGDYEQYF', ['HTTDPSFLGRY'], 'n'),\n",
       " ('CASSSGGEQYF', ['LIVNSVLLFL'], 'n'),\n",
       " ('CASSLLPVYEQFF', ['FLWLLWPVTL'], 'n'),\n",
       " ('CASSWQGNTEAFF', ['FLPRVFSAV'], 'n'),\n",
       " ('CSASYELAGNNEQFF', ['IELSLIDFYL'], 'p'),\n",
       " ('CSATGGVEETQYF', ['FYLCFLAFL'], 'n'),\n",
       " ('CASTNIDRVEGEKLFF', ['AFLLFLVLI'], 'n'),\n",
       " ('CASSLRRDYENNEQFF', ['IDFYLCFLAF'], 'n'),\n",
       " ('CASSPYVAPVTGELFF', ['LPFFSNVTW'], 'n'),\n",
       " ('CASSATYNEQFF', ['KEIIFLEGETL'], 'n'),\n",
       " ('CASSLTGYEQYF', ['LLFLVLIML'], 'n'),\n",
       " ('CSATTEANEQYF', ['LPFNDGVYFA'], 'n'),\n",
       " ('CASSIGTGFGNEQFF', ['NVFAFPFTI'], 'n'),\n",
       " ('CASSLAGAEQYV', ['GYINVFAFPF'], 'n'),\n",
       " ('CASSLGANEAFF', ['IDFYLCFLAF'], 'n'),\n",
       " ('CSARDRLLTDTQYF', ['YLCFLAFLL'], 'n'),\n",
       " ('CASSLGTGQGYEQYF', ['LWPVTLACF'], 'n'),\n",
       " ('CASSGRAGDTQYF', ['YINVFAFPF'], 'n'),\n",
       " ('CASANRPDPFF', ['VLPFNDGVYF'], 'n'),\n",
       " ('CASSLQAPHEQYF', ['APSASAFFGM'], 'n'),\n",
       " ('CSVVGGQGEAFF', ['INVFAFPFTI'], 'n'),\n",
       " ('CASSATGESYEQYF', ['WPVTLACFVL'], 'n'),\n",
       " ('CASSSAISGTGETQYF', ['YLYALVYFL'], 'p'),\n",
       " ('CASSQDPRLPSSYNEQFF', ['GYINVFAFPF'], 'n'),\n",
       " ('CASMAGSSYNEQFF', ['YLCFLAFLL'], 'n'),\n",
       " ('CASSLAAPYEQYF', ['LTDEMIAQY'], 'n'),\n",
       " ('CASSLEGEKLFF', ['MIELSLIDFY'], 'n'),\n",
       " ('CASSWTGDSYEQYF', ['IELSLIDFYL'], 'n'),\n",
       " ('CASSSGGQGFYEQYF', ['SINFVRIIMR'], 'n'),\n",
       " ('CASSLQAPHEQYF', ['FYLCFLAFL'], 'p'),\n",
       " ('CASSFYGVQETQYF', ['SIIAYTMSL'], 'n'),\n",
       " ('CSARRTGRQYF', ['LLFVTVYSHL'], 'n'),\n",
       " ('CASSLDHRTGPYGYTF', ['LIDFYLCFL'], 'n'),\n",
       " ('CASSSAWTGSYEQYF', ['YFPLQSYGF'], 'n'),\n",
       " ('CASSSRAGEKLFF', ['SNVTWFHAI'], 'p'),\n",
       " ('CSARGLAGSTYEQYF', ['LWPVTLACF'], 'n'),\n",
       " ('CASSLAPERTNEKLFF', ['YQIGGYTEK'], 'n'),\n",
       " ('CASSLVGESHEQYF', ['LLFLVLIML'], 'n'),\n",
       " ('CASSERQGRGETQYF', ['KLWAQCVQL'], 'n'),\n",
       " ('CASSLGRLNTEAFF', ['ITLKKRWQL'], 'n'),\n",
       " ('CASSFGARPYEQYF', ['YLCFLAFLL'], 'n'),\n",
       " ('CASAEGYNEQFF', ['YLCFLAFLL'], 'n'),\n",
       " ('CASSLPGQGNPYEQYF', ['DSGFAAYSR'], 'n'),\n",
       " ('CASSHELVRVLDNEQFF', ['QYIKWPWYI'], 'n'),\n",
       " ('CASSLGQPTEAFF', ['ATEGALNTPK'], 'n'),\n",
       " ('CASSTLGWADTQYF', ['MIELSLIDFY'], 'n'),\n",
       " ('CASSSGTGVTDTQYF', ['AFLLFLVLI'], 'n'),\n",
       " ('CASLGQENYGYTF', ['YQIGGYTEKW'], 'n'),\n",
       " ('CASSPSGDEQYF', ['IELSLIDFYL'], 'n'),\n",
       " ('CSAVAGADSYEQYF', ['SLIDFYLCFL'], 'n'),\n",
       " ('CASANRPDPFF', ['WICLLQFAY'], 'n'),\n",
       " ('CAWSLSGPNEQFF', ['FYLCFLAFLL'], 'p'),\n",
       " ('CASSLFVGSDKNNEQFF', ['MPASWVMRI'], 'n'),\n",
       " ('CSATAGGETQYF', ['LIDFYLCFL'], 'p'),\n",
       " ('CASSLALVGEQFF', ['AYILFTRFFYV'], 'n'),\n",
       " ('CARQGLNTGELFF', ['KLSYGIATV'], 'n'),\n",
       " ('CASSPGGGLTYEQYF', ['IELSLIDFYL'], 'n'),\n",
       " ('CASSLSSAGEQYF', ['YEQYIKWPW'], 'n'),\n",
       " ('CSATREGRLGETQYF', ['VFITLCFTLK'], 'n'),\n",
       " ('CASSWATEAFF', ['IDFYLCFLAF'], 'p'),\n",
       " ('CASSFRLGQYNSPLHF', ['AEAELAKNVSL'], 'n'),\n",
       " ('CASSYGGANTEAFF', ['TLACFVLAAV'], 'n'),\n",
       " ('CASSEVDSGYTF', ['INVFAFPFTI'], 'n'),\n",
       " ('CASSPHGQGKAGYTF', ['DFLEYHDVR'], 'n'),\n",
       " ('CASSLDGGYEQYF', ['VQELYSPIFL'], 'p'),\n",
       " ('CSAFFGGATTDTQYF', ['IDFYLCFLAF'], 'n'),\n",
       " ('CASSDGASGTDEQFF', ['APKEIIFL'], 'n'),\n",
       " ('CASSPGGVSGNTIYF', ['DFLEYHDVR'], 'n'),\n",
       " ('CASSGTPGLAASEQYF', ['YLCFLAFLL'], 'n'),\n",
       " ('CASRGPGPNSYEQYF', ['LLFLVLIML'], 'p'),\n",
       " ('CSVDGGQAGTEAFF', ['SLIDFYLCFL'], 'p'),\n",
       " ('CASSLVKGQGATLAKNIQYF', ['YFLQSINFVR'], 'n'),\n",
       " ('CASSTSSTVSSSYNEQFF', ['YQIGGYTEK'], 'n'),\n",
       " ('CASSPGQGLSYEQYF', ['IELSLIDFYL'], 'n'),\n",
       " ('CASSEGVSNQPQHF', ['SLIDFYLCFL'], 'n'),\n",
       " ('CASSLSPGGPVEQFF', ['LIDFYLCFL'], 'p'),\n",
       " ('CSASSEYNEQFF', ['IDFYLCFLAF'], 'p'),\n",
       " ('CASSPFAGELFF', ['AELAKNVSLDNVL'], 'n'),\n",
       " ('CASSVGDEKLFF', ['KLPDDFTGCV'], 'n'),\n",
       " ('CASSTSARQFLYGYTF', ['VLSFCAFAV'], 'n'),\n",
       " ('CASSFSENVYYEQYF', ['LIDFYLCFL'], 'n'),\n",
       " ('CASSFLQVTDSPLHF', ['YLCFLAFLL'], 'n'),\n",
       " ('CASSLVFAVGREANSGNTIYF', ['LIDFYLCFL'], 'n'),\n",
       " ('CASSRPGTGTYEQYF', ['ELYSPIFLI'], 'p'),\n",
       " ('CASSPGLAGGTDTQYF', ['YVVDDPCPI'], 'n'),\n",
       " ('CASSIGQGFSYEQYF', ['LEYHDVRVVL'], 'n'),\n",
       " ('CSAGTAEETQYF', ['LIDFYLCFL'], 'n'),\n",
       " ('CASGRDSKTSTDTQYF', ['FLWLLWPVTL'], 'n'),\n",
       " ('CASRFEQFF', ['YEQYIKWPW'], 'n'),\n",
       " ('CSIEREGYNEQFF', ['FYLCFLAFLL'], 'p'),\n",
       " ('CAVLGSEFETQYF', ['ELYSPIFLI'], 'p'),\n",
       " ('CASSPRVLGETQYF', ['FYLCFLAFLL'], 'n'),\n",
       " ('CASSRLRLSGNEQYF', ['IELSLIDFYL'], 'n'),\n",
       " ('CASSVDTSGKNTGELFF', ['FVDGVPFVV'], 'n'),\n",
       " ('CASSVVKGQGPLSGANVLTF', ['WPVTLACFVL'], 'n'),\n",
       " ('CATSDPMDQITGELFF', ['FERDISTEI'], 'n'),\n",
       " ('CATSVPPTRRDSYNEQFF', ['VQIDRLITGR'], 'n'),\n",
       " ('CSVEQDRRDYQETQYF', ['MVMCGGSLYV'], 'p'),\n",
       " ('CASAEGYNEQFF', ['FLYLYALVYF'], 'n'),\n",
       " ('CASSDSLSPYEQYF', ['YYVGYLQPRTF'], 'n'),\n",
       " ('CSARGLADSYEQYF', ['FLNRFTTTL'], 'n'),\n",
       " ('CASRGGTEAFF', ['TPSGTWLTY'], 'p'),\n",
       " ('CASSMDPEETGELFF', ['NPANNAAIV'], 'p'),\n",
       " ('CSAGWATTEAFF', ['AEAELAKNVSL'], 'n'),\n",
       " ('CASSPTGYGYTF', ['VLPFNDGVYF'], 'n'),\n",
       " ('CSASLFFHTDTQYF', ['LLFLVLIML'], 'n'),\n",
       " ('CASSPVSNQPQHF', ['FYLCFLAFL'], 'p'),\n",
       " ('CAWSVLSGPRGYTF', ['LQSINFVRI'], 'n'),\n",
       " ('CASSQRTGQGLPYEQYF', ['LNDLCFTNVY'], 'n'),\n",
       " ('CASSYSDDGRDTQYF', ['IELSLIDFYL'], 'n'),\n",
       " ('CSAADESSYNEQFF', ['FLYLYALVYF'], 'n'),\n",
       " ('CSGGQGRYEQYF', ['DGVYFASTEK'], 'n'),\n",
       " ('CASSDLWQGGTGELFF', ['ELYSPIFLI'], 'n'),\n",
       " ('CASSPSVWESNQPQHF', ['MIELSLIDFY'], 'n'),\n",
       " ('CSASWASGNHEQYF', ['APAHISTI'], 'n'),\n",
       " ('CAARAWGGSEKLFF', ['DFLEYHDVR'], 'n'),\n",
       " ('CASSYSVAGRAVEQFF', ['FVDGVPFVV'], 'n'),\n",
       " ('CASSPGGSSYEQYF', ['VFITLCFTLK'], 'n'),\n",
       " ('CSATTSGRLEETQYF', ['HTTDPSFLGRY'], 'n'),\n",
       " ('CASNPGGRQQYF', ['LWPVTLACF'], 'n'),\n",
       " ('CSVVGGRGVVSDTQYF', ['NVFAFPFTIY'], 'n'),\n",
       " ('CASLMTGLYNSPLHF', ['FYLCFLAFLL'], 'p'),\n",
       " ('CASSQILAYEQYF', ['SVLLFLAFV'], 'n'),\n",
       " ('CASSLMNPSGTQETQYF', ['LPFNDGVYFA'], 'n'),\n",
       " ('CASSFSPGDRPNNEQFF', ['SVLLFLAFV'], 'n'),\n",
       " ('CASSDPERQMYNEQFF', ['APGQTGKIA'], 'n'),\n",
       " ('CASSYRATSGINGFEQFF', ['YFTSDYYQLY'], 'n'),\n",
       " ('CASSFSSSGNTIYF', ['KLPDDFTGCV'], 'n'),\n",
       " ('CAISPTGPNYGYTF', ['NVFAFPFTIY'], 'n'),\n",
       " ('CASSGTASNQPQHF', ['FYLCFLAFL'], 'n'),\n",
       " ('CATSSSGYEQYF', ['NPLLYDANY'], 'n'),\n",
       " ('CASSMVGAGVYEQYF', ['LLFLVLIML'], 'n'),\n",
       " ('CASSYGSYEQYF', ['FLAFLLFLV'], 'n'),\n",
       " ('CASSLEPGRLNYGYTF', ['NVFAFPFTIY'], 'n'),\n",
       " ('CASSPMGAVNTEAFF', ['YINVFAFPF'], 'n'),\n",
       " ('CASSLGDRVRNEQFF', ['LIIMRTFKV'], 'p'),\n",
       " ('CASHTGLAGGGEQFF', ['AEAELAKNVSL'], 'n'),\n",
       " ('CASSSTGGHEKLFF', ['VQELYSPIF'], 'n'),\n",
       " ('CASSLSGRGEQYF', ['FLAFLLFLV'], 'n'),\n",
       " ('CAWDLPGGQLFF', ['SEYKGPITDVFY'], 'n'),\n",
       " ('CASSQSNTGELFF', ['YLQPRTFL'], 'n'),\n",
       " ('CASSPTINEQFF', ['LQLGFSTGV'], 'p'),\n",
       " ('CASSSSGETQYF', ['SIIAYTMSL'], 'n'),\n",
       " ('CASRSGGWNQPQHF', ['YFLQSINFVR'], 'n'),\n",
       " ('CASSQQGPTGELFF', ['LLYDANYFLC'], 'p'),\n",
       " ('CASIGGTEHSF', ['ILHCANFNV'], 'n'),\n",
       " ('CASSEPGLGYGYTF', ['AELAKNVSLDNVL'], 'n'),\n",
       " ('CSASGGAFGETQYF', ['LIIMRTFKV'], 'n'),\n",
       " ('CSAETGTYNEQFF', ['LIDFYLCFL'], 'p'),\n",
       " ('CASSLGTGTGFYEQYF', ['YINVFAFPF'], 'n'),\n",
       " ('CASSLTGTVNTEAFF', ['LTDEMIAQYT'], 'n'),\n",
       " ('CSSSGSGPEQFF', ['MIELSLIDFY'], 'n'),\n",
       " ('CSVGTSGSGSYNEQFF', ['VQELYSPIF'], 'n'),\n",
       " ('CASSPNGGEQFF', ['GYINVFAFPF'], 'p'),\n",
       " ('CASSLDGRAAEQYF', ['TLACFVLAAV'], 'n'),\n",
       " ('CASSAGTGAYEQYF', ['GMEVTPSGTWL'], 'n'),\n",
       " ('CASSETVSSTDTQYF', ['FLWLLWPVTL'], 'n'),\n",
       " ('CASSLGQDSSYEQYF', ['LLFLVLIML'], 'n'),\n",
       " ('CASSSQPDGLVEQYF', ['FLQSINFVR'], 'n'),\n",
       " ('CASSQEGGPGANVLTF', ['NVFAFPFTIY'], 'n'),\n",
       " ('CAISEDVRTGVPTEAFF', ['YLCFLAFLL'], 'p'),\n",
       " ('CASSSSGFTEAFF', ['MIELSLIDFY'], 'n'),\n",
       " ('CASSTTGYEQYF', ['YDANYFLCW'], 'n'),\n",
       " ('CASIGGVNTEAFF', ['MGYINVFAF'], 'n'),\n",
       " ('CSARDLQVSYEQYF', ['LLFLAFVVFL'], 'n'),\n",
       " ('CASSLGQGESGELFF', ['FYLCFLAFLL'], 'n'),\n",
       " ('CATSDFGHDSNQPQHF', ['SNEKQEILGTVSW'], 'p'),\n",
       " ('CASSLDPGGGTDTQYF', ['LQSINFVRII'], 'n'),\n",
       " ('CASSLPGSYEQYF', ['FLWLLWPVTL'], 'p'),\n",
       " ('CASSLDLSYEQYF', ['LLFLVLIML'], 'n'),\n",
       " ('CASSPTGNEQFF', ['TLACFVLAAV'], 'n'),\n",
       " ('CASSPYYNEQFF', ['YLCFLAFLL'], 'n'),\n",
       " ('CASSLSTDTQYF', ['YQIGGYTEKW'], 'n'),\n",
       " ('CASSFYGLAYEQYF', ['LLFLVLIML'], 'n'),\n",
       " ('CASSHTGPIEAFF', ['MEVTPSGTWL'], 'n'),\n",
       " ('CASSPNRDF', ['APKEIIFL'], 'n'),\n",
       " ('CASSAGTSGSYEQYF', ['VMCGGSLYV'], 'n'),\n",
       " ('CASSPTGTGELFF', ['WLLWPVTLA'], 'n'),\n",
       " ('CASRDVLAGAFF', ['IDFYLCFLAF'], 'n'),\n",
       " ('CASSDGLARNEQFF', ['NPLLYDANY'], 'p'),\n",
       " ('CASSSNTEAFF', ['FLAFLLFLV'], 'p'),\n",
       " ('CASKSSRINYGYTF', ['FLAFLLFLV'], 'n'),\n",
       " ('CSAFFGGATTDTQYF', ['KLSYGIATV'], 'n'),\n",
       " ('CASSLTGEHLEQFF', ['IELSLIDFYL'], 'n'),\n",
       " ('CASSFGLAGDALHTDTQYF', ['YEQYIKWPWY'], 'n'),\n",
       " ('CASSQDGGTYNEQFF', ['AELAKNVSLDNVL'], 'n'),\n",
       " ('CSASREGYEQYF', ['VTPSGTWLTY'], 'n'),\n",
       " ('CASSPFQEYQGHEQFF', ['MLIIFWFSL'], 'p'),\n",
       " ('CASKTDGMNILGMNTEAFF', ['TLATCELYHY'], 'n'),\n",
       " ('CASLAGPYTGELFF', ['YINVFAFPF'], 'n'),\n",
       " ('CSASAGGSWNYGYTF', ['YLCFLAFLL'], 'p'),\n",
       " ('CSARVGVEQYF', ['MGYINVFAF'], 'n'),\n",
       " ('CASSPRETPYEQYF', ['LWPVTLACF'], 'n'),\n",
       " ('CASSPDTGSPYEQYF', ['FPNITNLCPF'], 'p'),\n",
       " ('CASSEAPRLAGHYEQYF', ['TPSGTWLTY'], 'p'),\n",
       " ('CASSLASEAFNEQFF', ['NQKLIANQF'], 'p'),\n",
       " ('CASSPSFTGELFF', ['TPSGTWLTY'], 'n'),\n",
       " ('CSADGWGEGETQYF', ['AFLLFLVLI'], 'p'),\n",
       " ('CSATAGQETQYF', ['FLYLYALVYF'], 'n'),\n",
       " ('CATSDLGTSGTSTDTQYF', ['FLWLLWPVT'], 'p'),\n",
       " ('CSAYGQGGPPLNEQFF', ['IDFYLCFLAF'], 'p'),\n",
       " ('CASSSISLRETQYF', ['YLCFLAFLL'], 'n'),\n",
       " ('CSVEKGFGNTIYF', ['SIWNLDYII'], 'n'),\n",
       " ('CSARAGDSNNEQFF', ['VMCGGSLYV'], 'n'),\n",
       " ('CASSYLHGNGYTF', ['NYLYRLFRK'], 'n'),\n",
       " ('CSAPRTSGSAAQETQYF', ['MGYINVFAF'], 'p'),\n",
       " ('CASSNRVDTGELFF', ['MLIIFWFSL'], 'n'),\n",
       " ('CASSDPGQGSHEQYF', ['SEHDYQIGGYTEKW'], 'n'),\n",
       " ('CASSQEQVTGELFF', ['YLCFLAFLL'], 'n'),\n",
       " ('CASSLVGAADTIYF', ['FLAFLLFLV'], 'n'),\n",
       " ('CASESRGSGREQYF', ['VPHVGEIPVAY'], 'n'),\n",
       " ('CASSIRSSYEQYF', ['LPFNDGVYFA'], 'n'),\n",
       " ('CASSPHPGGDYGYTF', ['YDANYFLCW'], 'n'),\n",
       " ('CASSIIFPSDSTGELFF', ['LLFLVLIML'], 'n'),\n",
       " ('CASSLSPNGNIQYF', ['FYLCFLAFLL'], 'n'),\n",
       " ('CASSSPGRETQYF', ['FYLCFLAFLL'], 'n'),\n",
       " ('CASSFTGGPYEQYF', ['VQELYSPIFL'], 'p'),\n",
       " ('CASRGVVDIAKNIQYF', ['YFTSDYYQLY'], 'n'),\n",
       " ('CASSIRTGGGNEQFF', ['LTDEMIAQY'], 'n'),\n",
       " ('CASSLLAGVYYEQYF', ['TLACFVLAAV'], 'p'),\n",
       " ('CASSQLAGGYNEQFF', ['FKVSIWNLDY'], 'n'),\n",
       " ('CARSVGGGQGANNEQFF', ['VLPFNDGVY'], 'p'),\n",
       " ('CASSLSLSAGVSTDTQYF', ['HTTDPSFLGRY'], 'n'),\n",
       " ('CASSPRPLWRTTDTQYF', ['MIELSLIDFY'], 'p'),\n",
       " ('CASSFSNEQFF', ['APAHISTI'], 'n'),\n",
       " ('CASSLFQGTDTQYF', ['GYINVFAFPF'], 'n'),\n",
       " ('CASSLGYSYNEQFF', ['TVLSFCAFA'], 'n'),\n",
       " ('CSAPWGVAYEQYF', ['AFLLFLVLI'], 'p'),\n",
       " ('CAITGTEETQYF', ['FYLCFLAFL'], 'p'),\n",
       " ('CASSSGLQNYEQYF', ['KLSYGIATV'], 'n'),\n",
       " ('CSVGGLAGVVADTQYF', ['YQIGGYTEK'], 'n'),\n",
       " ('CASSFSYEQYF', ['GLEAPFLYLY'], 'n'),\n",
       " ('CASSMGQGLENEQFF', ['YLCFLAFLL'], 'n'),\n",
       " ('CASTPGLGVAEKLFF', ['YQIGGYTEK'], 'p'),\n",
       " ('CASSQGQGVEKLFF', ['FLAFLLFLV'], 'p'),\n",
       " ('CASGLGTGALYGYTF', ['VRFPNITNL'], 'n'),\n",
       " ('CASSLDQTTNYGYTF', ['EDFLEYHDVR'], 'n'),\n",
       " ('CASSLGTGQGYEQYF', ['KLSYGIATV'], 'n'),\n",
       " ('CASSLVEGDGYTF', ['FLWLLWPVTL'], 'n'),\n",
       " ('CSASDIGETQYF', ['IELSLIDFYL'], 'p'),\n",
       " ('CASALAGGGYEQYF', ['FYLCFLAFLL'], 'p'),\n",
       " ('CASSPSTFLDRVDGYTF', ['KLSYGIATV'], 'n'),\n",
       " ('CSARDLDFSSGRPETQYF', ['LLFLVLIML'], 'n'),\n",
       " ('CASSLLSAKETQYF', ['LLYDANYFL'], 'n'),\n",
       " ('CASSQTGTEQFF', ['GYINVFAFPF'], 'n'),\n",
       " ('CASSQDETEETQYF', ['IDFYLCFLAF'], 'n'),\n",
       " ('CASSPNTAEANYGYTF', ['FLNGSCGSV'], 'p'),\n",
       " ('CSATVERSGNEQFF', ['IELSLIDFYL'], 'n'),\n",
       " ('CASSRLAEETQYF', ['FYLCFLAFL'], 'n'),\n",
       " ('CAWSVGLGPYNEQFF', ['SELVIGAVI'], 'n'),\n",
       " ('CASSLTTAYGYTF', ['LEYHDVRVVL'], 'n'),\n",
       " ('CASSQSNTGELFF', ['IELSLIDFYL'], 'n'),\n",
       " ('CSVLGGSTYYEQYF', ['LIDFYLCFL'], 'n'),\n",
       " ('CASSQVTSGGIQETQYF', ['AEVQIDRLI'], 'n'),\n",
       " ('CASSPAGDNEQFF', ['FLNGSCGSV'], 'p'),\n",
       " ('CSVALETGNTEAFF', ['SLIDFYLCFL'], 'n'),\n",
       " ('CASLLSIPGELFF', ['SLIDFYLCFL'], 'n'),\n",
       " ('CSARVRTGGYEQYF', ['LIDFYLCFL'], 'p'),\n",
       " ('CASSLNAGDNQPQHF', ['WLLWPVTLA'], 'n'),\n",
       " ('CASSLDRGLRASYEQYF', ['FYLCFLAFL'], 'n'),\n",
       " ('CAIPPGDHEQYV', ['INVFAFPFTI'], 'n'),\n",
       " ('CASSERPGSGELFF', ['FLYLYALVYF'], 'n'),\n",
       " ('CASSLTGPSYEQYF', ['LLFLAFVVFL'], 'n'),\n",
       " ('CASSMGQGYSYEQYF', ['FLWLLWPVTL'], 'n'),\n",
       " ('CASSLTGDTEAFF', ['NVFAFPFTIY'], 'p'),\n",
       " ('CATSDSAGEETQYF', ['IDFYLCFLAF'], 'n'),\n",
       " ('CASSADRVLFEQYF', ['LYSPIFLIV'], 'p'),\n",
       " ('CASSPRTSGTDTQYF', ['WPVTLACFVL'], 'n'),\n",
       " ('CAAGLPRAEAFF', ['LIDFYLCFL'], 'p'),\n",
       " ('CASSFPGLEGEHEQYF', ['YLCFLAFLL'], 'n'),\n",
       " ('CASSFGRFVAKNIQYF', ['LLYDANYFL'], 'n'),\n",
       " ('CASSPGAQGFNEQYF', ['TLACFVLAAV'], 'n'),\n",
       " ('CSASEETDTQYF', ['YQIGGYTEKW'], 'n'),\n",
       " ('CATYLEGTGLANYGYTF', ['FYLCFLAFLL'], 'n'),\n",
       " ('CASSQDPPAAFQETQYF', ['SSTFNVPMEKLK'], 'n'),\n",
       " ('CASSIGQGYLYEQYF', ['LIVNSVLLFL'], 'n'),\n",
       " ('CASSLWPEGTGELFF', ['VGVALLAVF'], 'n'),\n",
       " ('CASSGDRSSGNTIYF', ['YQIGGYTEK'], 'n'),\n",
       " ('CAWRYYGGISPLHF', ['MIELSLIDFY'], 'p'),\n",
       " ('CASSYSYEQYF', ['LQSINFVRI'], 'n'),\n",
       " ('CSVEGVSYEQYF', ['FKVSIWNLDY'], 'n'),\n",
       " ('CASSPRDEQYF', ['FYLCFLAFLL'], 'n'),\n",
       " ('CASSIGLTEAFF', ['YTVSCLPFTI'], 'n'),\n",
       " ('CASSHGLAAAVSDTQYF', ['FYLCFLAFLL'], 'n'),\n",
       " ('CASSLVGEQYF', ['KLNDLCFTNV'], 'n'),\n",
       " ('CATSDLQGGAGLNEQFF', ['LLLDDFVEI'], 'n'),\n",
       " ('CSANLGNNEQFF', ['SIIAYTMSL'], 'n'),\n",
       " ('CASSYLTSGESFGQQETQYF', ['GLEAPFLYLY'], 'n'),\n",
       " ('CASRMSRDQPEETQYF', ['VYADSFVIR'], 'n'),\n",
       " ('CASSTPLVLDEQYF', ['ALRKVPTDNYITTY'], 'n'),\n",
       " ('CASSPRPGLAPNTGELFF', ['LIDFYLCFL'], 'p'),\n",
       " ('CASQKAGGGGVYEQYF', ['VTPSGTWLTY'], 'n'),\n",
       " ('CASSEYEWTGDGELFF', ['AFLLFLVLI'], 'n'),\n",
       " ('CASSRTSGSRNEQFF', ['YLCFLAFLL'], 'p'),\n",
       " ('CASSLWDSLNQPQHF', ['LLYDANYFLC'], 'n'),\n",
       " ('CSAYTGFGNQPQHF', ['YFTSDYYQLY'], 'n'),\n",
       " ('CASSLGLAGGLGDTQYF', ['INVFAFPFTI'], 'n'),\n",
       " ('CASSEGTGYGYTF', ['YEQYIKWPWY'], 'n'),\n",
       " ('CASSMGWADVYNEQFF', ['RLQSLQTYV'], 'n'),\n",
       " ('CASSQREAYNEQFF', ['ASQSIIAYTM'], 'n'),\n",
       " ('CASSIDLGNEQFF', ['WLLWPVTLA'], 'n'),\n",
       " ('CASGLVDVAGGINEQFF', ['MGYINVFAF'], 'n'),\n",
       " ('RRTVETQYF', ['FKVSIWNLDY'], 'n'),\n",
       " ('CASRRLVGVSNEQFF', ['MIELSLIDFY'], 'n'),\n",
       " ('CSVEDGDEGYGYTF', ['FLPFFSNVT'], 'n'),\n",
       " ('CASSPLIRQGNTEAFF', ['SLIDFYLCFL'], 'n'),\n",
       " ('CASSYSRSNQPQHF', ['YEQYIKWPW'], 'n'),\n",
       " ('CASSPIRTSASRVTGELFF', ['YFLQSINFVR'], 'n'),\n",
       " ('CASSFGTSSEQYF', ['FYLCFLAFL'], 'n'),\n",
       " ('CASSSDTVTGYTF', ['VLPFNDGVY'], 'n'),\n",
       " ('CASSFGRGYNEQFF', ['YEDFLEYHDVRVVL'], 'n'),\n",
       " ('CATSDLSGNGYTF', ['SLIDFYLCFL'], 'n'),\n",
       " ('CSGRGGSYNEQFF', ['FLAFLLFLV'], 'n'),\n",
       " ('CASSYDPSGAISNQPQHF', ['KLSYGIATV'], 'n'),\n",
       " ('CASSLAGNTEAFF', ['ELYSPIFLI'], 'p'),\n",
       " ('CASPLGQGMNTEAFF', ['TLACFVLAAV'], 'n'),\n",
       " ('CASSLALNTEAFF', ['VLPFNDGVY'], 'p'),\n",
       " ('CASSHSRPGLARTNTGELFF', ['FYLCFLAFLL'], 'n'),\n",
       " ('CASRGLAGGPSYEQYF', ['LIDFYLCFL'], 'p'),\n",
       " ('CASSRVLGDEQFF', ['VQPTESIVRF'], 'n'),\n",
       " ('CASSPPLTTNEQFF', ['TLKSFTVEK'], 'n'),\n",
       " ('CSAWDTTYEQYF', ['LLFLVLIML'], 'p'),\n",
       " ('CASSVPREAVLGEQFF', ['APAHISTI'], 'n'),\n",
       " ('CSASGATSGGAGETQYF', ['AELAKNVSLDNVL'], 'n'),\n",
       " ('CASSLADRGLMEPQHF', ['KPLEFGATSAAL'], 'n'),\n",
       " ('CASSPLEGGGEQYF', ['LLLDRLNQL'], 'n'),\n",
       " ('CASSLTANYGYTF', ['QLMCQPILL'], 'n'),\n",
       " ('CASSLWGATYNSPLHF', ['TLACFVLAAV'], 'n'),\n",
       " ('CATSPANTEAFF', ['VVFLHVTYV'], 'n'),\n",
       " ('CASSPLEFRVMHGTDTQYF', ['LLLDDFVEI'], 'n'),\n",
       " ('CASSQLASTDTQYF', ['LWPVTLACF'], 'n'),\n",
       " ('CASSYSSRANEKLFF', ['FLAFLLFLV'], 'n'),\n",
       " ('CASSQGVATDTDTQYF', ['KLNVGDYFV'], 'n'),\n",
       " ('CASSFSDTQYF', ['VEHVTFFIY'], 'n'),\n",
       " ('CSARETTGIYEQYF', ['VYSSANNCTF'], 'n'),\n",
       " ('CSASISGQTQETQYF', ['FLAFLLFLV'], 'n'),\n",
       " ('CASSLGTGQGPQHF', ['FLAFLLFLV'], 'n'),\n",
       " ('CASSLVEGNYGYTF', ['SLIDFYLCFL'], 'n'),\n",
       " ('CSASYSDETQYF', ['FYLCFLAFLL'], 'n'),\n",
       " ('CASRSGPGFDEQFF', ['LLFLVLIML'], 'n'),\n",
       " ('CSASGRVRANVLTF', ['VYADSFVIR'], 'n'),\n",
       " ('CASSLGPYSYEQYF', ['MLIIFWFSL'], 'p'),\n",
       " ('CASSQTPLGGEQYF', ['LIDFYLCFL'], 'p'),\n",
       " ('CASSFSSWAFF', ['IELSLIDFYL'], 'n'),\n",
       " ('CASSLGNTGELFF', ['LLFLVLIML'], 'n'),\n",
       " ('CASSQGGGLSSEAFF', ['YIFFASFYY'], 'n'),\n",
       " ('CASSQDPEGGSPYEQYF', ['LIDFYLCFL'], 'n'),\n",
       " ('CASSISQEGYNEQFF', ['HTTDPSFLGRY'], 'n'),\n",
       " ('CASSPGLADPYNEQFF', ['VVDDPCPIHFY'], 'n'),\n",
       " ('CASSMGRDADTQYF', ['FLWLLWPVTL'], 'n'),\n",
       " ('CATSDPDREGGYTF', ['SPRWYFYYL'], 'n'),\n",
       " ('CASSALLAGERVEQFF', ['KVSIWNLDYI'], 'n'),\n",
       " ('CSARDRQGADGYTF', ['GLEAPFLYLY'], 'n'),\n",
       " ('CASSMGQGNAYEQYF', ['YQIGGYTEKW'], 'n'),\n",
       " ('CASTFDSVEAFF', ['MVMCGGSLYV'], 'n'),\n",
       " ('CSASPLAGGLAKNIQYF', ['IELSLIDFYL'], 'n'),\n",
       " ('CASSFYGIGYNEQFF', ['FYLCFLAFL'], 'n'),\n",
       " ('CASSELGARGTDTQYF', ['FSKQLQQSM'], 'n'),\n",
       " ('CASSLLSAKETQYF', ['LWLLWPVTL'], 'p'),\n",
       " ('CAIPPGDHEQYV', ['LWLLWPVTL'], 'n'),\n",
       " ('CASSQERAGGITDTQYF', ['LLFLVLIML'], 'n'),\n",
       " ('CSVEGTGGYYGYTF', ['VLSFCAFAV'], 'n'),\n",
       " ('CASSLALAGVWTGELFF', ['IELSLIDFYL'], 'n'),\n",
       " ('CASSYSMVLGQGADTQYF', ['LIDFYLCFL'], 'n'),\n",
       " ('CASSLADRGLMEPQHF', ['FLNGSCGSV'], 'n'),\n",
       " ('CATSDFQGAGELFF', ['NYTVSCLPF'], 'n'),\n",
       " ('CASSDISGLDEQFF', ['YFLQSINFVR'], 'n'),\n",
       " ('CASSFSPGRGIGEQFF', ['NVYADSFVIR'], 'n'),\n",
       " ('CASSDVGADTQYF', ['SLIDFYLCFL'], 'n'),\n",
       " ('CASSPASGSPYEQYF', ['YLCFLAFLL'], 'n'),\n",
       " ('CASNEGDTEAFF', ['SELVIGAVIL'], 'n'),\n",
       " ('CASSLSGKAYEQYF', ['DGVYFASTEK'], 'n'),\n",
       " ('CSAPRYRDLRIPNEKLFF', ['KLNVGDYFV'], 'n'),\n",
       " ('CASSFADSPSQETQYF', ['IDFYLCFLAF'], 'n'),\n",
       " ('CASSVGLAVAGETQYF', ['NPLLYDANY'], 'n'),\n",
       " ('CASSYTETQYF', ['LLFLVLIML'], 'n'),\n",
       " ('CASGPGLAGYTDTQYF', ['TVATSRTLSY'], 'n'),\n",
       " ('CASGLSPGTGETYGYTF', ['KAYNVTQAF'], 'n'),\n",
       " ('CASSTGTGANQPQHF', ['MGYINVFAF'], 'n'),\n",
       " ('CASSPADRVDEQYF', ['FVCNLLLLFV'], 'n'),\n",
       " ('CASSPTGLTEAFF', ['KLSYGIATV'], 'n'),\n",
       " ('CSADNGDLLYNEQFF', ['YINVFAFPF'], 'n'),\n",
       " ('CASSLEGEFF', ['IELSLIDFYL'], 'p'),\n",
       " ('CASSLVLAGGSEQFF', ['IELSLIDFYL'], 'n'),\n",
       " ('CASSPRDYNNEQFF', ['IELSLIDFYL'], 'n'),\n",
       " ('CATSLTVDGADTQYF', ['LTDEMIAQYT'], 'n'),\n",
       " ('CASSLGTSGGASIQETQYF', ['LYIIKLIFL'], 'p'),\n",
       " ('CASSLGGRSNEQFF', ['MMISAGFSL'], 'n'),\n",
       " ('CASSLRGPYEQYF', ['SWMESEFRVY'], 'p'),\n",
       " ('CASTRTSATDTQYF', ['IELSLIDFYL'], 'n'),\n",
       " ('CASSDSSWEPQHF', ['LLFLAFVVFL'], 'n'),\n",
       " ('CASRTTEYGYTF', ['VYYPDKVFR'], 'n'),\n",
       " ('CASSSGTGRAYEQYF', ['YLCFLAFLL'], 'n'),\n",
       " ('CASSIGTGLTGELFF', ['KAYNVTQAF'], 'n'),\n",
       " ('CSVGEGGYTEAFF', ['LIDFYLCFL'], 'n'),\n",
       " ('CSADTGTSSNEQFF', ['IDFYLCFLAF'], 'n'),\n",
       " ('CASSTGGSYGYTF', ['ELYSPIFLI'], 'n'),\n",
       " ('CSARGLRGGSYEQYF', ['AIPTNFTISV'], 'n'),\n",
       " ('CASHSGGRGQETQYF', ['MVMCGGSLYV'], 'n'),\n",
       " ('CSALAGETYNEQFF', ['DFLEYHDVR'], 'n'),\n",
       " ('CSATTSMETQYF', ['TMADLVYAL'], 'n'),\n",
       " ('CASSIRSSYEQYF', ['FLPFFSNVT'], 'p'),\n",
       " ('CASSLGETQYF', ['KAYNVTQAF'], 'n'),\n",
       " ('CSARTGDNEQFF', ['SLIDFYLCFL'], 'n'),\n",
       " ('CASSQEGAGFGETQYF', ['INVFAFPFTI'], 'n'),\n",
       " ('CASRAETGELFF', ['WPVTLACFVL'], 'n'),\n",
       " ('CASSPAGSGEQFF', ['INVFAFPFTI'], 'n'),\n",
       " ('CSASPLAGGLAKNIQYF', ['LIVNSVLLFL'], 'n'),\n",
       " ('CASSVGRSSYNEQFF', ['SQSIIAYTM'], 'n'),\n",
       " ('CASSPGQGTEKLFF', ['LLFLVLIML'], 'n'),\n",
       " ('CASSLELDSPEAFF', ['WPVTLACFVL'], 'n'),\n",
       " ('CSASLDQGGETQYF', ['SEHDYQIGGYTEKW'], 'n'),\n",
       " ('CASSQVQVGQGAYTEAFF', ['QPTESIVRF'], 'n'),\n",
       " ('CASSFDRATEAFF', ['KAYNVTQAF'], 'p'),\n",
       " ('CASSQDVGYNNQPQHF', ['FLAFLLFLV'], 'n'),\n",
       " ('CASSEGPDTRTQYF', ['NVFAFPFTI'], 'n'),\n",
       " ('CSARGLAGWSGELFF', ['QPYRVVVLSF'], 'n'),\n",
       " ('CASSDPLAGGMYEQFF', ['INVFAFPFTI'], 'n'),\n",
       " ('CASSEWLAGGPGYEQYF', ['ILLIIMRTFK'], 'n'),\n",
       " ('CASSPRETPYEQYF', ['HTTDPSFLGRY'], 'n'),\n",
       " ('CASSLAGTEAFF', ['AFLLFLVLI'], 'n'),\n",
       " ('CASSVDGTEAFF', ['AELAKNVSLDNVL'], 'n'),\n",
       " ('CASSLGLAFNTGELFF', ['ASQSIIAYTM'], 'n'),\n",
       " ('CATLGPTYEQYF', ['SELVIGAVIL'], 'p'),\n",
       " ('CSARDLFSGSLVDEQFF', ['YQIGGYTEK'], 'n'),\n",
       " ('CASSLSFKTGGVTDTQYF', ['LLFLVLIML'], 'n'),\n",
       " ('CAGGTFYEQYF', ['HTTDPSFLGRY'], 'n'),\n",
       " ('CASSLADDAFF', ['IELSLIDFYL'], 'n'),\n",
       " ('CASGPGQGLSYEQYF', ['FLAFLLFLV'], 'n'),\n",
       " ('CASITFRDTRFTEAFF', ['LWPVTLACF'], 'n'),\n",
       " ('CSASGTLKGETQYF', ['INFVRIIMR'], 'n'),\n",
       " ('CASSLVTGELFF', ['MIELSLIDFY'], 'n'),\n",
       " ('CASFLREGTGELFF', ['VLPFNDGVYF'], 'n'),\n",
       " ('CATSIGGRGGFNEQFF', ['LLDDFVEII'], 'n'),\n",
       " ('CASSVDGGAQDEQFF', ['SLIDFYLCFL'], 'n'),\n",
       " ('CASSYAGYTGELFF', ['INFVRIIMR'], 'n'),\n",
       " ('CASSYSPSGGSYEQYF', ['MIELSLIDFY'], 'n'),\n",
       " ('CASSAWGNTEAFF', ['LEPLVDLPI'], 'n'),\n",
       " ('CASSPGSGAETQYF', ['QLMCQPILLL'], 'n'),\n",
       " ('CASSFYGTDEKLFF', ['FLWLLWPVT'], 'n'),\n",
       " ('CASSVEFGSNYGYTF', ['APHGVVFLHV'], 'n'),\n",
       " ('CASSFRQVINTGELFF', ['QYIKWPWYI'], 'n'),\n",
       " ('CATSDFWVPDTQYF', ['FLWLLWPVT'], 'p'),\n",
       " ('CATIGQAGSYNEQFF', ['FLWLLWPVTL'], 'n'),\n",
       " ('CASSYFGSGRPETQYF', ['FLCLFLLPSL'], 'n'),\n",
       " ('CAWSVYGGNTGELFF', ['NVFAFPFTI'], 'n'),\n",
       " ('CASSPPSDQETQYF', ['AFPFTIYSL'], 'n'),\n",
       " ('CASSQEGTGNYGYTF', ['VQELYSPIFL'], 'p'),\n",
       " ('CSAQGELAGVSYNEQFF', ['FLWLLWPVT'], 'n'),\n",
       " ('CATAGVSSGDYEQYF', ['SPRWYFYYL'], 'n'),\n",
       " ('CASSPGTGQDYEQYF', ['LYIIKLIFLW'], 'n'),\n",
       " ('CASSLTGGGGPDTQYF', ['TLVPQEHYV'], 'n'),\n",
       " ('CASSIGTDTEAFF', ['LLFLVLIML'], 'n'),\n",
       " ('CASSLGTGSNEQFF', ['IELSLIDFYL'], 'n'),\n",
       " ('CASSPGNGTGGPGELFF', ['SEVGPEHSLAEY'], 'n'),\n",
       " ('CASSQAATGELFF', ['SLIDFYLCFL'], 'p'),\n",
       " ('CASSQEQGSGYEQYF', ['FLAFLLFLV'], 'n'),\n",
       " ('CSARHRDNYNEQFF', ['FLPFFSNVT'], 'n'),\n",
       " ('CASSDPQWGTDTQYF', ['FYLCFLAFL'], 'p'),\n",
       " ('CATSDLSGNGYTF', ['YLCFLAFLL'], 'n'),\n",
       " ('CASSQVGLANTGELFF', ['TVYSHLLLV'], 'n'),\n",
       " ('CASSLPGAEAFF', ['AFLLFLVLI'], 'n'),\n",
       " ('CASSQGNGLINEQFF', ['IDFYLCFLAF'], 'p'),\n",
       " ('CASSGGAEAFF', ['RSVASQSII'], 'n'),\n",
       " ('CASSQVSPDTQYF', ['NVFAFPFTIY'], 'n'),\n",
       " ('CASSQDSSGAFYEQYF', ['FFSNVTWFH'], 'n'),\n",
       " ('CASSLLDQFTEAFF', ['LWPVTLACF'], 'n'),\n",
       " ('CASKGTSFEQYF', ['LTDEMIAQYT'], 'n'),\n",
       " ('CASSTGLAGIDEQFF', ['KAYNVTQAF'], 'n'),\n",
       " ('CATSVDKSGSHTEAFF', ['IELSLIDFYL'], 'p'),\n",
       " ('CASSETHSYNEQFF', ['NVYADSFVIR'], 'p'),\n",
       " ('CASSPTGFEAFF', ['VYFLQSINF'], 'n'),\n",
       " ('CAISGGTYNEQFF', ['FYLCFLAFL'], 'n'),\n",
       " ('CASSGAGGTDTQYF', ['INVFAFPFTI'], 'n'),\n",
       " ('CASSLAGSTEAFF', ['NSIAIPTNF'], 'n'),\n",
       " ('CASSQQGPTGELFF', ['YDANYFLCW'], 'p'),\n",
       " ('CASSYSLAGDDTQYF', ['YLCFLAFLL'], 'n'),\n",
       " ('CASSEAGVTEAFF', ['LQSINFVRII'], 'n'),\n",
       " ('CASSGNSGGVQDTQYF', ['WLLWPVTLA'], 'n'),\n",
       " ('CSVALAGGLYEQYF', ['LQSINFVRII'], 'n'),\n",
       " ('CASSPSGGRRGTDTQYF', ['YLCFLAFLL'], 'n'),\n",
       " ('CASGPDALVSGANVLTF', ['LEPLVDLPI'], 'p'),\n",
       " ('CASSDEQGSNEQYF', ['IELSLIDFYL'], 'n'),\n",
       " ('CASSLAGTANEQFF', ['FVCNLLLLFV'], 'n'),\n",
       " ('CASSRGGSYNEQFF', ['LLFLAFVVFL'], 'p'),\n",
       " ('CASSIGQGAAGELFF', ['LLDDFVEII'], 'n'),\n",
       " ('CSARGLADSYEQYF', ['FTNVYADSFV'], 'n'),\n",
       " ('CASARTGRNEQYF', ['VTPSGTWLTY'], 'n'),\n",
       " ('CASSLPEAGGSSYEQYF', ['SLIDFYLCFL'], 'n'),\n",
       " ('CSVELSGETQYF', ['AIPTNFTISV'], 'n'),\n",
       " ('CASSLMSITDTQYF', ['FLYLYALVYF'], 'n'),\n",
       " ('CSVTSGGSGNTIYF', ['VLPFNDGVY'], 'n'),\n",
       " ('CASSLSGPPYNEQFF', ['IELSLIDFYL'], 'n'),\n",
       " ('CASSFIFGSNQPQHF', ['FLWLLWPVTL'], 'n'),\n",
       " ('CSIRDRGTGELFF', ['MIELSLIDFY'], 'n'),\n",
       " ('CASSLATDTEAFF', ['LIDFYLCFL'], 'n'),\n",
       " ('CASSLVNRGREQYF', ['FYLCFLAFL'], 'p'),\n",
       " ('CASSYFGSGRPETQYF', ['FLAFLLFLV'], 'n'),\n",
       " ('CASTTAENTGELFF', ['LIDFYLCFL'], 'p'),\n",
       " ('CASSFGARPYEQYF', ['AELAKNVSLDNVL'], 'n'),\n",
       " ('CASSLLVQHYNEQFF', ['IDFYLCFLAF'], 'n'),\n",
       " ('CASSLSSGGYIEAFF', ['FYLCFLAFL'], 'n'),\n",
       " ('CASSSNDWKNTGELFF', ['SEHDYQIGGYTEKW'], 'n'),\n",
       " ('CASSLGARFYAGANVLTF', ['VLPFNDGVYF'], 'n'),\n",
       " ('CSARDLTGGLWDTQYF', ['QYIKWPWYI'], 'n'),\n",
       " ('CASTISGETQYF', ['FYLCFLAFLL'], 'n'),\n",
       " ('CASSGPASPLHF', ['YEQYIKWPW'], 'n'),\n",
       " ('CASSLGDRVRNEQFF', ['LIDFYLCFL'], 'n'),\n",
       " ('CSARDRRGPGYTF', ['LLFLVLIML'], 'n'),\n",
       " ('CASSFQGFTEAFF', ['SEYKGPITDVFY'], 'n'),\n",
       " ('CASFGSSYEQYF', ['FLYLYALVYF'], 'p'),\n",
       " ('CASSLADYTGELFF', ['LLFLVLIML'], 'n'),\n",
       " ('CASSFSYEQYF', ['VQELYSPIF'], 'n'),\n",
       " ('CASSLLSGSGVVETQYF', ['LWLLWPVTL'], 'p'),\n",
       " ('CASSLLGDNQPQHF', ['SLIDFYLCFL'], 'n'),\n",
       " ('CATSREGLSTDTQYF', ['KAYNVTQAF'], 'n'),\n",
       " ...]"
      ]
     },
     "execution_count": 20,
     "metadata": {},
     "output_type": "execute_result"
    }
   ],
   "source": [
    "realtest_lstm"
   ]
  },
  {
   "cell_type": "code",
   "execution_count": 21,
   "metadata": {},
   "outputs": [
    {
     "name": "stdout",
     "output_type": "stream",
     "text": [
      "p: 20821 n: 104106\n"
     ]
    }
   ],
   "source": [
    "count(realtest_lstm)"
   ]
  },
  {
   "cell_type": "code",
   "execution_count": 22,
   "metadata": {},
   "outputs": [],
   "source": [
    "tra_and_val = train_lstm + test_lstm"
   ]
  },
  {
   "cell_type": "code",
   "execution_count": 23,
   "metadata": {},
   "outputs": [
    {
     "data": {
      "text/plain": [
       "1129959"
      ]
     },
     "execution_count": 23,
     "metadata": {},
     "output_type": "execute_result"
    }
   ],
   "source": [
    "len(tra_and_val)"
   ]
  },
  {
   "cell_type": "code",
   "execution_count": 24,
   "metadata": {},
   "outputs": [],
   "source": [
    "realtest_lstm1=[]\n",
    "for i in realtest_lstm:\n",
    "    realtest_lstm1.append((i[0],tuple(i[1]),i[2]))\n",
    "  "
   ]
  },
  {
   "cell_type": "code",
   "execution_count": 25,
   "metadata": {},
   "outputs": [],
   "source": [
    "repeate = extra_same_elem(tra_and_val, realtest_lstm1)"
   ]
  },
  {
   "cell_type": "code",
   "execution_count": 26,
   "metadata": {},
   "outputs": [
    {
     "name": "stdout",
     "output_type": "stream",
     "text": [
      "p: 968 n: 14208\n"
     ]
    }
   ],
   "source": [
    "count(repeate)"
   ]
  },
  {
   "cell_type": "code",
   "execution_count": 27,
   "metadata": {},
   "outputs": [
    {
     "data": {
      "text/plain": [
       "15176"
      ]
     },
     "execution_count": 27,
     "metadata": {},
     "output_type": "execute_result"
    }
   ],
   "source": [
    "len(repeate)"
   ]
  },
  {
   "cell_type": "code",
   "execution_count": 28,
   "metadata": {},
   "outputs": [],
   "source": [
    "realtest_nodup = [y for y in realtest_lstm1 if not y in repeate]"
   ]
  },
  {
   "cell_type": "code",
   "execution_count": 29,
   "metadata": {},
   "outputs": [
    {
     "data": {
      "text/plain": [
       "109637"
      ]
     },
     "execution_count": 29,
     "metadata": {},
     "output_type": "execute_result"
    }
   ],
   "source": [
    "len(realtest_nodup)"
   ]
  },
  {
   "cell_type": "code",
   "execution_count": 30,
   "metadata": {},
   "outputs": [
    {
     "data": {
      "text/plain": [
       "124927"
      ]
     },
     "execution_count": 30,
     "metadata": {},
     "output_type": "execute_result"
    }
   ],
   "source": [
    "len(realtest_lstm1)"
   ]
  },
  {
   "cell_type": "code",
   "execution_count": 31,
   "metadata": {},
   "outputs": [],
   "source": [
    "with open('realtest_norepet_lstm20' + '.pickle', 'wb') as file:\n",
    "    pickle.dump(realtest_nodup, file)"
   ]
  },
  {
   "cell_type": "code",
   "execution_count": 32,
   "metadata": {},
   "outputs": [],
   "source": [
    "repeate_n = extra_same_elem(tra_and_val, realtest_nodup)"
   ]
  },
  {
   "cell_type": "code",
   "execution_count": 33,
   "metadata": {},
   "outputs": [
    {
     "data": {
      "text/plain": [
       "[]"
      ]
     },
     "execution_count": 33,
     "metadata": {},
     "output_type": "execute_result"
    }
   ],
   "source": [
    "repeate_n"
   ]
  },
  {
   "cell_type": "code",
   "execution_count": 41,
   "metadata": {},
   "outputs": [],
   "source": [
    "common_n = extra_same_elem(train_lstm, val_nodup)"
   ]
  },
  {
   "cell_type": "code",
   "execution_count": 42,
   "metadata": {},
   "outputs": [
    {
     "data": {
      "text/plain": [
       "[]"
      ]
     },
     "execution_count": 42,
     "metadata": {},
     "output_type": "execute_result"
    }
   ],
   "source": [
    "common_n"
   ]
  },
  {
   "cell_type": "code",
   "execution_count": null,
   "metadata": {},
   "outputs": [],
   "source": [
    "po_ex=[]\n",
    "ng_ex=[]\n",
    "for examples in realtest_lstm:\n",
    "    if examples[2] =='p':\n",
    "        po_ex.append((examples[0],''.join(examples[1])))\n",
    "    else:\n",
    "        ng_ex.append((examples[0],''.join(examples[1])))\n",
    "    \n",
    "    "
   ]
  },
  {
   "cell_type": "code",
   "execution_count": null,
   "metadata": {},
   "outputs": [],
   "source": [
    "len(ng_ex)"
   ]
  },
  {
   "cell_type": "code",
   "execution_count": null,
   "metadata": {},
   "outputs": [],
   "source": [
    "len(po_ex)"
   ]
  },
  {
   "cell_type": "code",
   "execution_count": null,
   "metadata": {},
   "outputs": [],
   "source": [
    "import pandas as pd"
   ]
  },
  {
   "cell_type": "code",
   "execution_count": null,
   "metadata": {},
   "outputs": [],
   "source": [
    "def countpep(ls):\n",
    "    ls_df = pd.DataFrame(ls,columns = ['tcr','pep'])\n",
    "    ls_df_pep = list(ls_df['pep'])\n",
    "    ls_df_d = {t:ls_df_pep.count(t) for t in set(ls_df_pep)}\n",
    "    sorted_ls_d = sorted(ls_df_d.items(), key=lambda k: k[1],reverse=True)\n",
    "    return sorted_ls_d"
   ]
  },
  {
   "cell_type": "code",
   "execution_count": null,
   "metadata": {},
   "outputs": [],
   "source": [
    "po_ex_count = countpep(po_ex)"
   ]
  },
  {
   "cell_type": "code",
   "execution_count": null,
   "metadata": {},
   "outputs": [],
   "source": [
    "ng_ex_count = countpep(ng_ex)"
   ]
  },
  {
   "cell_type": "code",
   "execution_count": null,
   "metadata": {},
   "outputs": [],
   "source": []
  },
  {
   "cell_type": "code",
   "execution_count": null,
   "metadata": {},
   "outputs": [],
   "source": [
    "with open('/Users/zhangzhiwen/Documents/ERGO-master-test20/test_data_ae.pickle', 'rb') as file:\n",
    "    test_lstm20 = pickle.load(file)"
   ]
  },
  {
   "cell_type": "code",
   "execution_count": null,
   "metadata": {},
   "outputs": [],
   "source": [
    "with open('/Users/zhangzhiwen/Documents/ERGO-master-test20/train_data_ae.pickle', 'rb') as file2:\n",
    "    train_lstm20 = pickle.load(file2)"
   ]
  },
  {
   "cell_type": "code",
   "execution_count": null,
   "metadata": {},
   "outputs": [],
   "source": [
    "with open('/Users/zhangzhiwen/Documents/ERGO-master-test20/real_testforERGO20.pickle', 'rb') as file3:\n",
    "    realtest_lstm20 = pickle.load(file3)"
   ]
  },
  {
   "cell_type": "code",
   "execution_count": null,
   "metadata": {},
   "outputs": [],
   "source": [
    "count(test_lstm20)"
   ]
  },
  {
   "cell_type": "code",
   "execution_count": null,
   "metadata": {},
   "outputs": [],
   "source": [
    "count(train_lstm20)"
   ]
  },
  {
   "cell_type": "code",
   "execution_count": null,
   "metadata": {},
   "outputs": [],
   "source": [
    "count(realtest_lstm20)"
   ]
  },
  {
   "cell_type": "code",
   "execution_count": null,
   "metadata": {},
   "outputs": [],
   "source": [
    "common20 = extra_same_elem(train_lstm20, test_lstm20)"
   ]
  },
  {
   "cell_type": "code",
   "execution_count": null,
   "metadata": {},
   "outputs": [],
   "source": [
    "count(common20)"
   ]
  },
  {
   "cell_type": "code",
   "execution_count": null,
   "metadata": {},
   "outputs": [],
   "source": [
    "tra_and_val20 = train_lstm20+test_lstm20"
   ]
  },
  {
   "cell_type": "code",
   "execution_count": null,
   "metadata": {},
   "outputs": [],
   "source": [
    "realtest_lstm2=[]\n",
    "for i in realtest_lstm20:\n",
    "    realtest_lstm2.append((i[0],tuple(i[1]),i[2]))\n",
    "  "
   ]
  },
  {
   "cell_type": "code",
   "execution_count": null,
   "metadata": {},
   "outputs": [],
   "source": [
    "repeate20 = extra_same_elem(tra_and_val20, realtest_lstm2)"
   ]
  },
  {
   "cell_type": "code",
   "execution_count": null,
   "metadata": {},
   "outputs": [],
   "source": [
    "count(repeate20)"
   ]
  },
  {
   "cell_type": "code",
   "execution_count": null,
   "metadata": {},
   "outputs": [],
   "source": [
    "t1 = extra_same_elem(train_lstm20, realtest_lstm2)"
   ]
  },
  {
   "cell_type": "code",
   "execution_count": null,
   "metadata": {},
   "outputs": [],
   "source": [
    "t2 = extra_same_elem(test_lstm20, realtest_lstm2)"
   ]
  },
  {
   "cell_type": "code",
   "execution_count": null,
   "metadata": {},
   "outputs": [],
   "source": [
    "count(t1)"
   ]
  },
  {
   "cell_type": "code",
   "execution_count": null,
   "metadata": {},
   "outputs": [],
   "source": [
    "count(t2)"
   ]
  },
  {
   "cell_type": "code",
   "execution_count": 44,
   "metadata": {},
   "outputs": [],
   "source": [
    "with open('/Users/zhangzhiwen/Documents/test_data_norepet_lstm20.pickle', 'rb') as file3:\n",
    "    realtest_lstm20 = pickle.load(file3)"
   ]
  },
  {
   "cell_type": "code",
   "execution_count": 45,
   "metadata": {},
   "outputs": [
    {
     "data": {
      "text/plain": [
       "202453"
      ]
     },
     "execution_count": 45,
     "metadata": {},
     "output_type": "execute_result"
    }
   ],
   "source": [
    "len(realtest_lstm20)"
   ]
  },
  {
   "cell_type": "code",
   "execution_count": null,
   "metadata": {},
   "outputs": [],
   "source": []
  }
 ],
 "metadata": {
  "kernelspec": {
   "display_name": "Python 3",
   "language": "python",
   "name": "python3"
  },
  "language_info": {
   "codemirror_mode": {
    "name": "ipython",
    "version": 3
   },
   "file_extension": ".py",
   "mimetype": "text/x-python",
   "name": "python",
   "nbconvert_exporter": "python",
   "pygments_lexer": "ipython3",
   "version": "3.7.4"
  }
 },
 "nbformat": 4,
 "nbformat_minor": 2
}
