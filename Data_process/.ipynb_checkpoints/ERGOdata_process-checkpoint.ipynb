{
 "cells": [
  {
   "cell_type": "code",
   "execution_count": 1,
   "metadata": {},
   "outputs": [],
   "source": [
    "import pandas as pd"
   ]
  },
  {
   "cell_type": "code",
   "execution_count": 2,
   "metadata": {},
   "outputs": [],
   "source": [
    "data_full = pd.read_csv('/Users/zhangzhiwen/Desktop/COVID-19/splitAA_full.csv')"
   ]
  },
  {
   "cell_type": "code",
   "execution_count": 3,
   "metadata": {},
   "outputs": [
    {
     "data": {
      "text/html": [
       "<div>\n",
       "<style scoped>\n",
       "    .dataframe tbody tr th:only-of-type {\n",
       "        vertical-align: middle;\n",
       "    }\n",
       "\n",
       "    .dataframe tbody tr th {\n",
       "        vertical-align: top;\n",
       "    }\n",
       "\n",
       "    .dataframe thead th {\n",
       "        text-align: right;\n",
       "    }\n",
       "</style>\n",
       "<table border=\"1\" class=\"dataframe\">\n",
       "  <thead>\n",
       "    <tr style=\"text-align: right;\">\n",
       "      <th></th>\n",
       "      <th>CDR3</th>\n",
       "      <th>TRBV_gene</th>\n",
       "      <th>TRBJ_gene</th>\n",
       "      <th>AA</th>\n",
       "    </tr>\n",
       "  </thead>\n",
       "  <tbody>\n",
       "    <tr>\n",
       "      <td>0</td>\n",
       "      <td>CASRYLFPGRVNTEAFF</td>\n",
       "      <td>TCRBV28-01</td>\n",
       "      <td>TCRBJ01-01</td>\n",
       "      <td>TVLSFCAFA</td>\n",
       "    </tr>\n",
       "    <tr>\n",
       "      <td>1</td>\n",
       "      <td>CATSSASGSTDTQYF</td>\n",
       "      <td>TCRBV15-01</td>\n",
       "      <td>TCRBJ02-03</td>\n",
       "      <td>FLAFLLFLV</td>\n",
       "    </tr>\n",
       "    <tr>\n",
       "      <td>2</td>\n",
       "      <td>CSVQSGYTF</td>\n",
       "      <td>TCRBV29-01</td>\n",
       "      <td>TCRBJ01-02</td>\n",
       "      <td>FLQSINFVR</td>\n",
       "    </tr>\n",
       "    <tr>\n",
       "      <td>3</td>\n",
       "      <td>CASSWALSTDTQYF</td>\n",
       "      <td>TCRBV07-08</td>\n",
       "      <td>TCRBJ02-03</td>\n",
       "      <td>FYLCFLAFL</td>\n",
       "    </tr>\n",
       "    <tr>\n",
       "      <td>4</td>\n",
       "      <td>CASSQSRGAVDGNTIYF</td>\n",
       "      <td>TCRBV03-01/03-02</td>\n",
       "      <td>TCRBJ01-03</td>\n",
       "      <td>YLCFLAFLL</td>\n",
       "    </tr>\n",
       "    <tr>\n",
       "      <td>...</td>\n",
       "      <td>...</td>\n",
       "      <td>...</td>\n",
       "      <td>...</td>\n",
       "      <td>...</td>\n",
       "    </tr>\n",
       "    <tr>\n",
       "      <td>531740</td>\n",
       "      <td>CASGLAGGGEQYF</td>\n",
       "      <td>TCRBV27-01</td>\n",
       "      <td>TCRBJ02-07</td>\n",
       "      <td>FLQSINFVRI</td>\n",
       "    </tr>\n",
       "    <tr>\n",
       "      <td>531741</td>\n",
       "      <td>CASSIRSDIHTDTQYF</td>\n",
       "      <td>TCRBV19-01</td>\n",
       "      <td>TCRBJ02-03</td>\n",
       "      <td>AFLLFLVLI</td>\n",
       "    </tr>\n",
       "    <tr>\n",
       "      <td>531742</td>\n",
       "      <td>CASSYPSPTQYF</td>\n",
       "      <td>TCRBV06-02/06-03</td>\n",
       "      <td>TCRBJ02-03</td>\n",
       "      <td>FVCNLLLLFV</td>\n",
       "    </tr>\n",
       "    <tr>\n",
       "      <td>531743</td>\n",
       "      <td>CASSPLF*RGTDTQYF</td>\n",
       "      <td>TCRBV04-01</td>\n",
       "      <td>TCRBJ02-03</td>\n",
       "      <td>VLSFCAFAV</td>\n",
       "    </tr>\n",
       "    <tr>\n",
       "      <td>531744</td>\n",
       "      <td>CASTLLGAANYGYTF</td>\n",
       "      <td>TCRBV06-05</td>\n",
       "      <td>TCRBJ01-02</td>\n",
       "      <td>FYLCFLAFLL</td>\n",
       "    </tr>\n",
       "  </tbody>\n",
       "</table>\n",
       "<p>531745 rows × 4 columns</p>\n",
       "</div>"
      ],
      "text/plain": [
       "                     CDR3         TRBV_gene   TRBJ_gene          AA\n",
       "0       CASRYLFPGRVNTEAFF        TCRBV28-01  TCRBJ01-01   TVLSFCAFA\n",
       "1         CATSSASGSTDTQYF        TCRBV15-01  TCRBJ02-03   FLAFLLFLV\n",
       "2               CSVQSGYTF        TCRBV29-01  TCRBJ01-02   FLQSINFVR\n",
       "3          CASSWALSTDTQYF        TCRBV07-08  TCRBJ02-03   FYLCFLAFL\n",
       "4       CASSQSRGAVDGNTIYF  TCRBV03-01/03-02  TCRBJ01-03   YLCFLAFLL\n",
       "...                   ...               ...         ...         ...\n",
       "531740      CASGLAGGGEQYF        TCRBV27-01  TCRBJ02-07  FLQSINFVRI\n",
       "531741   CASSIRSDIHTDTQYF        TCRBV19-01  TCRBJ02-03   AFLLFLVLI\n",
       "531742       CASSYPSPTQYF  TCRBV06-02/06-03  TCRBJ02-03  FVCNLLLLFV\n",
       "531743   CASSPLF*RGTDTQYF        TCRBV04-01  TCRBJ02-03   VLSFCAFAV\n",
       "531744    CASTLLGAANYGYTF        TCRBV06-05  TCRBJ01-02  FYLCFLAFLL\n",
       "\n",
       "[531745 rows x 4 columns]"
      ]
     },
     "execution_count": 3,
     "metadata": {},
     "output_type": "execute_result"
    }
   ],
   "source": [
    "data_full"
   ]
  },
  {
   "cell_type": "code",
   "execution_count": null,
   "metadata": {},
   "outputs": [],
   "source": [
    "data10_f = data_full.sample(n=110000)"
   ]
  },
  {
   "cell_type": "code",
   "execution_count": null,
   "metadata": {},
   "outputs": [],
   "source": [
    "data10_f"
   ]
  },
  {
   "cell_type": "code",
   "execution_count": null,
   "metadata": {},
   "outputs": [],
   "source": [
    "data20_f = data_full.sample(n=210000)"
   ]
  },
  {
   "cell_type": "code",
   "execution_count": null,
   "metadata": {},
   "outputs": [],
   "source": [
    "data20_f"
   ]
  },
  {
   "cell_type": "code",
   "execution_count": null,
   "metadata": {},
   "outputs": [],
   "source": [
    "ergodata10_f = data10_f[['CDR3','AA']]"
   ]
  },
  {
   "cell_type": "code",
   "execution_count": null,
   "metadata": {},
   "outputs": [],
   "source": [
    "ergodata20_f = data20_f[['CDR3','AA']]"
   ]
  },
  {
   "cell_type": "code",
   "execution_count": null,
   "metadata": {},
   "outputs": [],
   "source": [
    "ergodata10_f.to_csv('test_data10.csv',index = False)"
   ]
  },
  {
   "cell_type": "code",
   "execution_count": null,
   "metadata": {},
   "outputs": [],
   "source": [
    "ergodata20_f.to_csv('ERGOdata20.csv',index = False)"
   ]
  },
  {
   "cell_type": "code",
   "execution_count": null,
   "metadata": {},
   "outputs": [],
   "source": []
  },
  {
   "cell_type": "code",
   "execution_count": 1,
   "metadata": {},
   "outputs": [],
   "source": [
    "import torch\n",
    "import pickle\n",
    "import argparse\n",
    "import random\n",
    "import numpy as np\n",
    "import csv"
   ]
  },
  {
   "cell_type": "code",
   "execution_count": 2,
   "metadata": {},
   "outputs": [],
   "source": [
    "def read_data(csv_file):\n",
    "    with open(csv_file, 'r', encoding='unicode_escape') as file:\n",
    "        file.readline()\n",
    "       \n",
    "        reader = csv.reader(file)\n",
    "    \n",
    "        tcrs = set()\n",
    "        peps = set()\n",
    "        all_pairs = []\n",
    "        for line in reader:\n",
    "            tcr, pep = line[0], line[1]\n",
    "            \n",
    "            # Proper tcr and peptides\n",
    "            if any(att == 'NA' or att == \"\" for att in [tcr, pep]):\n",
    "                continue\n",
    "            if any(key in tcr + pep for key in ['#', '*', 'b', 'f', 'y', '~',\n",
    "                                                'O', '/', '1', 'X', '_', 'B', '7']):\n",
    "                continue\n",
    "            tcrs.add(tcr)\n",
    "            pep_data = [pep]\n",
    "            \n",
    "            peps.add(tuple(pep_data))\n",
    "            all_pairs.append((tcr, tuple(pep_data)))\n",
    "    train_pairs, test_pairs = train_test_split(all_pairs)\n",
    "    return all_pairs, train_pairs, test_pairs\n"
   ]
  },
  {
   "cell_type": "code",
   "execution_count": 3,
   "metadata": {},
   "outputs": [],
   "source": [
    "def train_test_split(all_pairs):\n",
    "    '''\n",
    "    Splitting the TCR-PEP pairs\n",
    "    '''\n",
    "    train_pairs = []\n",
    "    test_pairs = []\n",
    "    for pair in all_pairs:\n",
    "        # 90% train, 10% test\n",
    "        p = np.random.binomial(1, 0.9)\n",
    "        if p == 1:\n",
    "            train_pairs.append(pair)\n",
    "        else:\n",
    "            test_pairs.append(pair)\n",
    "    return train_pairs, test_pairs"
   ]
  },
  {
   "cell_type": "code",
   "execution_count": 4,
   "metadata": {},
   "outputs": [],
   "source": [
    "def positive_examples(pairs):\n",
    "    examples = []\n",
    "    for pair in pairs:\n",
    "        tcr, pep_data = pair\n",
    "        examples.append((tcr, pep_data, 'p'))\n",
    "    return examples\n",
    "\n",
    "\n",
    "def negative_examples(pairs, all_pairs, size):\n",
    "    '''\n",
    "    Randomly creating intentional negative examples from the same pairs dataset.\n",
    "    '''\n",
    "    examples = []\n",
    "    i = 0\n",
    "    # Get tcr and peps lists\n",
    "    tcrs = [tcr for (tcr, pep_data) in pairs]\n",
    "    peps = [pep_data for (tcr, pep_data) in pairs]\n",
    "    while i < size:\n",
    "        pep_data = random.choice(peps)\n",
    "        for j in range(5):\n",
    "            tcr = random.choice(tcrs)\n",
    "            attach = (tcr, pep_data) in all_pairs\n",
    "            \n",
    "            if attach is False:\n",
    "                if (tcr, pep_data, 'n') not in examples:\n",
    "                    examples.append((tcr, pep_data, 'n'))\n",
    "                    i += 1\n",
    "    return examples\n",
    "\n",
    "\n"
   ]
  },
  {
   "cell_type": "code",
   "execution_count": 5,
   "metadata": {},
   "outputs": [],
   "source": [
    "all_pairs, train_pairs, test_pairs = read_data('ERGOdata20.csv')"
   ]
  },
  {
   "cell_type": "code",
   "execution_count": 7,
   "metadata": {},
   "outputs": [
    {
     "data": {
      "text/plain": [
       "209147"
      ]
     },
     "execution_count": 7,
     "metadata": {},
     "output_type": "execute_result"
    }
   ],
   "source": [
    "len(all_pairs)"
   ]
  },
  {
   "cell_type": "code",
   "execution_count": 13,
   "metadata": {},
   "outputs": [],
   "source": [
    "test_pos = positive_examples(test_pairs)\n"
   ]
  },
  {
   "cell_type": "code",
   "execution_count": 16,
   "metadata": {},
   "outputs": [],
   "source": [
    "test_neg = negative_examples(test_pairs, all_pairs, 5 * len(test_pos))"
   ]
  },
  {
   "cell_type": "code",
   "execution_count": 17,
   "metadata": {},
   "outputs": [],
   "source": [
    "test = test_pos + test_neg\n",
    "random.shuffle(test)"
   ]
  },
  {
   "cell_type": "code",
   "execution_count": 18,
   "metadata": {},
   "outputs": [],
   "source": [
    "new_train=[]\n",
    "for i in train_pairs:\n",
    "    new_train.append([i[0],''.join(list(i[1]))])\n"
   ]
  },
  {
   "cell_type": "code",
   "execution_count": 21,
   "metadata": {},
   "outputs": [],
   "source": [
    "import pandas as pd\n",
    "train_df = pd.DataFrame(new_train,columns = ['tcr','pep'])"
   ]
  },
  {
   "cell_type": "code",
   "execution_count": 30,
   "metadata": {},
   "outputs": [],
   "source": [
    "train_df.to_csv('newtrain_ERGO20.csv',index = False)"
   ]
  },
  {
   "cell_type": "code",
   "execution_count": 23,
   "metadata": {},
   "outputs": [],
   "source": [
    "ttt=set()\n",
    "pept=set()\n",
    "sign=set()\n",
    "test_new=[]\n",
    "test_t=[]\n",
    "for ppp in test:\n",
    "    ttt = ppp[0]\n",
    "    sign = ppp[2]\n",
    "    pept =ppp[1]\n",
    "    test_new.append((ttt,list(pept),sign))\n",
    "    test_t.append([ttt,''.join(list(pept))])\n"
   ]
  },
  {
   "cell_type": "code",
   "execution_count": 35,
   "metadata": {},
   "outputs": [],
   "source": [
    "with open('real_testforERGO20' + '.pickle', 'wb') as handle:\n",
    "    pickle.dump(test_new, handle)\n"
   ]
  },
  {
   "cell_type": "code",
   "execution_count": null,
   "metadata": {},
   "outputs": [],
   "source": []
  }
 ],
 "metadata": {
  "kernelspec": {
   "display_name": "Python 3",
   "language": "python",
   "name": "python3"
  },
  "language_info": {
   "codemirror_mode": {
    "name": "ipython",
    "version": 3
   },
   "file_extension": ".py",
   "mimetype": "text/x-python",
   "name": "python",
   "nbconvert_exporter": "python",
   "pygments_lexer": "ipython3",
   "version": "3.7.4"
  }
 },
 "nbformat": 4,
 "nbformat_minor": 2
}
