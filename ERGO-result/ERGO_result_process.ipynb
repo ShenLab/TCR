{
 "cells": [
  {
   "cell_type": "markdown",
   "metadata": {},
   "source": [
    "# Single TCR peptide AUC result"
   ]
  },
  {
   "cell_type": "code",
   "execution_count": 2,
   "metadata": {},
   "outputs": [],
   "source": [
    "import pickle\n",
    "import pandas as pd\n",
    "import numpy as np"
   ]
  },
  {
   "cell_type": "code",
   "execution_count": null,
   "metadata": {},
   "outputs": [],
   "source": [
    "\n",
    "with open('/Users/zhangzhiwen/Documents/ERGO-master-test10/pep_test_result_ae2', 'rb') as file:\n",
    "    data1 = pickle.load(file)\n"
   ]
  },
  {
   "cell_type": "code",
   "execution_count": null,
   "metadata": {},
   "outputs": [],
   "source": [
    "ls1=[]\n",
    "for i in data1:\n",
    "    ls1.append([i[0],i[2]])"
   ]
  },
  {
   "cell_type": "code",
   "execution_count": null,
   "metadata": {},
   "outputs": [],
   "source": [
    "len(data1)"
   ]
  },
  {
   "cell_type": "code",
   "execution_count": null,
   "metadata": {},
   "outputs": [],
   "source": [
    "df_ae = pd.DataFrame(ls1,columns = ['pep','ae_auc'])"
   ]
  },
  {
   "cell_type": "code",
   "execution_count": null,
   "metadata": {},
   "outputs": [],
   "source": [
    "df_ae"
   ]
  },
  {
   "cell_type": "code",
   "execution_count": null,
   "metadata": {},
   "outputs": [],
   "source": [
    "with open('/Users/zhangzhiwen/Documents/ERGO-master-test10/pep_test_result_lstm2', 'rb') as fi:\n",
    "    data2 = pickle.load(fi)"
   ]
  },
  {
   "cell_type": "code",
   "execution_count": null,
   "metadata": {},
   "outputs": [],
   "source": [
    "len(data2)"
   ]
  },
  {
   "cell_type": "code",
   "execution_count": null,
   "metadata": {},
   "outputs": [],
   "source": [
    "ls2=[]\n",
    "for i in data2:\n",
    "    ls2.append([i[0],i[2]])"
   ]
  },
  {
   "cell_type": "code",
   "execution_count": null,
   "metadata": {},
   "outputs": [],
   "source": [
    "df_lstm = pd.DataFrame(ls2,columns = ['pep','lstm_auc'])"
   ]
  },
  {
   "cell_type": "code",
   "execution_count": null,
   "metadata": {},
   "outputs": [],
   "source": [
    "df_lstm"
   ]
  },
  {
   "cell_type": "code",
   "execution_count": null,
   "metadata": {},
   "outputs": [],
   "source": [
    "df_all = pd.merge(df_ae, df_lstm, on = 'pep',how='outer')"
   ]
  },
  {
   "cell_type": "code",
   "execution_count": null,
   "metadata": {},
   "outputs": [],
   "source": [
    "df_all"
   ]
  },
  {
   "cell_type": "code",
   "execution_count": null,
   "metadata": {},
   "outputs": [],
   "source": [
    "df_all['ae_auc']=df_all['ae_auc'].round(4)"
   ]
  },
  {
   "cell_type": "code",
   "execution_count": null,
   "metadata": {},
   "outputs": [],
   "source": [
    "df_all['lstm_auc']=df_all['lstm_auc'].round(4)"
   ]
  },
  {
   "cell_type": "code",
   "execution_count": null,
   "metadata": {},
   "outputs": [],
   "source": [
    "df_all.to_csv('ERGO10_singlepep.csv',index = False)"
   ]
  },
  {
   "cell_type": "code",
   "execution_count": null,
   "metadata": {},
   "outputs": [],
   "source": [
    "df_all"
   ]
  },
  {
   "cell_type": "code",
   "execution_count": null,
   "metadata": {},
   "outputs": [],
   "source": [
    "df10 = pd.read_csv('ERGO10_singlepep.csv')"
   ]
  },
  {
   "cell_type": "code",
   "execution_count": null,
   "metadata": {},
   "outputs": [],
   "source": [
    "df20 = pd.read_csv('ERGO20_singlepep.csv')"
   ]
  },
  {
   "cell_type": "code",
   "execution_count": null,
   "metadata": {},
   "outputs": [],
   "source": [
    "df_test = pd.merge(df10, df20, on = 'pep',how=\"outer\")"
   ]
  },
  {
   "cell_type": "code",
   "execution_count": null,
   "metadata": {},
   "outputs": [],
   "source": [
    "df_test.to_csv('ERGO10and20.csv',index = False)"
   ]
  },
  {
   "cell_type": "code",
   "execution_count": null,
   "metadata": {},
   "outputs": [],
   "source": [
    "df_test"
   ]
  },
  {
   "cell_type": "code",
   "execution_count": null,
   "metadata": {},
   "outputs": [],
   "source": []
  },
  {
   "cell_type": "markdown",
   "metadata": {},
   "source": [
    "# Training roc curve result"
   ]
  },
  {
   "cell_type": "code",
   "execution_count": 3,
   "metadata": {},
   "outputs": [],
   "source": [
    "data = np.load('/Users/zhangzhiwen/Documents/ERGO-master-test20/roc_ae2.npz')"
   ]
  },
  {
   "cell_type": "code",
   "execution_count": 4,
   "metadata": {},
   "outputs": [
    {
     "data": {
      "text/plain": [
       "['fpr', 'tpr', 'auc']"
      ]
     },
     "execution_count": 4,
     "metadata": {},
     "output_type": "execute_result"
    }
   ],
   "source": [
    "data.files"
   ]
  },
  {
   "cell_type": "code",
   "execution_count": 5,
   "metadata": {},
   "outputs": [
    {
     "data": {
      "text/plain": [
       "array(0.8042237)"
      ]
     },
     "execution_count": 5,
     "metadata": {},
     "output_type": "execute_result"
    }
   ],
   "source": [
    "data['auc']"
   ]
  },
  {
   "cell_type": "code",
   "execution_count": 6,
   "metadata": {},
   "outputs": [],
   "source": [
    "data_lstm = np.load('/Users/zhangzhiwen/Documents/ERGO-master-test20/roc_lstm2.npz')"
   ]
  },
  {
   "cell_type": "code",
   "execution_count": 7,
   "metadata": {},
   "outputs": [
    {
     "data": {
      "text/plain": [
       "array(0.90703804)"
      ]
     },
     "execution_count": 7,
     "metadata": {},
     "output_type": "execute_result"
    }
   ],
   "source": [
    "data_lstm['auc']"
   ]
  },
  {
   "cell_type": "code",
   "execution_count": 8,
   "metadata": {},
   "outputs": [],
   "source": [
    "lstm_fpr=data_lstm['fpr']\n",
    "lstm_tpr=data_lstm['tpr']\n",
    "lstm_auc=data_lstm['auc']"
   ]
  },
  {
   "cell_type": "code",
   "execution_count": 9,
   "metadata": {},
   "outputs": [],
   "source": [
    "ae_fpr=data['fpr']\n",
    "ae_tpr=data['tpr']\n",
    "ae_auc=data['auc']"
   ]
  },
  {
   "cell_type": "code",
   "execution_count": 10,
   "metadata": {},
   "outputs": [],
   "source": [
    "import matplotlib.pyplot as plt"
   ]
  },
  {
   "cell_type": "code",
   "execution_count": 11,
   "metadata": {},
   "outputs": [
    {
     "data": {
      "image/png": "[encoded data removed]",
      "text/plain": [
       "<Figure size 432x288 with 1 Axes>"
      ]
     },
     "metadata": {
      "needs_background": "light"
     },
     "output_type": "display_data"
    }
   ],
   "source": [
    "plt.figure\n",
    "plt.title('roc_20')\n",
    "plt.plot(lstm_fpr, lstm_tpr, 'b',label='LSTM embedding method, AUC:0.907')\n",
    "plt.plot(ae_fpr, ae_tpr, 'y',label = 'AE embedding method, AUC:0.804')\n",
    "plt.legend(loc = 'lower right')\n",
    "plt.plot([0, 1], [0, 1],'r--')\n",
    "plt.xlim([0, 1])\n",
    "plt.ylim([0, 1])\n",
    "plt.ylabel('True Positive Rate')\n",
    "plt.xlabel('False Positive Rate')\n",
    "plt.show()\n"
   ]
  },
  {
   "cell_type": "code",
   "execution_count": 12,
   "metadata": {},
   "outputs": [],
   "source": [
    "with open('/Users/zhangzhiwen/Documents/ERGO-master-test20/tpp_test_result_lstm2','rb') as r1:\n",
    "    tpp_l = pickle.load(r1)"
   ]
  },
  {
   "cell_type": "markdown",
   "metadata": {},
   "source": [
    "# Single peptide dataset summary"
   ]
  },
  {
   "cell_type": "code",
   "execution_count": null,
   "metadata": {},
   "outputs": [],
   "source": [
    "def loaddata(dirname,trainfile,valfile,testfile):\n",
    "    with open('/Users/zhangzhiwen/Documents/{0}/{1}'.format(dirname,trainfile),'rb') as fi1:\n",
    "        tradata = pickle.load(fi1)\n",
    "    with open('/Users/zhangzhiwen/Documents/{0}/{1}'.format(dirname,valfile),'rb') as fi2:\n",
    "        valdata = pickle.load(fi2)\n",
    "    with open('/Users/zhangzhiwen/Documents/{0}/{1}'.format(dirname,testfile),'rb') as fi3:\n",
    "        testdata = pickle.load(fi3)\n",
    "    return tradata, valdata, testdata"
   ]
  },
  {
   "cell_type": "code",
   "execution_count": null,
   "metadata": {},
   "outputs": [],
   "source": [
    "def count(ls):\n",
    "    p=0\n",
    "    n=0\n",
    "    peplis=[]\n",
    "    for i in ls:\n",
    "        if i[2] == 'p':\n",
    "            p = p+1\n",
    "        else:\n",
    "            n=n+1\n",
    "        peplis.append(i[1])\n",
    "    print('p:', p, 'n:', n )\n",
    "    newpeplis = set(peplis)\n",
    "    print('number of pep:',len(newpeplis))\n",
    "    "
   ]
  },
  {
   "cell_type": "code",
   "execution_count": null,
   "metadata": {},
   "outputs": [],
   "source": [
    "def same_elem(list1, list2):\n",
    "    set1 = set(list1)\n",
    "    set2 = set(list2)\n",
    "    iset = set1.intersection(set2)\n",
    "    return list(iset)"
   ]
  },
  {
   "cell_type": "code",
   "execution_count": null,
   "metadata": {},
   "outputs": [],
   "source": [
    "def countpep(ls):\n",
    "    ls_df = pd.DataFrame(ls,columns = ['tcr','pep'])\n",
    "    ls_df_pep = list(ls_df['pep'])\n",
    "    ls_df_d = {t:ls_df_pep.count(t) for t in set(ls_df_pep)}\n",
    "    sorted_ls_d = sorted(ls_df_d.items(), key=lambda k: k[1],reverse=True)\n",
    "    return sorted_ls_d"
   ]
  },
  {
   "cell_type": "code",
   "execution_count": null,
   "metadata": {},
   "outputs": [],
   "source": [
    "\n",
    "tra_lstm20, val_lstm20,test_lstm20 = loaddata('ERGO-master-test20','train_data_lstm.pickle','test_data_norepet_lstm20.pickle','realtest_norepet_lstm20.pickle')\n"
   ]
  },
  {
   "cell_type": "code",
   "execution_count": null,
   "metadata": {},
   "outputs": [],
   "source": [
    "def summary(tra,val,test):\n",
    "    print('tra',len(tra),count(tra))\n",
    "    print('val',len(val),count(val))\n",
    "    print('test',len(test),count(test))"
   ]
  },
  {
   "cell_type": "code",
   "execution_count": null,
   "metadata": {},
   "outputs": [],
   "source": [
    "summary(tra_lstm20,val_lstm20,test_lstm20)"
   ]
  },
  {
   "cell_type": "code",
   "execution_count": null,
   "metadata": {},
   "outputs": [],
   "source": [
    "def divide_negpos(lis):\n",
    "    neg=[]\n",
    "    pos=[]\n",
    "    for ele in lis:\n",
    "        if ele[2]=='n':\n",
    "            neg.append([ele[0],''.join(ele[1])])\n",
    "        else:\n",
    "            pos.append([ele[0],''.join(ele[1])])\n",
    "    return pos, neg\n",
    "            "
   ]
  },
  {
   "cell_type": "code",
   "execution_count": null,
   "metadata": {},
   "outputs": [],
   "source": [
    "def generate_finaldf(ls,column_name,column_num):\n",
    "    posvalue,negvalue = divide_negpos(ls)\n",
    "    pos_d = countpep(posvalue)\n",
    "    neg_d = countpep(negvalue)\n",
    "    pos_df = pd.DataFrame(pos_d,columns = ['pep','{0} positive pairs_{1}'.format(column_name,column_num)])\n",
    "    neg_df = pd.DataFrame(neg_d,columns = ['pep','{0} negtive pairs_{1}'.format(column_name,column_num)])\n",
    "    pn_all = pd.merge(pos_df, neg_df, on = 'pep',how=\"outer\")\n",
    "    return pn_all"
   ]
  },
  {
   "cell_type": "code",
   "execution_count": null,
   "metadata": {},
   "outputs": [],
   "source": [
    "tra_lstm_df10 = generate_finaldf(tra_lstm10,'train','10')\n",
    "val_lstm_df10 = generate_finaldf(val_lstm10,'validation','10')\n",
    "test_lstm_df10 = generate_finaldf(test_lstm10,'test','10')"
   ]
  },
  {
   "cell_type": "code",
   "execution_count": null,
   "metadata": {},
   "outputs": [],
   "source": [
    "data_lstm_all10 = pd.merge(tra_lstm_df10,val_lstm_df10, on = 'pep',how=\"outer\")"
   ]
  },
  {
   "cell_type": "code",
   "execution_count": null,
   "metadata": {},
   "outputs": [],
   "source": [
    "data_lstm_all10 = pd.merge(data_lstm_all10,test_lstm_df10, on = 'pep',how=\"outer\")"
   ]
  },
  {
   "cell_type": "code",
   "execution_count": null,
   "metadata": {},
   "outputs": [],
   "source": [
    "data_lstm_all10.to_csv('lstm10_datasum.csv',index = False)"
   ]
  },
  {
   "cell_type": "code",
   "execution_count": null,
   "metadata": {},
   "outputs": [],
   "source": [
    "tra_ae10, val_ae10,test_ae10 = loaddata('ERGO-master-test10','train_data_ae.pickle','test_data_norepet_ae10.pickle','realtest_norepet_ae10.pickle')\n",
    "\n"
   ]
  },
  {
   "cell_type": "code",
   "execution_count": null,
   "metadata": {},
   "outputs": [],
   "source": [
    "summary(tra_ae10, val_ae10,test_ae10)"
   ]
  },
  {
   "cell_type": "code",
   "execution_count": null,
   "metadata": {},
   "outputs": [],
   "source": [
    "tra_ae_df10 = generate_finaldf(tra_ae10,'train_ae','10')\n",
    "val_ae_df10 = generate_finaldf(val_ae10,'validation_ae','10')\n",
    "test_ae_df10 = generate_finaldf(test_ae10,'test_ae','10')"
   ]
  },
  {
   "cell_type": "code",
   "execution_count": null,
   "metadata": {},
   "outputs": [],
   "source": [
    "data_ae_all10 = pd.merge(tra_ae_df10,val_ae_df10, on = 'pep',how=\"outer\")"
   ]
  },
  {
   "cell_type": "code",
   "execution_count": null,
   "metadata": {},
   "outputs": [],
   "source": [
    "data_ae_all10 = pd.merge(data_ae_all10,test_ae_df10, on = 'pep',how=\"outer\")"
   ]
  },
  {
   "cell_type": "code",
   "execution_count": null,
   "metadata": {},
   "outputs": [],
   "source": [
    "data_ae_all10.to_csv('ae10_datasum.csv',index = False)"
   ]
  },
  {
   "cell_type": "code",
   "execution_count": null,
   "metadata": {},
   "outputs": [],
   "source": [
    "tra_ae20, val_ae20,test_ae20 = loaddata('ERGO-master-test20','train_data_ae.pickle','test_data_norepet_ae20.pickle','realtest_norepet_ae20.pickle')\n",
    "\n"
   ]
  },
  {
   "cell_type": "code",
   "execution_count": null,
   "metadata": {},
   "outputs": [],
   "source": [
    "summary(tra_ae20, val_ae20,test_ae20)"
   ]
  },
  {
   "cell_type": "code",
   "execution_count": null,
   "metadata": {},
   "outputs": [],
   "source": [
    "tra_ae_df20 = generate_finaldf(tra_ae20,'train_ae','20')\n",
    "val_ae_df20 = generate_finaldf(val_ae20,'validation_ae','20')\n",
    "test_ae_df20 = generate_finaldf(test_ae20,'test_ae','20')"
   ]
  },
  {
   "cell_type": "code",
   "execution_count": null,
   "metadata": {},
   "outputs": [],
   "source": [
    "data_ae_all20 = pd.merge(tra_ae_df20,val_ae_df20, on = 'pep',how=\"outer\")"
   ]
  },
  {
   "cell_type": "code",
   "execution_count": null,
   "metadata": {},
   "outputs": [],
   "source": [
    "data_ae_all20 = pd.merge(data_ae_all20,test_ae_df20, on = 'pep',how=\"outer\")"
   ]
  },
  {
   "cell_type": "code",
   "execution_count": null,
   "metadata": {},
   "outputs": [],
   "source": [
    "data_ae_all20.to_csv('ae20_datasum.csv',index = False)"
   ]
  },
  {
   "cell_type": "code",
   "execution_count": null,
   "metadata": {},
   "outputs": [],
   "source": [
    "tra_lstm20, val_lstm20,test_lstm20 = loaddata('ERGO-master-test20','train_data_lstm.pickle','test_data_norepet_lstm20.pickle','realtest_norepet_lstm20.pickle')\n"
   ]
  },
  {
   "cell_type": "code",
   "execution_count": null,
   "metadata": {},
   "outputs": [],
   "source": [
    "summary(tra_lstm20, val_lstm20,test_lstm20)"
   ]
  },
  {
   "cell_type": "code",
   "execution_count": null,
   "metadata": {},
   "outputs": [],
   "source": [
    "tra_lstm_df20 = generate_finaldf(tra_lstm20,'train_lstm','20')\n",
    "val_lstm_df20 = generate_finaldf(val_lstm20,'validation_lstm','20')\n",
    "test_lstm_df20 = generate_finaldf(test_lstm20,'test_lstm','20')"
   ]
  },
  {
   "cell_type": "code",
   "execution_count": null,
   "metadata": {},
   "outputs": [],
   "source": [
    "data_lstm_all20 = pd.merge(tra_lstm_df20,val_lstm_df20, on = 'pep',how=\"outer\")"
   ]
  },
  {
   "cell_type": "code",
   "execution_count": null,
   "metadata": {},
   "outputs": [],
   "source": [
    "data_lstm_all20 = pd.merge(data_lstm_all20,test_lstm_df20, on = 'pep',how=\"outer\")"
   ]
  },
  {
   "cell_type": "code",
   "execution_count": null,
   "metadata": {},
   "outputs": [],
   "source": [
    "data_lstm_all20"
   ]
  },
  {
   "cell_type": "code",
   "execution_count": null,
   "metadata": {},
   "outputs": [],
   "source": [
    "data_lstm_all20.to_csv('lstm20_datasum.csv',index = False)"
   ]
  },
  {
   "cell_type": "code",
   "execution_count": null,
   "metadata": {},
   "outputs": [],
   "source": []
  },
  {
   "cell_type": "markdown",
   "metadata": {},
   "source": [
    "# Combine result\n"
   ]
  },
  {
   "cell_type": "code",
   "execution_count": null,
   "metadata": {},
   "outputs": [],
   "source": [
    "dfae10 = pd.read_csv('ae10_datasum.csv')\n",
    "dflstm10 = pd.read_csv('lstm10_datasum.csv')\n",
    "dfpepresult10 = pd.read_csv('ERGO10_singlepep.csv')"
   ]
  },
  {
   "cell_type": "code",
   "execution_count": null,
   "metadata": {},
   "outputs": [],
   "source": [
    "pepnum10 = pd.merge(dfae10,dflstm10, on = 'pep',how=\"outer\")"
   ]
  },
  {
   "cell_type": "code",
   "execution_count": null,
   "metadata": {},
   "outputs": [],
   "source": [
    "final10= pd.merge(pepnum10,dfpepresult10, on = 'pep',how=\"outer\")"
   ]
  },
  {
   "cell_type": "code",
   "execution_count": null,
   "metadata": {},
   "outputs": [],
   "source": [
    "final10.to_csv('output10.csv',index = False)"
   ]
  },
  {
   "cell_type": "code",
   "execution_count": null,
   "metadata": {},
   "outputs": [],
   "source": []
  },
  {
   "cell_type": "code",
   "execution_count": null,
   "metadata": {},
   "outputs": [],
   "source": [
    "dfae20 = pd.read_csv('ae20_datasum.csv')\n",
    "dflstm20 = pd.read_csv('lstm20_datasum.csv')\n",
    "dfpepresult20 = pd.read_csv('ERGO20_singlepep.csv')"
   ]
  },
  {
   "cell_type": "code",
   "execution_count": null,
   "metadata": {},
   "outputs": [],
   "source": [
    "pepnum20 = pd.merge(dfae20,dflstm20, on = 'pep',how=\"outer\")"
   ]
  },
  {
   "cell_type": "code",
   "execution_count": null,
   "metadata": {},
   "outputs": [],
   "source": [
    "final20= pd.merge(pepnum20,dfpepresult20, on = 'pep',how=\"outer\")"
   ]
  },
  {
   "cell_type": "code",
   "execution_count": null,
   "metadata": {},
   "outputs": [],
   "source": [
    "final20.to_csv('output20.csv',index = False)"
   ]
  },
  {
   "cell_type": "code",
   "execution_count": null,
   "metadata": {},
   "outputs": [],
   "source": []
  },
  {
   "cell_type": "markdown",
   "metadata": {},
   "source": [
    "# AUC summary with DeepTCR result"
   ]
  },
  {
   "cell_type": "code",
   "execution_count": null,
   "metadata": {},
   "outputs": [],
   "source": [
    "deeptcr10 = pd.read_csv('deeptcrAUC_noVJ10.csv')"
   ]
  },
  {
   "cell_type": "code",
   "execution_count": null,
   "metadata": {},
   "outputs": [],
   "source": [
    "deeptcr20 = pd.read_csv('deeptcrAUC_noVJ20.csv')"
   ]
  },
  {
   "cell_type": "code",
   "execution_count": null,
   "metadata": {},
   "outputs": [],
   "source": [
    "deeptcr10 =deeptcr10.rename(columns ={'Class':'pep','AUC':'AUC_10'})\n",
    "\n",
    "deeptcr20 =deeptcr20.rename(columns ={'Class':'pep','AUC':'AUC_20'})"
   ]
  },
  {
   "cell_type": "code",
   "execution_count": null,
   "metadata": {},
   "outputs": [],
   "source": [
    "deeptcr20"
   ]
  },
  {
   "cell_type": "code",
   "execution_count": null,
   "metadata": {},
   "outputs": [],
   "source": [
    "df10and20 = pd.read_csv('ERGO10and20.csv')"
   ]
  },
  {
   "cell_type": "code",
   "execution_count": null,
   "metadata": {},
   "outputs": [],
   "source": [
    "final_all= pd.merge(df10and20,deeptcr10, on = 'pep',how=\"outer\")"
   ]
  },
  {
   "cell_type": "code",
   "execution_count": null,
   "metadata": {},
   "outputs": [],
   "source": [
    "final_all = pd.merge(final_all,deeptcr20, on = 'pep',how=\"outer\")"
   ]
  },
  {
   "cell_type": "code",
   "execution_count": null,
   "metadata": {},
   "outputs": [],
   "source": [
    "final_all['AUC_10']=final_all['AUC_10'].round(4)"
   ]
  },
  {
   "cell_type": "code",
   "execution_count": null,
   "metadata": {},
   "outputs": [],
   "source": [
    "final_all['AUC_20']=final_all['AUC_20'].round(4)"
   ]
  },
  {
   "cell_type": "code",
   "execution_count": null,
   "metadata": {},
   "outputs": [],
   "source": [
    "final_all.to_csv('ERGOandDeepTCR_result.csv',index = False)"
   ]
  },
  {
   "cell_type": "markdown",
   "metadata": {},
   "source": [
    "# Generate plot"
   ]
  },
  {
   "cell_type": "code",
   "execution_count": 1,
   "metadata": {},
   "outputs": [],
   "source": [
    "import pandas as pd\n",
    "import matplotlib.pyplot as plt"
   ]
  },
  {
   "cell_type": "code",
   "execution_count": 2,
   "metadata": {},
   "outputs": [],
   "source": [
    "auc_result = pd.read_csv('ERGOandDeepTCR_result.csv')"
   ]
  },
  {
   "cell_type": "code",
   "execution_count": 4,
   "metadata": {},
   "outputs": [
    {
     "data": {
      "text/html": [
       "<div>\n",
       "<style scoped>\n",
       "    .dataframe tbody tr th:only-of-type {\n",
       "        vertical-align: middle;\n",
       "    }\n",
       "\n",
       "    .dataframe tbody tr th {\n",
       "        vertical-align: top;\n",
       "    }\n",
       "\n",
       "    .dataframe thead th {\n",
       "        text-align: right;\n",
       "    }\n",
       "</style>\n",
       "<table border=\"1\" class=\"dataframe\">\n",
       "  <thead>\n",
       "    <tr style=\"text-align: right;\">\n",
       "      <th></th>\n",
       "      <th>pep</th>\n",
       "      <th>ae_auc_10</th>\n",
       "      <th>lstm_auc_10</th>\n",
       "      <th>ae_auc_20</th>\n",
       "      <th>lstm_auc_20</th>\n",
       "      <th>AUC_10</th>\n",
       "      <th>AUC_20</th>\n",
       "    </tr>\n",
       "  </thead>\n",
       "  <tbody>\n",
       "    <tr>\n",
       "      <td>0</td>\n",
       "      <td>FYLCFLAFL</td>\n",
       "      <td>0.7260</td>\n",
       "      <td>0.7319</td>\n",
       "      <td>0.8262</td>\n",
       "      <td>0.8367</td>\n",
       "      <td>0.6355</td>\n",
       "      <td>0.6779</td>\n",
       "    </tr>\n",
       "    <tr>\n",
       "      <td>1</td>\n",
       "      <td>IDFYLCFLAF</td>\n",
       "      <td>0.7080</td>\n",
       "      <td>0.7293</td>\n",
       "      <td>0.8334</td>\n",
       "      <td>0.8151</td>\n",
       "      <td>0.6211</td>\n",
       "      <td>0.6574</td>\n",
       "    </tr>\n",
       "    <tr>\n",
       "      <td>2</td>\n",
       "      <td>LLFLVLIML</td>\n",
       "      <td>0.7304</td>\n",
       "      <td>0.7443</td>\n",
       "      <td>0.8131</td>\n",
       "      <td>0.8123</td>\n",
       "      <td>0.6054</td>\n",
       "      <td>0.6575</td>\n",
       "    </tr>\n",
       "    <tr>\n",
       "      <td>3</td>\n",
       "      <td>LIDFYLCFL</td>\n",
       "      <td>0.7451</td>\n",
       "      <td>0.7361</td>\n",
       "      <td>0.8007</td>\n",
       "      <td>0.8086</td>\n",
       "      <td>0.6242</td>\n",
       "      <td>0.6574</td>\n",
       "    </tr>\n",
       "    <tr>\n",
       "      <td>4</td>\n",
       "      <td>FYLCFLAFLL</td>\n",
       "      <td>0.7497</td>\n",
       "      <td>0.7518</td>\n",
       "      <td>0.8202</td>\n",
       "      <td>0.8396</td>\n",
       "      <td>0.6249</td>\n",
       "      <td>0.6537</td>\n",
       "    </tr>\n",
       "    <tr>\n",
       "      <td>...</td>\n",
       "      <td>...</td>\n",
       "      <td>...</td>\n",
       "      <td>...</td>\n",
       "      <td>...</td>\n",
       "      <td>...</td>\n",
       "      <td>...</td>\n",
       "      <td>...</td>\n",
       "    </tr>\n",
       "    <tr>\n",
       "      <td>536</td>\n",
       "      <td>IQPGQTFSV</td>\n",
       "      <td>NaN</td>\n",
       "      <td>NaN</td>\n",
       "      <td>NaN</td>\n",
       "      <td>NaN</td>\n",
       "      <td>NaN</td>\n",
       "      <td>0.2755</td>\n",
       "    </tr>\n",
       "    <tr>\n",
       "      <td>537</td>\n",
       "      <td>RFDNPVLPF</td>\n",
       "      <td>NaN</td>\n",
       "      <td>NaN</td>\n",
       "      <td>NaN</td>\n",
       "      <td>NaN</td>\n",
       "      <td>NaN</td>\n",
       "      <td>0.3844</td>\n",
       "    </tr>\n",
       "    <tr>\n",
       "      <td>538</td>\n",
       "      <td>RVGARKSAPL</td>\n",
       "      <td>NaN</td>\n",
       "      <td>NaN</td>\n",
       "      <td>NaN</td>\n",
       "      <td>NaN</td>\n",
       "      <td>NaN</td>\n",
       "      <td>0.0771</td>\n",
       "    </tr>\n",
       "    <tr>\n",
       "      <td>539</td>\n",
       "      <td>SQASSRSSSR</td>\n",
       "      <td>NaN</td>\n",
       "      <td>NaN</td>\n",
       "      <td>NaN</td>\n",
       "      <td>NaN</td>\n",
       "      <td>NaN</td>\n",
       "      <td>0.9077</td>\n",
       "    </tr>\n",
       "    <tr>\n",
       "      <td>540</td>\n",
       "      <td>WIFGTTLDSK</td>\n",
       "      <td>NaN</td>\n",
       "      <td>NaN</td>\n",
       "      <td>NaN</td>\n",
       "      <td>NaN</td>\n",
       "      <td>NaN</td>\n",
       "      <td>0.9244</td>\n",
       "    </tr>\n",
       "  </tbody>\n",
       "</table>\n",
       "<p>541 rows × 7 columns</p>\n",
       "</div>"
      ],
      "text/plain": [
       "            pep  ae_auc_10  lstm_auc_10  ae_auc_20  lstm_auc_20  AUC_10  \\\n",
       "0     FYLCFLAFL     0.7260       0.7319     0.8262       0.8367  0.6355   \n",
       "1    IDFYLCFLAF     0.7080       0.7293     0.8334       0.8151  0.6211   \n",
       "2     LLFLVLIML     0.7304       0.7443     0.8131       0.8123  0.6054   \n",
       "3     LIDFYLCFL     0.7451       0.7361     0.8007       0.8086  0.6242   \n",
       "4    FYLCFLAFLL     0.7497       0.7518     0.8202       0.8396  0.6249   \n",
       "..          ...        ...          ...        ...          ...     ...   \n",
       "536   IQPGQTFSV        NaN          NaN        NaN          NaN     NaN   \n",
       "537   RFDNPVLPF        NaN          NaN        NaN          NaN     NaN   \n",
       "538  RVGARKSAPL        NaN          NaN        NaN          NaN     NaN   \n",
       "539  SQASSRSSSR        NaN          NaN        NaN          NaN     NaN   \n",
       "540  WIFGTTLDSK        NaN          NaN        NaN          NaN     NaN   \n",
       "\n",
       "     AUC_20  \n",
       "0    0.6779  \n",
       "1    0.6574  \n",
       "2    0.6575  \n",
       "3    0.6574  \n",
       "4    0.6537  \n",
       "..      ...  \n",
       "536  0.2755  \n",
       "537  0.3844  \n",
       "538  0.0771  \n",
       "539  0.9077  \n",
       "540  0.9244  \n",
       "\n",
       "[541 rows x 7 columns]"
      ]
     },
     "execution_count": 4,
     "metadata": {},
     "output_type": "execute_result"
    }
   ],
   "source": [
    "auc_result"
   ]
  },
  {
   "cell_type": "code",
   "execution_count": null,
   "metadata": {},
   "outputs": [],
   "source": []
  },
  {
   "cell_type": "code",
   "execution_count": 10,
   "metadata": {},
   "outputs": [],
   "source": [
    "def getlist(df,column):\n",
    "    ls = list(df[column])\n",
    "    ls_clean = [x for x in ls if str(x) != 'nan']\n",
    "    return ls_clean"
   ]
  },
  {
   "cell_type": "code",
   "execution_count": 11,
   "metadata": {},
   "outputs": [],
   "source": [
    "lsae10 = getlist(auc_result,'ae_auc_10')"
   ]
  },
  {
   "cell_type": "code",
   "execution_count": 14,
   "metadata": {},
   "outputs": [],
   "source": [
    "lslstm10 = getlist(auc_result,'lstm_auc_10')"
   ]
  },
  {
   "cell_type": "code",
   "execution_count": 15,
   "metadata": {},
   "outputs": [],
   "source": [
    "lsae20 = getlist(auc_result,'ae_auc_20')"
   ]
  },
  {
   "cell_type": "code",
   "execution_count": 16,
   "metadata": {},
   "outputs": [],
   "source": [
    "lslstm20 = getlist(auc_result,'lstm_auc_20')"
   ]
  },
  {
   "cell_type": "code",
   "execution_count": 17,
   "metadata": {},
   "outputs": [],
   "source": [
    "deeptcr10 = getlist(auc_result,'AUC_10')"
   ]
  },
  {
   "cell_type": "code",
   "execution_count": 18,
   "metadata": {},
   "outputs": [],
   "source": [
    "deeptcr20 = getlist(auc_result,'AUC_20')"
   ]
  },
  {
   "cell_type": "code",
   "execution_count": 35,
   "metadata": {},
   "outputs": [
    {
     "data": {
      "image/png": "[encoded data removed]",
      "text/plain": [
       "<Figure size 576x432 with 1 Axes>"
      ]
     },
     "metadata": {
      "needs_background": "light"
     },
     "output_type": "display_data"
    }
   ],
   "source": [
    "data_to_plot = [lsae10, lslstm10, lsae20, lslstm20, deeptcr10, deeptcr20]\n",
    "fig, ax = plt.subplots(figsize=(8,6))\n",
    "ax.violinplot(data_to_plot, showmedians=True)\n",
    "ax.set_title('AUCs of single peptide')\n",
    "ax.set_ylabel('AUC')\n",
    "ax.set_xticks([1,2,3,4,5,6])\n",
    "ax.set_xticklabels(['AE_10','LSTM_10','AE_20','LSTM_20','DeepTCR_10','DeepTCR_20'])\n",
    "plt.show()\n"
   ]
  },
  {
   "cell_type": "code",
   "execution_count": 36,
   "metadata": {},
   "outputs": [],
   "source": [
    "output10 = pd.read_csv('output10.csv')"
   ]
  },
  {
   "cell_type": "code",
   "execution_count": 37,
   "metadata": {
    "scrolled": true
   },
   "outputs": [
    {
     "data": {
      "text/html": [
       "<div>\n",
       "<style scoped>\n",
       "    .dataframe tbody tr th:only-of-type {\n",
       "        vertical-align: middle;\n",
       "    }\n",
       "\n",
       "    .dataframe tbody tr th {\n",
       "        vertical-align: top;\n",
       "    }\n",
       "\n",
       "    .dataframe thead th {\n",
       "        text-align: right;\n",
       "    }\n",
       "</style>\n",
       "<table border=\"1\" class=\"dataframe\">\n",
       "  <thead>\n",
       "    <tr style=\"text-align: right;\">\n",
       "      <th></th>\n",
       "      <th>pep</th>\n",
       "      <th>train_ae positive pairs_10</th>\n",
       "      <th>train_ae negtive pairs_10</th>\n",
       "      <th>validation_ae positive pairs_10</th>\n",
       "      <th>validation_ae negtive pairs_10</th>\n",
       "      <th>test_ae positive pairs_10</th>\n",
       "      <th>test_ae negtive pairs_10</th>\n",
       "      <th>train positive pairs_10</th>\n",
       "      <th>train negtive pairs_10</th>\n",
       "      <th>validation positive pairs_10</th>\n",
       "      <th>validation negtive pairs_10</th>\n",
       "      <th>test positive pairs_10</th>\n",
       "      <th>test negtive pairs_10</th>\n",
       "      <th>ae_auc</th>\n",
       "      <th>lstm_auc</th>\n",
       "    </tr>\n",
       "  </thead>\n",
       "  <tbody>\n",
       "    <tr>\n",
       "      <td>0</td>\n",
       "      <td>LLFLVLIML</td>\n",
       "      <td>2529.0</td>\n",
       "      <td>10885.0</td>\n",
       "      <td>587.0</td>\n",
       "      <td>2175.0</td>\n",
       "      <td>327.0</td>\n",
       "      <td>1301.0</td>\n",
       "      <td>2514.0</td>\n",
       "      <td>10680.0</td>\n",
       "      <td>603.0</td>\n",
       "      <td>2195.0</td>\n",
       "      <td>327.0</td>\n",
       "      <td>1274.0</td>\n",
       "      <td>0.7304</td>\n",
       "      <td>0.7443</td>\n",
       "    </tr>\n",
       "    <tr>\n",
       "      <td>1</td>\n",
       "      <td>IDFYLCFLAF</td>\n",
       "      <td>2514.0</td>\n",
       "      <td>10520.0</td>\n",
       "      <td>633.0</td>\n",
       "      <td>2363.0</td>\n",
       "      <td>339.0</td>\n",
       "      <td>1287.0</td>\n",
       "      <td>2520.0</td>\n",
       "      <td>10933.0</td>\n",
       "      <td>624.0</td>\n",
       "      <td>2405.0</td>\n",
       "      <td>339.0</td>\n",
       "      <td>1264.0</td>\n",
       "      <td>0.7080</td>\n",
       "      <td>0.7293</td>\n",
       "    </tr>\n",
       "    <tr>\n",
       "      <td>2</td>\n",
       "      <td>FYLCFLAFL</td>\n",
       "      <td>2514.0</td>\n",
       "      <td>10539.0</td>\n",
       "      <td>637.0</td>\n",
       "      <td>2372.0</td>\n",
       "      <td>319.0</td>\n",
       "      <td>1254.0</td>\n",
       "      <td>2539.0</td>\n",
       "      <td>10553.0</td>\n",
       "      <td>616.0</td>\n",
       "      <td>2269.0</td>\n",
       "      <td>319.0</td>\n",
       "      <td>1262.0</td>\n",
       "      <td>0.7260</td>\n",
       "      <td>0.7319</td>\n",
       "    </tr>\n",
       "    <tr>\n",
       "      <td>3</td>\n",
       "      <td>LIDFYLCFL</td>\n",
       "      <td>2502.0</td>\n",
       "      <td>11020.0</td>\n",
       "      <td>609.0</td>\n",
       "      <td>2152.0</td>\n",
       "      <td>340.0</td>\n",
       "      <td>1281.0</td>\n",
       "      <td>2496.0</td>\n",
       "      <td>10741.0</td>\n",
       "      <td>612.0</td>\n",
       "      <td>2360.0</td>\n",
       "      <td>340.0</td>\n",
       "      <td>1252.0</td>\n",
       "      <td>0.7451</td>\n",
       "      <td>0.7361</td>\n",
       "    </tr>\n",
       "    <tr>\n",
       "      <td>4</td>\n",
       "      <td>MIELSLIDFY</td>\n",
       "      <td>2495.0</td>\n",
       "      <td>10589.0</td>\n",
       "      <td>594.0</td>\n",
       "      <td>2401.0</td>\n",
       "      <td>338.0</td>\n",
       "      <td>1262.0</td>\n",
       "      <td>2465.0</td>\n",
       "      <td>10490.0</td>\n",
       "      <td>627.0</td>\n",
       "      <td>2293.0</td>\n",
       "      <td>338.0</td>\n",
       "      <td>1280.0</td>\n",
       "      <td>0.7474</td>\n",
       "      <td>0.7412</td>\n",
       "    </tr>\n",
       "    <tr>\n",
       "      <td>...</td>\n",
       "      <td>...</td>\n",
       "      <td>...</td>\n",
       "      <td>...</td>\n",
       "      <td>...</td>\n",
       "      <td>...</td>\n",
       "      <td>...</td>\n",
       "      <td>...</td>\n",
       "      <td>...</td>\n",
       "      <td>...</td>\n",
       "      <td>...</td>\n",
       "      <td>...</td>\n",
       "      <td>...</td>\n",
       "      <td>...</td>\n",
       "      <td>...</td>\n",
       "      <td>...</td>\n",
       "    </tr>\n",
       "    <tr>\n",
       "      <td>527</td>\n",
       "      <td>GTGPEAGLPY</td>\n",
       "      <td>NaN</td>\n",
       "      <td>NaN</td>\n",
       "      <td>1.0</td>\n",
       "      <td>5.0</td>\n",
       "      <td>NaN</td>\n",
       "      <td>NaN</td>\n",
       "      <td>1.0</td>\n",
       "      <td>5.0</td>\n",
       "      <td>NaN</td>\n",
       "      <td>NaN</td>\n",
       "      <td>NaN</td>\n",
       "      <td>NaN</td>\n",
       "      <td>NaN</td>\n",
       "      <td>NaN</td>\n",
       "    </tr>\n",
       "    <tr>\n",
       "      <td>528</td>\n",
       "      <td>YVYSRVKNL</td>\n",
       "      <td>NaN</td>\n",
       "      <td>NaN</td>\n",
       "      <td>1.0</td>\n",
       "      <td>10.0</td>\n",
       "      <td>1.0</td>\n",
       "      <td>5.0</td>\n",
       "      <td>1.0</td>\n",
       "      <td>10.0</td>\n",
       "      <td>NaN</td>\n",
       "      <td>NaN</td>\n",
       "      <td>1.0</td>\n",
       "      <td>5.0</td>\n",
       "      <td>NaN</td>\n",
       "      <td>NaN</td>\n",
       "    </tr>\n",
       "    <tr>\n",
       "      <td>529</td>\n",
       "      <td>NLSKSLTENK</td>\n",
       "      <td>NaN</td>\n",
       "      <td>NaN</td>\n",
       "      <td>1.0</td>\n",
       "      <td>5.0</td>\n",
       "      <td>1.0</td>\n",
       "      <td>NaN</td>\n",
       "      <td>1.0</td>\n",
       "      <td>10.0</td>\n",
       "      <td>NaN</td>\n",
       "      <td>NaN</td>\n",
       "      <td>1.0</td>\n",
       "      <td>NaN</td>\n",
       "      <td>NaN</td>\n",
       "      <td>NaN</td>\n",
       "    </tr>\n",
       "    <tr>\n",
       "      <td>530</td>\n",
       "      <td>AVILRGHLR</td>\n",
       "      <td>NaN</td>\n",
       "      <td>NaN</td>\n",
       "      <td>1.0</td>\n",
       "      <td>10.0</td>\n",
       "      <td>NaN</td>\n",
       "      <td>NaN</td>\n",
       "      <td>1.0</td>\n",
       "      <td>10.0</td>\n",
       "      <td>NaN</td>\n",
       "      <td>NaN</td>\n",
       "      <td>NaN</td>\n",
       "      <td>NaN</td>\n",
       "      <td>NaN</td>\n",
       "      <td>NaN</td>\n",
       "    </tr>\n",
       "    <tr>\n",
       "      <td>531</td>\n",
       "      <td>ILLNKHID</td>\n",
       "      <td>NaN</td>\n",
       "      <td>NaN</td>\n",
       "      <td>NaN</td>\n",
       "      <td>NaN</td>\n",
       "      <td>1.0</td>\n",
       "      <td>NaN</td>\n",
       "      <td>NaN</td>\n",
       "      <td>NaN</td>\n",
       "      <td>NaN</td>\n",
       "      <td>NaN</td>\n",
       "      <td>1.0</td>\n",
       "      <td>NaN</td>\n",
       "      <td>NaN</td>\n",
       "      <td>NaN</td>\n",
       "    </tr>\n",
       "  </tbody>\n",
       "</table>\n",
       "<p>532 rows × 15 columns</p>\n",
       "</div>"
      ],
      "text/plain": [
       "            pep  train_ae positive pairs_10  train_ae negtive pairs_10  \\\n",
       "0     LLFLVLIML                      2529.0                    10885.0   \n",
       "1    IDFYLCFLAF                      2514.0                    10520.0   \n",
       "2     FYLCFLAFL                      2514.0                    10539.0   \n",
       "3     LIDFYLCFL                      2502.0                    11020.0   \n",
       "4    MIELSLIDFY                      2495.0                    10589.0   \n",
       "..          ...                         ...                        ...   \n",
       "527  GTGPEAGLPY                         NaN                        NaN   \n",
       "528   YVYSRVKNL                         NaN                        NaN   \n",
       "529  NLSKSLTENK                         NaN                        NaN   \n",
       "530   AVILRGHLR                         NaN                        NaN   \n",
       "531    ILLNKHID                         NaN                        NaN   \n",
       "\n",
       "     validation_ae positive pairs_10  validation_ae negtive pairs_10  \\\n",
       "0                              587.0                          2175.0   \n",
       "1                              633.0                          2363.0   \n",
       "2                              637.0                          2372.0   \n",
       "3                              609.0                          2152.0   \n",
       "4                              594.0                          2401.0   \n",
       "..                               ...                             ...   \n",
       "527                              1.0                             5.0   \n",
       "528                              1.0                            10.0   \n",
       "529                              1.0                             5.0   \n",
       "530                              1.0                            10.0   \n",
       "531                              NaN                             NaN   \n",
       "\n",
       "     test_ae positive pairs_10  test_ae negtive pairs_10  \\\n",
       "0                        327.0                    1301.0   \n",
       "1                        339.0                    1287.0   \n",
       "2                        319.0                    1254.0   \n",
       "3                        340.0                    1281.0   \n",
       "4                        338.0                    1262.0   \n",
       "..                         ...                       ...   \n",
       "527                        NaN                       NaN   \n",
       "528                        1.0                       5.0   \n",
       "529                        1.0                       NaN   \n",
       "530                        NaN                       NaN   \n",
       "531                        1.0                       NaN   \n",
       "\n",
       "     train positive pairs_10  train negtive pairs_10  \\\n",
       "0                     2514.0                 10680.0   \n",
       "1                     2520.0                 10933.0   \n",
       "2                     2539.0                 10553.0   \n",
       "3                     2496.0                 10741.0   \n",
       "4                     2465.0                 10490.0   \n",
       "..                       ...                     ...   \n",
       "527                      1.0                     5.0   \n",
       "528                      1.0                    10.0   \n",
       "529                      1.0                    10.0   \n",
       "530                      1.0                    10.0   \n",
       "531                      NaN                     NaN   \n",
       "\n",
       "     validation positive pairs_10  validation negtive pairs_10  \\\n",
       "0                           603.0                       2195.0   \n",
       "1                           624.0                       2405.0   \n",
       "2                           616.0                       2269.0   \n",
       "3                           612.0                       2360.0   \n",
       "4                           627.0                       2293.0   \n",
       "..                            ...                          ...   \n",
       "527                           NaN                          NaN   \n",
       "528                           NaN                          NaN   \n",
       "529                           NaN                          NaN   \n",
       "530                           NaN                          NaN   \n",
       "531                           NaN                          NaN   \n",
       "\n",
       "     test positive pairs_10  test negtive pairs_10  ae_auc  lstm_auc  \n",
       "0                     327.0                 1274.0  0.7304    0.7443  \n",
       "1                     339.0                 1264.0  0.7080    0.7293  \n",
       "2                     319.0                 1262.0  0.7260    0.7319  \n",
       "3                     340.0                 1252.0  0.7451    0.7361  \n",
       "4                     338.0                 1280.0  0.7474    0.7412  \n",
       "..                      ...                    ...     ...       ...  \n",
       "527                     NaN                    NaN     NaN       NaN  \n",
       "528                     1.0                    5.0     NaN       NaN  \n",
       "529                     1.0                    NaN     NaN       NaN  \n",
       "530                     NaN                    NaN     NaN       NaN  \n",
       "531                     1.0                    NaN     NaN       NaN  \n",
       "\n",
       "[532 rows x 15 columns]"
      ]
     },
     "execution_count": 37,
     "metadata": {},
     "output_type": "execute_result"
    }
   ],
   "source": [
    "output10"
   ]
  },
  {
   "cell_type": "code",
   "execution_count": 100,
   "metadata": {},
   "outputs": [],
   "source": [
    "output10_ae = output10[['train_ae positive pairs_10','train_ae negtive pairs_10','ae_auc']].dropna(subset=['ae_auc'])"
   ]
  },
  {
   "cell_type": "code",
   "execution_count": 101,
   "metadata": {},
   "outputs": [],
   "source": [
    "sum_column = output10_ae[\"train_ae positive pairs_10\"] + output10_ae[\"train_ae negtive pairs_10\"]\n",
    "output10_ae[\"aepairs10\"] = sum_column\n",
    "output10_ae = output10_ae[['ae_auc','aepairs10']]\n",
    "output10_ae = output10_ae.sort_values('aepairs10')"
   ]
  },
  {
   "cell_type": "code",
   "execution_count": 138,
   "metadata": {},
   "outputs": [
    {
     "data": {
      "text/plain": [
       "43"
      ]
     },
     "execution_count": 138,
     "metadata": {},
     "output_type": "execute_result"
    }
   ],
   "source": [
    "len(output10_ae[output10_ae['ae_auc']>0.8])"
   ]
  },
  {
   "cell_type": "code",
   "execution_count": 89,
   "metadata": {},
   "outputs": [],
   "source": [
    "new10 = output10_ae[output10_ae['aepairs10']<=3000]"
   ]
  },
  {
   "cell_type": "code",
   "execution_count": 60,
   "metadata": {},
   "outputs": [],
   "source": [
    "output10_lstm = output10[['train positive pairs_10','train negtive pairs_10','lstm_auc']].dropna(subset=['lstm_auc'])"
   ]
  },
  {
   "cell_type": "code",
   "execution_count": 104,
   "metadata": {},
   "outputs": [],
   "source": [
    "sum_column_lstm = output10_lstm[\"train positive pairs_10\"] + output10_lstm[\"train negtive pairs_10\"]\n",
    "output10_lstm[\"lstmpairs10\"] = sum_column_lstm\n",
    "output10_lstm = output10_lstm[['lstm_auc','lstmpairs10']]\n",
    "output10_lstm = output10_lstm.sort_values('lstmpairs10')"
   ]
  },
  {
   "cell_type": "code",
   "execution_count": 136,
   "metadata": {},
   "outputs": [
    {
     "data": {
      "text/html": [
       "<div>\n",
       "<style scoped>\n",
       "    .dataframe tbody tr th:only-of-type {\n",
       "        vertical-align: middle;\n",
       "    }\n",
       "\n",
       "    .dataframe tbody tr th {\n",
       "        vertical-align: top;\n",
       "    }\n",
       "\n",
       "    .dataframe thead th {\n",
       "        text-align: right;\n",
       "    }\n",
       "</style>\n",
       "<table border=\"1\" class=\"dataframe\">\n",
       "  <thead>\n",
       "    <tr style=\"text-align: right;\">\n",
       "      <th></th>\n",
       "      <th>lstm_auc</th>\n",
       "      <th>lstmpairs10</th>\n",
       "    </tr>\n",
       "  </thead>\n",
       "  <tbody>\n",
       "    <tr>\n",
       "      <td>233</td>\n",
       "      <td>0.8071</td>\n",
       "      <td>318.0</td>\n",
       "    </tr>\n",
       "    <tr>\n",
       "      <td>192</td>\n",
       "      <td>0.9591</td>\n",
       "      <td>327.0</td>\n",
       "    </tr>\n",
       "    <tr>\n",
       "      <td>201</td>\n",
       "      <td>0.8036</td>\n",
       "      <td>346.0</td>\n",
       "    </tr>\n",
       "    <tr>\n",
       "      <td>220</td>\n",
       "      <td>0.8059</td>\n",
       "      <td>364.0</td>\n",
       "    </tr>\n",
       "    <tr>\n",
       "      <td>197</td>\n",
       "      <td>0.8917</td>\n",
       "      <td>368.0</td>\n",
       "    </tr>\n",
       "    <tr>\n",
       "      <td>...</td>\n",
       "      <td>...</td>\n",
       "      <td>...</td>\n",
       "    </tr>\n",
       "    <tr>\n",
       "      <td>18</td>\n",
       "      <td>0.8457</td>\n",
       "      <td>4937.0</td>\n",
       "    </tr>\n",
       "    <tr>\n",
       "      <td>24</td>\n",
       "      <td>0.8814</td>\n",
       "      <td>4950.0</td>\n",
       "    </tr>\n",
       "    <tr>\n",
       "      <td>14</td>\n",
       "      <td>0.8616</td>\n",
       "      <td>4979.0</td>\n",
       "    </tr>\n",
       "    <tr>\n",
       "      <td>17</td>\n",
       "      <td>0.8242</td>\n",
       "      <td>5021.0</td>\n",
       "    </tr>\n",
       "    <tr>\n",
       "      <td>12</td>\n",
       "      <td>0.8795</td>\n",
       "      <td>5151.0</td>\n",
       "    </tr>\n",
       "  </tbody>\n",
       "</table>\n",
       "<p>110 rows × 2 columns</p>\n",
       "</div>"
      ],
      "text/plain": [
       "     lstm_auc  lstmpairs10\n",
       "233    0.8071        318.0\n",
       "192    0.9591        327.0\n",
       "201    0.8036        346.0\n",
       "220    0.8059        364.0\n",
       "197    0.8917        368.0\n",
       "..        ...          ...\n",
       "18     0.8457       4937.0\n",
       "24     0.8814       4950.0\n",
       "14     0.8616       4979.0\n",
       "17     0.8242       5021.0\n",
       "12     0.8795       5151.0\n",
       "\n",
       "[110 rows x 2 columns]"
      ]
     },
     "execution_count": 136,
     "metadata": {},
     "output_type": "execute_result"
    }
   ],
   "source": [
    "output10_lstm[output10_lstm['lstm_auc']>0.8]"
   ]
  },
  {
   "cell_type": "code",
   "execution_count": null,
   "metadata": {},
   "outputs": [],
   "source": []
  },
  {
   "cell_type": "code",
   "execution_count": 145,
   "metadata": {},
   "outputs": [
    {
     "data": {
      "image/png": "[encoded data removed]",
      "text/plain": [
       "<Figure size 864x432 with 1 Axes>"
      ]
     },
     "metadata": {
      "needs_background": "light"
     },
     "output_type": "display_data"
    }
   ],
   "source": [
    "\n",
    "fig, ax = plt.subplots(figsize=(12,6))\n",
    "line1, = ax.plot(list(output10_ae['aepairs10']), list(output10_ae['ae_auc']), '--', alpha = 0.8, label='AE_auc10')\n",
    "\n",
    "line2, = ax.plot(list(output10_lstm['lstmpairs10']), list(output10_lstm['lstm_auc']), '-', alpha = 0.7, label='LSTM_auc10')\n",
    "ax.set_ylabel('AUC')\n",
    "ax.set_xlabel('Number of training pairs')\n",
    "ax.set_title('AUCs of single peptide with different number of binding TCRs in train data_10')\n",
    "ax.legend(loc='lower right')\n",
    "plt.show()"
   ]
  },
  {
   "cell_type": "code",
   "execution_count": 95,
   "metadata": {},
   "outputs": [],
   "source": [
    "new10 = new10.sort_values('aepairs10')"
   ]
  },
  {
   "cell_type": "code",
   "execution_count": null,
   "metadata": {},
   "outputs": [],
   "source": []
  },
  {
   "cell_type": "code",
   "execution_count": 107,
   "metadata": {},
   "outputs": [],
   "source": [
    "output20 = pd.read_csv('output20.csv')"
   ]
  },
  {
   "cell_type": "code",
   "execution_count": 108,
   "metadata": {},
   "outputs": [
    {
     "data": {
      "text/html": [
       "<div>\n",
       "<style scoped>\n",
       "    .dataframe tbody tr th:only-of-type {\n",
       "        vertical-align: middle;\n",
       "    }\n",
       "\n",
       "    .dataframe tbody tr th {\n",
       "        vertical-align: top;\n",
       "    }\n",
       "\n",
       "    .dataframe thead th {\n",
       "        text-align: right;\n",
       "    }\n",
       "</style>\n",
       "<table border=\"1\" class=\"dataframe\">\n",
       "  <thead>\n",
       "    <tr style=\"text-align: right;\">\n",
       "      <th></th>\n",
       "      <th>pep</th>\n",
       "      <th>train_ae positive pairs_20</th>\n",
       "      <th>train_ae negtive pairs_20</th>\n",
       "      <th>validation_ae positive pairs_20</th>\n",
       "      <th>validation_ae negtive pairs_20</th>\n",
       "      <th>test_ae positive pairs_20</th>\n",
       "      <th>test_ae negtive pairs_20</th>\n",
       "      <th>train_lstm positive pairs_20</th>\n",
       "      <th>train_lstm negtive pairs_20</th>\n",
       "      <th>validation_lstm positive pairs_20</th>\n",
       "      <th>validation_lstm negtive pairs_20</th>\n",
       "      <th>test_lstm positive pairs_20</th>\n",
       "      <th>test_lstm negtive pairs_20</th>\n",
       "      <th>ae_auc</th>\n",
       "      <th>lstm_auc</th>\n",
       "    </tr>\n",
       "  </thead>\n",
       "  <tbody>\n",
       "    <tr>\n",
       "      <td>0</td>\n",
       "      <td>MIELSLIDFY</td>\n",
       "      <td>4835.0</td>\n",
       "      <td>18551.0</td>\n",
       "      <td>1121.0</td>\n",
       "      <td>3633.0</td>\n",
       "      <td>633.0</td>\n",
       "      <td>1866.0</td>\n",
       "      <td>4769.0</td>\n",
       "      <td>18203.0</td>\n",
       "      <td>1181.0</td>\n",
       "      <td>3878.0</td>\n",
       "      <td>633.0</td>\n",
       "      <td>1890.0</td>\n",
       "      <td>0.8107</td>\n",
       "      <td>0.8106</td>\n",
       "    </tr>\n",
       "    <tr>\n",
       "      <td>1</td>\n",
       "      <td>IELSLIDFYL</td>\n",
       "      <td>4743.0</td>\n",
       "      <td>18561.0</td>\n",
       "      <td>1132.0</td>\n",
       "      <td>3702.0</td>\n",
       "      <td>658.0</td>\n",
       "      <td>1918.0</td>\n",
       "      <td>4681.0</td>\n",
       "      <td>18164.0</td>\n",
       "      <td>1188.0</td>\n",
       "      <td>3776.0</td>\n",
       "      <td>658.0</td>\n",
       "      <td>1953.0</td>\n",
       "      <td>0.8118</td>\n",
       "      <td>0.8135</td>\n",
       "    </tr>\n",
       "    <tr>\n",
       "      <td>2</td>\n",
       "      <td>LLFLVLIML</td>\n",
       "      <td>4736.0</td>\n",
       "      <td>18573.0</td>\n",
       "      <td>1145.0</td>\n",
       "      <td>3691.0</td>\n",
       "      <td>631.0</td>\n",
       "      <td>1941.0</td>\n",
       "      <td>4730.0</td>\n",
       "      <td>18256.0</td>\n",
       "      <td>1152.0</td>\n",
       "      <td>3770.0</td>\n",
       "      <td>631.0</td>\n",
       "      <td>1988.0</td>\n",
       "      <td>0.8131</td>\n",
       "      <td>0.8123</td>\n",
       "    </tr>\n",
       "    <tr>\n",
       "      <td>3</td>\n",
       "      <td>IDFYLCFLAF</td>\n",
       "      <td>4726.0</td>\n",
       "      <td>18746.0</td>\n",
       "      <td>1198.0</td>\n",
       "      <td>3871.0</td>\n",
       "      <td>577.0</td>\n",
       "      <td>1771.0</td>\n",
       "      <td>4798.0</td>\n",
       "      <td>18703.0</td>\n",
       "      <td>1122.0</td>\n",
       "      <td>3608.0</td>\n",
       "      <td>577.0</td>\n",
       "      <td>1801.0</td>\n",
       "      <td>0.8334</td>\n",
       "      <td>0.8151</td>\n",
       "    </tr>\n",
       "    <tr>\n",
       "      <td>4</td>\n",
       "      <td>FYLCFLAFLL</td>\n",
       "      <td>4722.0</td>\n",
       "      <td>18648.0</td>\n",
       "      <td>1134.0</td>\n",
       "      <td>3615.0</td>\n",
       "      <td>621.0</td>\n",
       "      <td>2010.0</td>\n",
       "      <td>4717.0</td>\n",
       "      <td>18558.0</td>\n",
       "      <td>1141.0</td>\n",
       "      <td>3649.0</td>\n",
       "      <td>621.0</td>\n",
       "      <td>1971.0</td>\n",
       "      <td>0.8202</td>\n",
       "      <td>0.8396</td>\n",
       "    </tr>\n",
       "    <tr>\n",
       "      <td>...</td>\n",
       "      <td>...</td>\n",
       "      <td>...</td>\n",
       "      <td>...</td>\n",
       "      <td>...</td>\n",
       "      <td>...</td>\n",
       "      <td>...</td>\n",
       "      <td>...</td>\n",
       "      <td>...</td>\n",
       "      <td>...</td>\n",
       "      <td>...</td>\n",
       "      <td>...</td>\n",
       "      <td>...</td>\n",
       "      <td>...</td>\n",
       "      <td>...</td>\n",
       "      <td>...</td>\n",
       "    </tr>\n",
       "    <tr>\n",
       "      <td>534</td>\n",
       "      <td>RYRIGNYKL</td>\n",
       "      <td>1.0</td>\n",
       "      <td>10.0</td>\n",
       "      <td>NaN</td>\n",
       "      <td>NaN</td>\n",
       "      <td>1.0</td>\n",
       "      <td>5.0</td>\n",
       "      <td>1.0</td>\n",
       "      <td>10.0</td>\n",
       "      <td>NaN</td>\n",
       "      <td>NaN</td>\n",
       "      <td>1.0</td>\n",
       "      <td>5.0</td>\n",
       "      <td>NaN</td>\n",
       "      <td>NaN</td>\n",
       "    </tr>\n",
       "    <tr>\n",
       "      <td>535</td>\n",
       "      <td>TQLNRALTGI</td>\n",
       "      <td>1.0</td>\n",
       "      <td>5.0</td>\n",
       "      <td>1.0</td>\n",
       "      <td>15.0</td>\n",
       "      <td>NaN</td>\n",
       "      <td>NaN</td>\n",
       "      <td>2.0</td>\n",
       "      <td>5.0</td>\n",
       "      <td>NaN</td>\n",
       "      <td>NaN</td>\n",
       "      <td>NaN</td>\n",
       "      <td>NaN</td>\n",
       "      <td>NaN</td>\n",
       "      <td>NaN</td>\n",
       "    </tr>\n",
       "    <tr>\n",
       "      <td>536</td>\n",
       "      <td>FRYMNSQGL</td>\n",
       "      <td>NaN</td>\n",
       "      <td>NaN</td>\n",
       "      <td>1.0</td>\n",
       "      <td>NaN</td>\n",
       "      <td>NaN</td>\n",
       "      <td>NaN</td>\n",
       "      <td>NaN</td>\n",
       "      <td>NaN</td>\n",
       "      <td>1.0</td>\n",
       "      <td>10.0</td>\n",
       "      <td>NaN</td>\n",
       "      <td>NaN</td>\n",
       "      <td>NaN</td>\n",
       "      <td>NaN</td>\n",
       "    </tr>\n",
       "    <tr>\n",
       "      <td>537</td>\n",
       "      <td>IQPGQTFSV</td>\n",
       "      <td>NaN</td>\n",
       "      <td>NaN</td>\n",
       "      <td>1.0</td>\n",
       "      <td>15.0</td>\n",
       "      <td>1.0</td>\n",
       "      <td>5.0</td>\n",
       "      <td>1.0</td>\n",
       "      <td>10.0</td>\n",
       "      <td>NaN</td>\n",
       "      <td>NaN</td>\n",
       "      <td>1.0</td>\n",
       "      <td>5.0</td>\n",
       "      <td>NaN</td>\n",
       "      <td>NaN</td>\n",
       "    </tr>\n",
       "    <tr>\n",
       "      <td>538</td>\n",
       "      <td>IITTDNTFV</td>\n",
       "      <td>NaN</td>\n",
       "      <td>NaN</td>\n",
       "      <td>NaN</td>\n",
       "      <td>NaN</td>\n",
       "      <td>1.0</td>\n",
       "      <td>NaN</td>\n",
       "      <td>NaN</td>\n",
       "      <td>NaN</td>\n",
       "      <td>NaN</td>\n",
       "      <td>NaN</td>\n",
       "      <td>1.0</td>\n",
       "      <td>NaN</td>\n",
       "      <td>NaN</td>\n",
       "      <td>NaN</td>\n",
       "    </tr>\n",
       "  </tbody>\n",
       "</table>\n",
       "<p>539 rows × 15 columns</p>\n",
       "</div>"
      ],
      "text/plain": [
       "            pep  train_ae positive pairs_20  train_ae negtive pairs_20  \\\n",
       "0    MIELSLIDFY                      4835.0                    18551.0   \n",
       "1    IELSLIDFYL                      4743.0                    18561.0   \n",
       "2     LLFLVLIML                      4736.0                    18573.0   \n",
       "3    IDFYLCFLAF                      4726.0                    18746.0   \n",
       "4    FYLCFLAFLL                      4722.0                    18648.0   \n",
       "..          ...                         ...                        ...   \n",
       "534   RYRIGNYKL                         1.0                       10.0   \n",
       "535  TQLNRALTGI                         1.0                        5.0   \n",
       "536   FRYMNSQGL                         NaN                        NaN   \n",
       "537   IQPGQTFSV                         NaN                        NaN   \n",
       "538   IITTDNTFV                         NaN                        NaN   \n",
       "\n",
       "     validation_ae positive pairs_20  validation_ae negtive pairs_20  \\\n",
       "0                             1121.0                          3633.0   \n",
       "1                             1132.0                          3702.0   \n",
       "2                             1145.0                          3691.0   \n",
       "3                             1198.0                          3871.0   \n",
       "4                             1134.0                          3615.0   \n",
       "..                               ...                             ...   \n",
       "534                              NaN                             NaN   \n",
       "535                              1.0                            15.0   \n",
       "536                              1.0                             NaN   \n",
       "537                              1.0                            15.0   \n",
       "538                              NaN                             NaN   \n",
       "\n",
       "     test_ae positive pairs_20  test_ae negtive pairs_20  \\\n",
       "0                        633.0                    1866.0   \n",
       "1                        658.0                    1918.0   \n",
       "2                        631.0                    1941.0   \n",
       "3                        577.0                    1771.0   \n",
       "4                        621.0                    2010.0   \n",
       "..                         ...                       ...   \n",
       "534                        1.0                       5.0   \n",
       "535                        NaN                       NaN   \n",
       "536                        NaN                       NaN   \n",
       "537                        1.0                       5.0   \n",
       "538                        1.0                       NaN   \n",
       "\n",
       "     train_lstm positive pairs_20  train_lstm negtive pairs_20  \\\n",
       "0                          4769.0                      18203.0   \n",
       "1                          4681.0                      18164.0   \n",
       "2                          4730.0                      18256.0   \n",
       "3                          4798.0                      18703.0   \n",
       "4                          4717.0                      18558.0   \n",
       "..                            ...                          ...   \n",
       "534                           1.0                         10.0   \n",
       "535                           2.0                          5.0   \n",
       "536                           NaN                          NaN   \n",
       "537                           1.0                         10.0   \n",
       "538                           NaN                          NaN   \n",
       "\n",
       "     validation_lstm positive pairs_20  validation_lstm negtive pairs_20  \\\n",
       "0                               1181.0                            3878.0   \n",
       "1                               1188.0                            3776.0   \n",
       "2                               1152.0                            3770.0   \n",
       "3                               1122.0                            3608.0   \n",
       "4                               1141.0                            3649.0   \n",
       "..                                 ...                               ...   \n",
       "534                                NaN                               NaN   \n",
       "535                                NaN                               NaN   \n",
       "536                                1.0                              10.0   \n",
       "537                                NaN                               NaN   \n",
       "538                                NaN                               NaN   \n",
       "\n",
       "     test_lstm positive pairs_20  test_lstm negtive pairs_20  ae_auc  lstm_auc  \n",
       "0                          633.0                      1890.0  0.8107    0.8106  \n",
       "1                          658.0                      1953.0  0.8118    0.8135  \n",
       "2                          631.0                      1988.0  0.8131    0.8123  \n",
       "3                          577.0                      1801.0  0.8334    0.8151  \n",
       "4                          621.0                      1971.0  0.8202    0.8396  \n",
       "..                           ...                         ...     ...       ...  \n",
       "534                          1.0                         5.0     NaN       NaN  \n",
       "535                          NaN                         NaN     NaN       NaN  \n",
       "536                          NaN                         NaN     NaN       NaN  \n",
       "537                          1.0                         5.0     NaN       NaN  \n",
       "538                          1.0                         NaN     NaN       NaN  \n",
       "\n",
       "[539 rows x 15 columns]"
      ]
     },
     "execution_count": 108,
     "metadata": {},
     "output_type": "execute_result"
    }
   ],
   "source": [
    "output20"
   ]
  },
  {
   "cell_type": "code",
   "execution_count": 109,
   "metadata": {},
   "outputs": [],
   "source": [
    "output20_ae = output20[['train_ae positive pairs_20','train_ae negtive pairs_20','ae_auc']].dropna(subset=['ae_auc'])"
   ]
  },
  {
   "cell_type": "code",
   "execution_count": 111,
   "metadata": {},
   "outputs": [],
   "source": [
    "sum_column_20 = output20_ae[\"train_ae positive pairs_20\"] + output20_ae[\"train_ae negtive pairs_20\"]\n",
    "output20_ae[\"aepairs20\"] = sum_column_20\n",
    "output20_ae = output20_ae[['ae_auc','aepairs20']]\n",
    "output20_ae = output20_ae.sort_values('aepairs20')"
   ]
  },
  {
   "cell_type": "code",
   "execution_count": 143,
   "metadata": {},
   "outputs": [
    {
     "data": {
      "text/html": [
       "<div>\n",
       "<style scoped>\n",
       "    .dataframe tbody tr th:only-of-type {\n",
       "        vertical-align: middle;\n",
       "    }\n",
       "\n",
       "    .dataframe tbody tr th {\n",
       "        vertical-align: top;\n",
       "    }\n",
       "\n",
       "    .dataframe thead th {\n",
       "        text-align: right;\n",
       "    }\n",
       "</style>\n",
       "<table border=\"1\" class=\"dataframe\">\n",
       "  <thead>\n",
       "    <tr style=\"text-align: right;\">\n",
       "      <th></th>\n",
       "      <th>ae_auc</th>\n",
       "      <th>aepairs20</th>\n",
       "    </tr>\n",
       "  </thead>\n",
       "  <tbody>\n",
       "    <tr>\n",
       "      <td>322</td>\n",
       "      <td>0.8125</td>\n",
       "      <td>227.0</td>\n",
       "    </tr>\n",
       "    <tr>\n",
       "      <td>317</td>\n",
       "      <td>0.9216</td>\n",
       "      <td>230.0</td>\n",
       "    </tr>\n",
       "    <tr>\n",
       "      <td>293</td>\n",
       "      <td>0.8106</td>\n",
       "      <td>275.0</td>\n",
       "    </tr>\n",
       "    <tr>\n",
       "      <td>265</td>\n",
       "      <td>0.8109</td>\n",
       "      <td>434.0</td>\n",
       "    </tr>\n",
       "    <tr>\n",
       "      <td>245</td>\n",
       "      <td>0.8051</td>\n",
       "      <td>516.0</td>\n",
       "    </tr>\n",
       "    <tr>\n",
       "      <td>...</td>\n",
       "      <td>...</td>\n",
       "      <td>...</td>\n",
       "    </tr>\n",
       "    <tr>\n",
       "      <td>1</td>\n",
       "      <td>0.8118</td>\n",
       "      <td>23304.0</td>\n",
       "    </tr>\n",
       "    <tr>\n",
       "      <td>2</td>\n",
       "      <td>0.8131</td>\n",
       "      <td>23309.0</td>\n",
       "    </tr>\n",
       "    <tr>\n",
       "      <td>4</td>\n",
       "      <td>0.8202</td>\n",
       "      <td>23370.0</td>\n",
       "    </tr>\n",
       "    <tr>\n",
       "      <td>0</td>\n",
       "      <td>0.8107</td>\n",
       "      <td>23386.0</td>\n",
       "    </tr>\n",
       "    <tr>\n",
       "      <td>3</td>\n",
       "      <td>0.8334</td>\n",
       "      <td>23472.0</td>\n",
       "    </tr>\n",
       "  </tbody>\n",
       "</table>\n",
       "<p>99 rows × 2 columns</p>\n",
       "</div>"
      ],
      "text/plain": [
       "     ae_auc  aepairs20\n",
       "322  0.8125      227.0\n",
       "317  0.9216      230.0\n",
       "293  0.8106      275.0\n",
       "265  0.8109      434.0\n",
       "245  0.8051      516.0\n",
       "..      ...        ...\n",
       "1    0.8118    23304.0\n",
       "2    0.8131    23309.0\n",
       "4    0.8202    23370.0\n",
       "0    0.8107    23386.0\n",
       "3    0.8334    23472.0\n",
       "\n",
       "[99 rows x 2 columns]"
      ]
     },
     "execution_count": 143,
     "metadata": {},
     "output_type": "execute_result"
    }
   ],
   "source": [
    "output20_ae[output20_ae['ae_auc']>0.8]"
   ]
  },
  {
   "cell_type": "code",
   "execution_count": 113,
   "metadata": {},
   "outputs": [],
   "source": [
    "output20_lstm = output20[['train_lstm positive pairs_20','train_lstm negtive pairs_20','lstm_auc']].dropna(subset=['lstm_auc'])"
   ]
  },
  {
   "cell_type": "code",
   "execution_count": 114,
   "metadata": {},
   "outputs": [],
   "source": [
    "sum_column_lstm20 = output20_lstm[\"train_lstm positive pairs_20\"] + output20_lstm[\"train_lstm negtive pairs_20\"]\n",
    "output20_lstm[\"lstmpairs20\"] = sum_column_lstm20\n",
    "output20_lstm = output20_lstm[['lstm_auc','lstmpairs20']]\n",
    "output20_lstm = output20_lstm.sort_values('lstmpairs20')"
   ]
  },
  {
   "cell_type": "code",
   "execution_count": 144,
   "metadata": {},
   "outputs": [
    {
     "data": {
      "text/html": [
       "<div>\n",
       "<style scoped>\n",
       "    .dataframe tbody tr th:only-of-type {\n",
       "        vertical-align: middle;\n",
       "    }\n",
       "\n",
       "    .dataframe tbody tr th {\n",
       "        vertical-align: top;\n",
       "    }\n",
       "\n",
       "    .dataframe thead th {\n",
       "        text-align: right;\n",
       "    }\n",
       "</style>\n",
       "<table border=\"1\" class=\"dataframe\">\n",
       "  <thead>\n",
       "    <tr style=\"text-align: right;\">\n",
       "      <th></th>\n",
       "      <th>lstm_auc</th>\n",
       "      <th>lstmpairs20</th>\n",
       "    </tr>\n",
       "  </thead>\n",
       "  <tbody>\n",
       "    <tr>\n",
       "      <td>317</td>\n",
       "      <td>0.9804</td>\n",
       "      <td>264.0</td>\n",
       "    </tr>\n",
       "    <tr>\n",
       "      <td>296</td>\n",
       "      <td>0.8182</td>\n",
       "      <td>274.0</td>\n",
       "    </tr>\n",
       "    <tr>\n",
       "      <td>266</td>\n",
       "      <td>0.9195</td>\n",
       "      <td>316.0</td>\n",
       "    </tr>\n",
       "    <tr>\n",
       "      <td>271</td>\n",
       "      <td>0.8655</td>\n",
       "      <td>369.0</td>\n",
       "    </tr>\n",
       "    <tr>\n",
       "      <td>265</td>\n",
       "      <td>0.9433</td>\n",
       "      <td>380.0</td>\n",
       "    </tr>\n",
       "    <tr>\n",
       "      <td>...</td>\n",
       "      <td>...</td>\n",
       "      <td>...</td>\n",
       "    </tr>\n",
       "    <tr>\n",
       "      <td>2</td>\n",
       "      <td>0.8123</td>\n",
       "      <td>22986.0</td>\n",
       "    </tr>\n",
       "    <tr>\n",
       "      <td>4</td>\n",
       "      <td>0.8396</td>\n",
       "      <td>23275.0</td>\n",
       "    </tr>\n",
       "    <tr>\n",
       "      <td>10</td>\n",
       "      <td>0.8367</td>\n",
       "      <td>23338.0</td>\n",
       "    </tr>\n",
       "    <tr>\n",
       "      <td>3</td>\n",
       "      <td>0.8151</td>\n",
       "      <td>23501.0</td>\n",
       "    </tr>\n",
       "    <tr>\n",
       "      <td>6</td>\n",
       "      <td>0.8086</td>\n",
       "      <td>23502.0</td>\n",
       "    </tr>\n",
       "  </tbody>\n",
       "</table>\n",
       "<p>210 rows × 2 columns</p>\n",
       "</div>"
      ],
      "text/plain": [
       "     lstm_auc  lstmpairs20\n",
       "317    0.9804        264.0\n",
       "296    0.8182        274.0\n",
       "266    0.9195        316.0\n",
       "271    0.8655        369.0\n",
       "265    0.9433        380.0\n",
       "..        ...          ...\n",
       "2      0.8123      22986.0\n",
       "4      0.8396      23275.0\n",
       "10     0.8367      23338.0\n",
       "3      0.8151      23501.0\n",
       "6      0.8086      23502.0\n",
       "\n",
       "[210 rows x 2 columns]"
      ]
     },
     "execution_count": 144,
     "metadata": {},
     "output_type": "execute_result"
    }
   ],
   "source": [
    "output20_lstm[output20_lstm['lstm_auc']>0.8]"
   ]
  },
  {
   "cell_type": "code",
   "execution_count": 146,
   "metadata": {},
   "outputs": [
    {
     "data": {
      "image/png": "[encoded data removed]",
      "text/plain": [
       "<Figure size 864x432 with 1 Axes>"
      ]
     },
     "metadata": {
      "needs_background": "light"
     },
     "output_type": "display_data"
    }
   ],
   "source": [
    "\n",
    "fig, ax = plt.subplots(figsize=(12,6))\n",
    "line1, = ax.plot(list(output20_ae['aepairs20']), list(output20_ae['ae_auc']), '--', alpha = 0.8, label='AE_auc20')\n",
    "\n",
    "line2, = ax.plot(list(output20_lstm['lstmpairs20']), list(output20_lstm['lstm_auc']), '-', alpha = 0.6, label='LSTM_auc20')\n",
    "ax.set_ylabel('AUC')\n",
    "ax.set_xlabel('Number of training pairs')\n",
    "ax.set_title('AUCs of single peptide with different number of binding TCRs in train data_20')\n",
    "ax.legend(loc='lower right')\n",
    "plt.show()"
   ]
  },
  {
   "cell_type": "code",
   "execution_count": null,
   "metadata": {},
   "outputs": [],
   "source": []
  }
 ],
 "metadata": {
  "kernelspec": {
   "display_name": "Python 3",
   "language": "python",
   "name": "python3"
  },
  "language_info": {
   "codemirror_mode": {
    "name": "ipython",
    "version": 3
   },
   "file_extension": ".py",
   "mimetype": "text/x-python",
   "name": "python",
   "nbconvert_exporter": "python",
   "pygments_lexer": "ipython3",
   "version": "3.7.4"
  }
 },
 "nbformat": 4,
 "nbformat_minor": 2
}
